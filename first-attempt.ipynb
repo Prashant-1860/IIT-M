{
 "cells": [
  {
   "cell_type": "code",
   "execution_count": 1,
   "id": "53bf70cb",
   "metadata": {
    "_cell_guid": "b1076dfc-b9ad-4769-8c92-a6c4dae69d19",
    "_uuid": "8f2839f25d086af736a60e9eeb907d3b93b6e0e5",
    "execution": {
     "iopub.execute_input": "2022-10-04T10:21:09.115930Z",
     "iopub.status.busy": "2022-10-04T10:21:09.115155Z",
     "iopub.status.idle": "2022-10-04T10:21:09.129029Z",
     "shell.execute_reply": "2022-10-04T10:21:09.127892Z"
    },
    "papermill": {
     "duration": 0.033298,
     "end_time": "2022-10-04T10:21:09.131559",
     "exception": false,
     "start_time": "2022-10-04T10:21:09.098261",
     "status": "completed"
    },
    "tags": []
   },
   "outputs": [
    {
     "name": "stdout",
     "output_type": "stream",
     "text": [
      "/kaggle/input/marketing-strategy-personalised-offer/sample.csv\n",
      "/kaggle/input/marketing-strategy-personalised-offer/train_data.csv\n",
      "/kaggle/input/marketing-strategy-personalised-offer/test_data.csv\n"
     ]
    }
   ],
   "source": [
    "# This Python 3 environment comes with many helpful analytics libraries installed\n",
    "# It is defined by the kaggle/python Docker image: https://github.com/kaggle/docker-python\n",
    "# For example, here's several helpful packages to load\n",
    "\n",
    "import numpy as np # linear algebra\n",
    "import pandas as pd # data processing, CSV file I/O (e.g. pd.read_csv)\n",
    "\n",
    "# Input data files are available in the read-only \"../input/\" directory\n",
    "# For example, running this (by clicking run or pressing Shift+Enter) will list all files under the input directory\n",
    "\n",
    "import os\n",
    "for dirname, _, filenames in os.walk('/kaggle/input'):\n",
    "    for filename in filenames:\n",
    "        print(os.path.join(dirname, filename))\n",
    "\n",
    "# You can write up to 20GB to the current directory (/kaggle/working/) that gets preserved as output when you create a version using \"Save & Run All\" \n",
    "# You can also write temporary files to /kaggle/temp/, but they won't be saved outside of the current session"
   ]
  },
  {
   "cell_type": "code",
   "execution_count": 2,
   "id": "31be25fe",
   "metadata": {
    "execution": {
     "iopub.execute_input": "2022-10-04T10:21:09.156793Z",
     "iopub.status.busy": "2022-10-04T10:21:09.155765Z",
     "iopub.status.idle": "2022-10-04T10:21:10.104470Z",
     "shell.execute_reply": "2022-10-04T10:21:10.103415Z"
    },
    "papermill": {
     "duration": 0.964056,
     "end_time": "2022-10-04T10:21:10.107093",
     "exception": false,
     "start_time": "2022-10-04T10:21:09.143037",
     "status": "completed"
    },
    "tags": []
   },
   "outputs": [],
   "source": [
    "import pandas as pd\n",
    "import matplotlib.pyplot as plt\n",
    "import seaborn as sns\n",
    "import numpy as np"
   ]
  },
  {
   "cell_type": "code",
   "execution_count": 3,
   "id": "4d7af9a9",
   "metadata": {
    "execution": {
     "iopub.execute_input": "2022-10-04T10:21:10.132843Z",
     "iopub.status.busy": "2022-10-04T10:21:10.131915Z",
     "iopub.status.idle": "2022-10-04T10:21:10.247538Z",
     "shell.execute_reply": "2022-10-04T10:21:10.246290Z"
    },
    "papermill": {
     "duration": 0.131273,
     "end_time": "2022-10-04T10:21:10.250138",
     "exception": false,
     "start_time": "2022-10-04T10:21:10.118865",
     "status": "completed"
    },
    "tags": []
   },
   "outputs": [],
   "source": [
    "data_mkt = pd.read_csv(\"/kaggle/input/marketing-strategy-personalised-offer/train_data.csv\")"
   ]
  },
  {
   "cell_type": "code",
   "execution_count": 4,
   "id": "96c70a92",
   "metadata": {
    "execution": {
     "iopub.execute_input": "2022-10-04T10:21:10.278184Z",
     "iopub.status.busy": "2022-10-04T10:21:10.277031Z",
     "iopub.status.idle": "2022-10-04T10:21:10.314365Z",
     "shell.execute_reply": "2022-10-04T10:21:10.313144Z"
    },
    "papermill": {
     "duration": 0.053503,
     "end_time": "2022-10-04T10:21:10.317105",
     "exception": false,
     "start_time": "2022-10-04T10:21:10.263602",
     "status": "completed"
    },
    "tags": []
   },
   "outputs": [
    {
     "name": "stdout",
     "output_type": "stream",
     "text": [
      "<class 'pandas.core.frame.DataFrame'>\n",
      "RangeIndex: 12379 entries, 0 to 12378\n",
      "Data columns (total 31 columns):\n",
      " #   Column                                Non-Null Count  Dtype \n",
      "---  ------                                --------------  ----- \n",
      " 0   offer expiration                      12379 non-null  object\n",
      " 1   income_range                          12379 non-null  object\n",
      " 2   no_visited_Cold drinks                12181 non-null  object\n",
      " 3   travelled_more_than_15mins_for_offer  12379 non-null  int64 \n",
      " 4   Restaur_spend_less_than20             12258 non-null  object\n",
      " 5   Marital Status                        12379 non-null  object\n",
      " 6   restaurant type                       12379 non-null  object\n",
      " 7   age                                   12379 non-null  object\n",
      " 8   Prefer western over chinese           12379 non-null  int64 \n",
      " 9   travelled_more_than_25mins_for_offer  12379 non-null  int64 \n",
      " 10  travelled_more_than_5mins_for_offer   12379 non-null  int64 \n",
      " 11  no_visited_bars                       12286 non-null  object\n",
      " 12  gender                                12379 non-null  object\n",
      " 13  car                                   111 non-null    object\n",
      " 14  restuarant_same_direction_house       12379 non-null  int64 \n",
      " 15  Cooks regularly                       12379 non-null  int64 \n",
      " 16  Customer type                         12379 non-null  object\n",
      " 17  Qualification                         12379 non-null  object\n",
      " 18  is foodie                             12379 non-null  int64 \n",
      " 19  no_Take-aways                         12235 non-null  object\n",
      " 20  Job/Job Industry                      12379 non-null  object\n",
      " 21  restuarant_opposite_direction_house   12379 non-null  int64 \n",
      " 22  has Children                          12379 non-null  int64 \n",
      " 23  visit restaurant with rating (avg)    12379 non-null  int64 \n",
      " 24  temperature                           12379 non-null  int64 \n",
      " 25  Restaur_spend_greater_than20          12219 non-null  object\n",
      " 26  Travel Time                           12379 non-null  int64 \n",
      " 27  Climate                               12379 non-null  object\n",
      " 28  drop location                         12379 non-null  object\n",
      " 29  Prefer home food                      12379 non-null  int64 \n",
      " 30  Offer Accepted                        12379 non-null  object\n",
      "dtypes: int64(13), object(18)\n",
      "memory usage: 2.9+ MB\n"
     ]
    }
   ],
   "source": [
    "data_mkt.info()"
   ]
  },
  {
   "cell_type": "code",
   "execution_count": 5,
   "id": "f9d488f5",
   "metadata": {
    "execution": {
     "iopub.execute_input": "2022-10-04T10:21:10.343534Z",
     "iopub.status.busy": "2022-10-04T10:21:10.343107Z",
     "iopub.status.idle": "2022-10-04T10:21:10.371640Z",
     "shell.execute_reply": "2022-10-04T10:21:10.370526Z"
    },
    "papermill": {
     "duration": 0.045291,
     "end_time": "2022-10-04T10:21:10.374760",
     "exception": false,
     "start_time": "2022-10-04T10:21:10.329469",
     "status": "completed"
    },
    "tags": []
   },
   "outputs": [
    {
     "data": {
      "text/plain": [
       "<bound method NDFrame.describe of       offer expiration     income_range no_visited_Cold drinks  \\\n",
       "0                2days  ₹100000 or More                    4~8   \n",
       "1                2days  ₹87500 - ₹99999                    4~8   \n",
       "2                2days  ₹87500 - ₹99999                  less1   \n",
       "3              10hours  ₹37500 - ₹49999                  less1   \n",
       "4                2days  ₹100000 or More                  never   \n",
       "...                ...              ...                    ...   \n",
       "12374          10hours  ₹25000 - ₹37499                  less1   \n",
       "12375            2days  ₹25000 - ₹37499                    4~8   \n",
       "12376          10hours  ₹87500 - ₹99999                    4~8   \n",
       "12377          10hours  ₹12500 - ₹24999                    4~8   \n",
       "12378            2days  ₹37500 - ₹49999                    1~3   \n",
       "\n",
       "       travelled_more_than_15mins_for_offer Restaur_spend_less_than20  \\\n",
       "0                                         1                     less1   \n",
       "1                                         0                       4~8   \n",
       "2                                         1                       1~3   \n",
       "3                                         0                       1~3   \n",
       "4                                         1                       1~3   \n",
       "...                                     ...                       ...   \n",
       "12374                                     1                       gt8   \n",
       "12375                                     0                     never   \n",
       "12376                                     1                       gt8   \n",
       "12377                                     1                     less1   \n",
       "12378                                     1                     less1   \n",
       "\n",
       "          Marital Status       restaurant type      age  \\\n",
       "0        Married partner     4 star restaurant       36   \n",
       "1        Married partner  Take-away restaurant   50plus   \n",
       "2                 Single           Cold drinks       26   \n",
       "3                 Single  Take-away restaurant       46   \n",
       "4                 Single     4 star restaurant       21   \n",
       "...                  ...                   ...      ...   \n",
       "12374  Unmarried partner   Restaurant with pub   50plus   \n",
       "12375             Single  Take-away restaurant       21   \n",
       "12376    Married partner           Cold drinks       31   \n",
       "12377    Married partner     2 star restaurant       26   \n",
       "12378  Unmarried partner     4 star restaurant  below21   \n",
       "\n",
       "       Prefer western over chinese  travelled_more_than_25mins_for_offer  ...  \\\n",
       "0                                0                                     0  ...   \n",
       "1                                0                                     0  ...   \n",
       "2                                1                                     0  ...   \n",
       "3                                1                                     0  ...   \n",
       "4                                0                                     1  ...   \n",
       "...                            ...                                   ...  ...   \n",
       "12374                            0                                     0  ...   \n",
       "12375                            0                                     0  ...   \n",
       "12376                            0                                     1  ...   \n",
       "12377                            0                                     0  ...   \n",
       "12378                            1                                     0  ...   \n",
       "\n",
       "       restuarant_opposite_direction_house has Children  \\\n",
       "0                                        0            0   \n",
       "1                                        0            1   \n",
       "2                                        1            1   \n",
       "3                                        0            1   \n",
       "4                                        1            0   \n",
       "...                                    ...          ...   \n",
       "12374                                    1            1   \n",
       "12375                                    1            1   \n",
       "12376                                    1            0   \n",
       "12377                                    1            0   \n",
       "12378                                    1            0   \n",
       "\n",
       "      visit restaurant with rating (avg) temperature  \\\n",
       "0                                      4          67   \n",
       "1                                      3          89   \n",
       "2                                      4          67   \n",
       "3                                      3          89   \n",
       "4                                      3          40   \n",
       "...                                  ...         ...   \n",
       "12374                                  1          89   \n",
       "12375                                  2          67   \n",
       "12376                                  2          89   \n",
       "12377                                  1          89   \n",
       "12378                                  0          67   \n",
       "\n",
       "       Restaur_spend_greater_than20  Travel Time Climate drop location  \\\n",
       "0                             less1           22  Spring    Location B   \n",
       "1                               1~3           18  Summer    Location B   \n",
       "2                             less1            7  Winter    Location A   \n",
       "3                               1~3            7  Summer    Location C   \n",
       "4                             less1            7  Summer    Location C   \n",
       "...                             ...          ...     ...           ...   \n",
       "12374                         never           22  Summer    Location B   \n",
       "12375                         never           18  Summer    Location B   \n",
       "12376                           gt8           18  Spring    Location B   \n",
       "12377                         less1            7  Summer    Location C   \n",
       "12378                         less1            7  Spring    Location A   \n",
       "\n",
       "       Prefer home food Offer Accepted  \n",
       "0                     0             No  \n",
       "1                     0            Yes  \n",
       "2                     1            Yes  \n",
       "3                     0             No  \n",
       "4                     0             No  \n",
       "...                 ...            ...  \n",
       "12374                 0            Yes  \n",
       "12375                 0            Yes  \n",
       "12376                 1             No  \n",
       "12377                 0            Yes  \n",
       "12378                 1            Yes  \n",
       "\n",
       "[12379 rows x 31 columns]>"
      ]
     },
     "execution_count": 5,
     "metadata": {},
     "output_type": "execute_result"
    }
   ],
   "source": [
    "data_mkt.describe"
   ]
  },
  {
   "cell_type": "code",
   "execution_count": 6,
   "id": "99156dc6",
   "metadata": {
    "execution": {
     "iopub.execute_input": "2022-10-04T10:21:10.401478Z",
     "iopub.status.busy": "2022-10-04T10:21:10.401039Z",
     "iopub.status.idle": "2022-10-04T10:21:10.409373Z",
     "shell.execute_reply": "2022-10-04T10:21:10.408229Z"
    },
    "papermill": {
     "duration": 0.024414,
     "end_time": "2022-10-04T10:21:10.411630",
     "exception": false,
     "start_time": "2022-10-04T10:21:10.387216",
     "status": "completed"
    },
    "tags": []
   },
   "outputs": [
    {
     "data": {
      "text/plain": [
       "array(['₹100000 or More', '₹87500 - ₹99999', '₹37500 - ₹49999',\n",
       "       'Less than ₹12500', '₹50000 - ₹62499', '₹12500 - ₹24999',\n",
       "       '₹75000 - ₹87499', '₹25000 - ₹37499', '₹62500 - ₹74999'],\n",
       "      dtype=object)"
      ]
     },
     "execution_count": 6,
     "metadata": {},
     "output_type": "execute_result"
    }
   ],
   "source": [
    "data_mkt[\"income_range\"].unique()"
   ]
  },
  {
   "cell_type": "code",
   "execution_count": 7,
   "id": "ed70ee86",
   "metadata": {
    "execution": {
     "iopub.execute_input": "2022-10-04T10:21:10.438521Z",
     "iopub.status.busy": "2022-10-04T10:21:10.438108Z",
     "iopub.status.idle": "2022-10-04T10:21:10.444862Z",
     "shell.execute_reply": "2022-10-04T10:21:10.443582Z"
    },
    "papermill": {
     "duration": 0.023164,
     "end_time": "2022-10-04T10:21:10.447132",
     "exception": false,
     "start_time": "2022-10-04T10:21:10.423968",
     "status": "completed"
    },
    "tags": []
   },
   "outputs": [
    {
     "data": {
      "text/plain": [
       "31"
      ]
     },
     "execution_count": 7,
     "metadata": {},
     "output_type": "execute_result"
    }
   ],
   "source": [
    "len(data_mkt.columns)"
   ]
  },
  {
   "cell_type": "code",
   "execution_count": 8,
   "id": "ee5b174c",
   "metadata": {
    "execution": {
     "iopub.execute_input": "2022-10-04T10:21:10.474245Z",
     "iopub.status.busy": "2022-10-04T10:21:10.473446Z",
     "iopub.status.idle": "2022-10-04T10:21:10.481600Z",
     "shell.execute_reply": "2022-10-04T10:21:10.480658Z"
    },
    "papermill": {
     "duration": 0.024068,
     "end_time": "2022-10-04T10:21:10.483734",
     "exception": false,
     "start_time": "2022-10-04T10:21:10.459666",
     "status": "completed"
    },
    "tags": []
   },
   "outputs": [
    {
     "data": {
      "text/plain": [
       "array(['2days', '10hours'], dtype=object)"
      ]
     },
     "execution_count": 8,
     "metadata": {},
     "output_type": "execute_result"
    }
   ],
   "source": [
    "data_mkt[\"offer expiration\"].unique()"
   ]
  },
  {
   "cell_type": "code",
   "execution_count": 9,
   "id": "f88690d9",
   "metadata": {
    "execution": {
     "iopub.execute_input": "2022-10-04T10:21:10.511048Z",
     "iopub.status.busy": "2022-10-04T10:21:10.510215Z",
     "iopub.status.idle": "2022-10-04T10:21:10.517634Z",
     "shell.execute_reply": "2022-10-04T10:21:10.516655Z"
    },
    "papermill": {
     "duration": 0.023434,
     "end_time": "2022-10-04T10:21:10.519784",
     "exception": false,
     "start_time": "2022-10-04T10:21:10.496350",
     "status": "completed"
    },
    "tags": []
   },
   "outputs": [
    {
     "data": {
      "text/plain": [
       "array(['4~8', 'less1', 'never', '1~3', 'gt8', nan], dtype=object)"
      ]
     },
     "execution_count": 9,
     "metadata": {},
     "output_type": "execute_result"
    }
   ],
   "source": [
    "data_mkt['no_visited_Cold drinks'].unique()"
   ]
  },
  {
   "cell_type": "code",
   "execution_count": 10,
   "id": "2d440cab",
   "metadata": {
    "execution": {
     "iopub.execute_input": "2022-10-04T10:21:10.547290Z",
     "iopub.status.busy": "2022-10-04T10:21:10.546846Z",
     "iopub.status.idle": "2022-10-04T10:21:10.555818Z",
     "shell.execute_reply": "2022-10-04T10:21:10.554777Z"
    },
    "papermill": {
     "duration": 0.025457,
     "end_time": "2022-10-04T10:21:10.558262",
     "exception": false,
     "start_time": "2022-10-04T10:21:10.532805",
     "status": "completed"
    },
    "tags": []
   },
   "outputs": [
    {
     "data": {
      "text/plain": [
       "array([1, 0])"
      ]
     },
     "execution_count": 10,
     "metadata": {},
     "output_type": "execute_result"
    }
   ],
   "source": [
    "data_mkt['travelled_more_than_15mins_for_offer'].unique()"
   ]
  },
  {
   "cell_type": "code",
   "execution_count": 11,
   "id": "dd877502",
   "metadata": {
    "execution": {
     "iopub.execute_input": "2022-10-04T10:21:10.585913Z",
     "iopub.status.busy": "2022-10-04T10:21:10.585526Z",
     "iopub.status.idle": "2022-10-04T10:21:10.592558Z",
     "shell.execute_reply": "2022-10-04T10:21:10.591822Z"
    },
    "papermill": {
     "duration": 0.02338,
     "end_time": "2022-10-04T10:21:10.594514",
     "exception": false,
     "start_time": "2022-10-04T10:21:10.571134",
     "status": "completed"
    },
    "tags": []
   },
   "outputs": [
    {
     "data": {
      "text/plain": [
       "array(['less1', '4~8', '1~3', 'gt8', 'never', nan], dtype=object)"
      ]
     },
     "execution_count": 11,
     "metadata": {},
     "output_type": "execute_result"
    }
   ],
   "source": [
    "data_mkt['Restaur_spend_less_than20'].unique()"
   ]
  },
  {
   "cell_type": "code",
   "execution_count": 12,
   "id": "3ea239f9",
   "metadata": {
    "execution": {
     "iopub.execute_input": "2022-10-04T10:21:10.623054Z",
     "iopub.status.busy": "2022-10-04T10:21:10.621850Z",
     "iopub.status.idle": "2022-10-04T10:21:10.630247Z",
     "shell.execute_reply": "2022-10-04T10:21:10.629442Z"
    },
    "papermill": {
     "duration": 0.025076,
     "end_time": "2022-10-04T10:21:10.632628",
     "exception": false,
     "start_time": "2022-10-04T10:21:10.607552",
     "status": "completed"
    },
    "tags": []
   },
   "outputs": [],
   "source": [
    "data_mkt=data_mkt.drop(['car'],axis=1)"
   ]
  },
  {
   "cell_type": "code",
   "execution_count": null,
   "id": "e13c20a9",
   "metadata": {
    "papermill": {
     "duration": 0.012624,
     "end_time": "2022-10-04T10:21:10.658054",
     "exception": false,
     "start_time": "2022-10-04T10:21:10.645430",
     "status": "completed"
    },
    "tags": []
   },
   "outputs": [],
   "source": []
  },
  {
   "cell_type": "code",
   "execution_count": 13,
   "id": "db7a9679",
   "metadata": {
    "execution": {
     "iopub.execute_input": "2022-10-04T10:21:10.692711Z",
     "iopub.status.busy": "2022-10-04T10:21:10.692105Z",
     "iopub.status.idle": "2022-10-04T10:21:10.969290Z",
     "shell.execute_reply": "2022-10-04T10:21:10.968335Z"
    },
    "papermill": {
     "duration": 0.300283,
     "end_time": "2022-10-04T10:21:10.971909",
     "exception": false,
     "start_time": "2022-10-04T10:21:10.671626",
     "status": "completed"
    },
    "tags": []
   },
   "outputs": [],
   "source": [
    "from sklearn.impute import SimpleImputer"
   ]
  },
  {
   "cell_type": "code",
   "execution_count": 14,
   "id": "281b5714",
   "metadata": {
    "execution": {
     "iopub.execute_input": "2022-10-04T10:21:10.999880Z",
     "iopub.status.busy": "2022-10-04T10:21:10.998950Z",
     "iopub.status.idle": "2022-10-04T10:21:11.003612Z",
     "shell.execute_reply": "2022-10-04T10:21:11.002776Z"
    },
    "papermill": {
     "duration": 0.020672,
     "end_time": "2022-10-04T10:21:11.005574",
     "exception": false,
     "start_time": "2022-10-04T10:21:10.984902",
     "status": "completed"
    },
    "tags": []
   },
   "outputs": [],
   "source": [
    "si=SimpleImputer(strategy=\"most_frequent\")"
   ]
  },
  {
   "cell_type": "code",
   "execution_count": 15,
   "id": "57a494af",
   "metadata": {
    "execution": {
     "iopub.execute_input": "2022-10-04T10:21:11.033570Z",
     "iopub.status.busy": "2022-10-04T10:21:11.033171Z",
     "iopub.status.idle": "2022-10-04T10:21:11.125537Z",
     "shell.execute_reply": "2022-10-04T10:21:11.124533Z"
    },
    "papermill": {
     "duration": 0.109161,
     "end_time": "2022-10-04T10:21:11.128243",
     "exception": false,
     "start_time": "2022-10-04T10:21:11.019082",
     "status": "completed"
    },
    "tags": []
   },
   "outputs": [],
   "source": [
    "data_imputed = si.fit_transform(data_mkt)"
   ]
  },
  {
   "cell_type": "code",
   "execution_count": 16,
   "id": "393f1a4f",
   "metadata": {
    "execution": {
     "iopub.execute_input": "2022-10-04T10:21:11.155964Z",
     "iopub.status.busy": "2022-10-04T10:21:11.155563Z",
     "iopub.status.idle": "2022-10-04T10:21:11.176773Z",
     "shell.execute_reply": "2022-10-04T10:21:11.175759Z"
    },
    "papermill": {
     "duration": 0.037779,
     "end_time": "2022-10-04T10:21:11.179224",
     "exception": false,
     "start_time": "2022-10-04T10:21:11.141445",
     "status": "completed"
    },
    "tags": []
   },
   "outputs": [],
   "source": [
    "cols=['offer expiration', 'income_range', 'no_visited_Cold drinks',\n",
    "       'travelled_more_than_15mins_for_offer', 'Restaur_spend_less_than20',\n",
    "       'Marital Status', 'restaurant type', 'age',\n",
    "       'Prefer western over chinese', 'travelled_more_than_25mins_for_offer',\n",
    "       'travelled_more_than_5mins_for_offer', 'no_visited_bars', 'gender',\n",
    "        'restuarant_same_direction_house', 'Cooks regularly',\n",
    "       'Customer type', 'Qualification', 'is foodie', 'no_Take-aways',\n",
    "       'Job/Job Industry', 'restuarant_opposite_direction_house',\n",
    "       'has Children', 'visit restaurant with rating (avg)', 'temperature',\n",
    "       'Restaur_spend_greater_than20', 'Travel Time', 'Climate',\n",
    "       'drop location', 'Prefer home food', 'Offer Accepted']\n",
    "data_imputed = pd.DataFrame(data_imputed,columns=cols)"
   ]
  },
  {
   "cell_type": "code",
   "execution_count": 17,
   "id": "34c27874",
   "metadata": {
    "execution": {
     "iopub.execute_input": "2022-10-04T10:21:11.207734Z",
     "iopub.status.busy": "2022-10-04T10:21:11.206951Z",
     "iopub.status.idle": "2022-10-04T10:21:11.219447Z",
     "shell.execute_reply": "2022-10-04T10:21:11.218425Z"
    },
    "papermill": {
     "duration": 0.028911,
     "end_time": "2022-10-04T10:21:11.221731",
     "exception": false,
     "start_time": "2022-10-04T10:21:11.192820",
     "status": "completed"
    },
    "tags": []
   },
   "outputs": [
    {
     "data": {
      "text/plain": [
       "0         No\n",
       "1        Yes\n",
       "2        Yes\n",
       "3         No\n",
       "4         No\n",
       "        ... \n",
       "12374    Yes\n",
       "12375    Yes\n",
       "12376     No\n",
       "12377    Yes\n",
       "12378    Yes\n",
       "Name: Offer Accepted, Length: 12379, dtype: object"
      ]
     },
     "execution_count": 17,
     "metadata": {},
     "output_type": "execute_result"
    }
   ],
   "source": [
    "features = data_imputed.drop([\"Offer Accepted\"],axis=1)\n",
    "label = data_imputed[\"Offer Accepted\"].copy()\n",
    "label\n"
   ]
  },
  {
   "cell_type": "code",
   "execution_count": 18,
   "id": "c92e6087",
   "metadata": {
    "execution": {
     "iopub.execute_input": "2022-10-04T10:21:11.249571Z",
     "iopub.status.busy": "2022-10-04T10:21:11.248545Z",
     "iopub.status.idle": "2022-10-04T10:21:11.255856Z",
     "shell.execute_reply": "2022-10-04T10:21:11.254818Z"
    },
    "papermill": {
     "duration": 0.023729,
     "end_time": "2022-10-04T10:21:11.258322",
     "exception": false,
     "start_time": "2022-10-04T10:21:11.234593",
     "status": "completed"
    },
    "tags": []
   },
   "outputs": [
    {
     "data": {
      "text/plain": [
       "Index(['offer expiration', 'income_range', 'no_visited_Cold drinks',\n",
       "       'travelled_more_than_15mins_for_offer', 'Restaur_spend_less_than20',\n",
       "       'Marital Status', 'restaurant type', 'age',\n",
       "       'Prefer western over chinese', 'travelled_more_than_25mins_for_offer',\n",
       "       'travelled_more_than_5mins_for_offer', 'no_visited_bars', 'gender',\n",
       "       'restuarant_same_direction_house', 'Cooks regularly', 'Customer type',\n",
       "       'Qualification', 'is foodie', 'no_Take-aways', 'Job/Job Industry',\n",
       "       'restuarant_opposite_direction_house', 'has Children',\n",
       "       'visit restaurant with rating (avg)', 'temperature',\n",
       "       'Restaur_spend_greater_than20', 'Travel Time', 'Climate',\n",
       "       'drop location', 'Prefer home food'],\n",
       "      dtype='object')"
      ]
     },
     "execution_count": 18,
     "metadata": {},
     "output_type": "execute_result"
    }
   ],
   "source": [
    "features.columns"
   ]
  },
  {
   "cell_type": "code",
   "execution_count": 19,
   "id": "1a96482f",
   "metadata": {
    "execution": {
     "iopub.execute_input": "2022-10-04T10:21:11.286382Z",
     "iopub.status.busy": "2022-10-04T10:21:11.285929Z",
     "iopub.status.idle": "2022-10-04T10:21:11.310486Z",
     "shell.execute_reply": "2022-10-04T10:21:11.309442Z"
    },
    "papermill": {
     "duration": 0.041378,
     "end_time": "2022-10-04T10:21:11.312848",
     "exception": false,
     "start_time": "2022-10-04T10:21:11.271470",
     "status": "completed"
    },
    "tags": []
   },
   "outputs": [
    {
     "data": {
      "text/plain": [
       "offer expiration                        0\n",
       "income_range                            0\n",
       "no_visited_Cold drinks                  0\n",
       "travelled_more_than_15mins_for_offer    0\n",
       "Restaur_spend_less_than20               0\n",
       "Marital Status                          0\n",
       "restaurant type                         0\n",
       "age                                     0\n",
       "Prefer western over chinese             0\n",
       "travelled_more_than_25mins_for_offer    0\n",
       "travelled_more_than_5mins_for_offer     0\n",
       "no_visited_bars                         0\n",
       "gender                                  0\n",
       "restuarant_same_direction_house         0\n",
       "Cooks regularly                         0\n",
       "Customer type                           0\n",
       "Qualification                           0\n",
       "is foodie                               0\n",
       "no_Take-aways                           0\n",
       "Job/Job Industry                        0\n",
       "restuarant_opposite_direction_house     0\n",
       "has Children                            0\n",
       "visit restaurant with rating (avg)      0\n",
       "temperature                             0\n",
       "Restaur_spend_greater_than20            0\n",
       "Travel Time                             0\n",
       "Climate                                 0\n",
       "drop location                           0\n",
       "Prefer home food                        0\n",
       "dtype: int64"
      ]
     },
     "execution_count": 19,
     "metadata": {},
     "output_type": "execute_result"
    }
   ],
   "source": [
    "features.isnull().sum()"
   ]
  },
  {
   "cell_type": "code",
   "execution_count": 20,
   "id": "9cb7264f",
   "metadata": {
    "execution": {
     "iopub.execute_input": "2022-10-04T10:21:11.341080Z",
     "iopub.status.busy": "2022-10-04T10:21:11.340694Z",
     "iopub.status.idle": "2022-10-04T10:21:11.349786Z",
     "shell.execute_reply": "2022-10-04T10:21:11.348643Z"
    },
    "papermill": {
     "duration": 0.025517,
     "end_time": "2022-10-04T10:21:11.351961",
     "exception": false,
     "start_time": "2022-10-04T10:21:11.326444",
     "status": "completed"
    },
    "tags": []
   },
   "outputs": [],
   "source": [
    "# Coding of undecipherable inputs in all columns requiring ordinal encoding\n",
    "dec_num = {\"offer expiration\":{\"2days\":1,'10hours':2},\"income_range\":{'Less than ₹12500':1,'₹12500 - ₹24999':2,'₹25000 - ₹37499':3,'₹37500 - ₹49999':4,'₹50000 - ₹62499':5,'₹62500 - ₹74999':6,'₹75000 - ₹87499':7,'₹87500 - ₹99999':8, '₹100000 or More':9},'no_visited_Cold drinks'\n",
    ":{'never':1,'less1': 2,'1~3': 3, '4~8': 4, 'gt8':5},\"Restaur_spend_less_than20\" :{'less1':1,'1~3':2,'4~8':3,'gt8':4,'never':5},\"restaurant type\":{'Cold drinks':1,'Take-away restaurant':2,'Restaurant with pub':3,'2 star restaurant':4,'4 star restaurant':5},\"age\":{'below21':1,'21':2,'26':3,'31':4,'36':5,'41':6,'46':7,'50plus':8},\"no_Take-aways\":{'never':1,'less1':2,'1~3':3,'4~8':4,'gt8':5},'no_visited_bars'\n",
    ":{'never':1,'less1':2,'1~3':3,'4~8':4,'gt8':5},\"Restaur_spend_greater_than20\" :{'less1':1,'1~3':2,'4~8':3,'gt8':4,'never':5}}"
   ]
  },
  {
   "cell_type": "code",
   "execution_count": 21,
   "id": "707d36f9",
   "metadata": {
    "execution": {
     "iopub.execute_input": "2022-10-04T10:21:11.380380Z",
     "iopub.status.busy": "2022-10-04T10:21:11.379996Z",
     "iopub.status.idle": "2022-10-04T10:21:11.474371Z",
     "shell.execute_reply": "2022-10-04T10:21:11.473354Z"
    },
    "papermill": {
     "duration": 0.112167,
     "end_time": "2022-10-04T10:21:11.477151",
     "exception": false,
     "start_time": "2022-10-04T10:21:11.364984",
     "status": "completed"
    },
    "tags": []
   },
   "outputs": [],
   "source": [
    "features= features.replace(dec_num)"
   ]
  },
  {
   "cell_type": "code",
   "execution_count": 22,
   "id": "0e7372e1",
   "metadata": {
    "execution": {
     "iopub.execute_input": "2022-10-04T10:21:11.504836Z",
     "iopub.status.busy": "2022-10-04T10:21:11.504422Z",
     "iopub.status.idle": "2022-10-04T10:21:11.530462Z",
     "shell.execute_reply": "2022-10-04T10:21:11.529684Z"
    },
    "papermill": {
     "duration": 0.042301,
     "end_time": "2022-10-04T10:21:11.532566",
     "exception": false,
     "start_time": "2022-10-04T10:21:11.490265",
     "status": "completed"
    },
    "tags": []
   },
   "outputs": [
    {
     "data": {
      "text/html": [
       "<div>\n",
       "<style scoped>\n",
       "    .dataframe tbody tr th:only-of-type {\n",
       "        vertical-align: middle;\n",
       "    }\n",
       "\n",
       "    .dataframe tbody tr th {\n",
       "        vertical-align: top;\n",
       "    }\n",
       "\n",
       "    .dataframe thead th {\n",
       "        text-align: right;\n",
       "    }\n",
       "</style>\n",
       "<table border=\"1\" class=\"dataframe\">\n",
       "  <thead>\n",
       "    <tr style=\"text-align: right;\">\n",
       "      <th></th>\n",
       "      <th>offer expiration</th>\n",
       "      <th>income_range</th>\n",
       "      <th>no_visited_Cold drinks</th>\n",
       "      <th>travelled_more_than_15mins_for_offer</th>\n",
       "      <th>Restaur_spend_less_than20</th>\n",
       "      <th>Marital Status</th>\n",
       "      <th>restaurant type</th>\n",
       "      <th>age</th>\n",
       "      <th>Prefer western over chinese</th>\n",
       "      <th>travelled_more_than_25mins_for_offer</th>\n",
       "      <th>...</th>\n",
       "      <th>Job/Job Industry</th>\n",
       "      <th>restuarant_opposite_direction_house</th>\n",
       "      <th>has Children</th>\n",
       "      <th>visit restaurant with rating (avg)</th>\n",
       "      <th>temperature</th>\n",
       "      <th>Restaur_spend_greater_than20</th>\n",
       "      <th>Travel Time</th>\n",
       "      <th>Climate</th>\n",
       "      <th>drop location</th>\n",
       "      <th>Prefer home food</th>\n",
       "    </tr>\n",
       "  </thead>\n",
       "  <tbody>\n",
       "    <tr>\n",
       "      <th>0</th>\n",
       "      <td>1</td>\n",
       "      <td>9</td>\n",
       "      <td>4</td>\n",
       "      <td>1</td>\n",
       "      <td>1</td>\n",
       "      <td>Married partner</td>\n",
       "      <td>5</td>\n",
       "      <td>5</td>\n",
       "      <td>0</td>\n",
       "      <td>0</td>\n",
       "      <td>...</td>\n",
       "      <td>Unemployed</td>\n",
       "      <td>0</td>\n",
       "      <td>0</td>\n",
       "      <td>4</td>\n",
       "      <td>67</td>\n",
       "      <td>1</td>\n",
       "      <td>22</td>\n",
       "      <td>Spring</td>\n",
       "      <td>Location B</td>\n",
       "      <td>0</td>\n",
       "    </tr>\n",
       "    <tr>\n",
       "      <th>1</th>\n",
       "      <td>1</td>\n",
       "      <td>8</td>\n",
       "      <td>4</td>\n",
       "      <td>0</td>\n",
       "      <td>3</td>\n",
       "      <td>Married partner</td>\n",
       "      <td>2</td>\n",
       "      <td>8</td>\n",
       "      <td>0</td>\n",
       "      <td>0</td>\n",
       "      <td>...</td>\n",
       "      <td>Unemployed</td>\n",
       "      <td>0</td>\n",
       "      <td>1</td>\n",
       "      <td>3</td>\n",
       "      <td>89</td>\n",
       "      <td>2</td>\n",
       "      <td>18</td>\n",
       "      <td>Summer</td>\n",
       "      <td>Location B</td>\n",
       "      <td>0</td>\n",
       "    </tr>\n",
       "    <tr>\n",
       "      <th>2</th>\n",
       "      <td>1</td>\n",
       "      <td>8</td>\n",
       "      <td>2</td>\n",
       "      <td>1</td>\n",
       "      <td>2</td>\n",
       "      <td>Single</td>\n",
       "      <td>1</td>\n",
       "      <td>3</td>\n",
       "      <td>1</td>\n",
       "      <td>0</td>\n",
       "      <td>...</td>\n",
       "      <td>Arts Design Entertainment Sports &amp; Media</td>\n",
       "      <td>1</td>\n",
       "      <td>1</td>\n",
       "      <td>4</td>\n",
       "      <td>67</td>\n",
       "      <td>1</td>\n",
       "      <td>7</td>\n",
       "      <td>Winter</td>\n",
       "      <td>Location A</td>\n",
       "      <td>1</td>\n",
       "    </tr>\n",
       "    <tr>\n",
       "      <th>3</th>\n",
       "      <td>2</td>\n",
       "      <td>4</td>\n",
       "      <td>2</td>\n",
       "      <td>0</td>\n",
       "      <td>2</td>\n",
       "      <td>Single</td>\n",
       "      <td>2</td>\n",
       "      <td>7</td>\n",
       "      <td>1</td>\n",
       "      <td>0</td>\n",
       "      <td>...</td>\n",
       "      <td>Sales &amp; Related</td>\n",
       "      <td>0</td>\n",
       "      <td>1</td>\n",
       "      <td>3</td>\n",
       "      <td>89</td>\n",
       "      <td>2</td>\n",
       "      <td>7</td>\n",
       "      <td>Summer</td>\n",
       "      <td>Location C</td>\n",
       "      <td>0</td>\n",
       "    </tr>\n",
       "    <tr>\n",
       "      <th>4</th>\n",
       "      <td>1</td>\n",
       "      <td>9</td>\n",
       "      <td>1</td>\n",
       "      <td>1</td>\n",
       "      <td>2</td>\n",
       "      <td>Single</td>\n",
       "      <td>5</td>\n",
       "      <td>2</td>\n",
       "      <td>0</td>\n",
       "      <td>1</td>\n",
       "      <td>...</td>\n",
       "      <td>Sales &amp; Related</td>\n",
       "      <td>1</td>\n",
       "      <td>0</td>\n",
       "      <td>3</td>\n",
       "      <td>40</td>\n",
       "      <td>1</td>\n",
       "      <td>7</td>\n",
       "      <td>Summer</td>\n",
       "      <td>Location C</td>\n",
       "      <td>0</td>\n",
       "    </tr>\n",
       "  </tbody>\n",
       "</table>\n",
       "<p>5 rows × 29 columns</p>\n",
       "</div>"
      ],
      "text/plain": [
       "   offer expiration  income_range  no_visited_Cold drinks  \\\n",
       "0                 1             9                       4   \n",
       "1                 1             8                       4   \n",
       "2                 1             8                       2   \n",
       "3                 2             4                       2   \n",
       "4                 1             9                       1   \n",
       "\n",
       "  travelled_more_than_15mins_for_offer  Restaur_spend_less_than20  \\\n",
       "0                                    1                          1   \n",
       "1                                    0                          3   \n",
       "2                                    1                          2   \n",
       "3                                    0                          2   \n",
       "4                                    1                          2   \n",
       "\n",
       "    Marital Status  restaurant type  age Prefer western over chinese  \\\n",
       "0  Married partner                5    5                           0   \n",
       "1  Married partner                2    8                           0   \n",
       "2           Single                1    3                           1   \n",
       "3           Single                2    7                           1   \n",
       "4           Single                5    2                           0   \n",
       "\n",
       "  travelled_more_than_25mins_for_offer  ...  \\\n",
       "0                                    0  ...   \n",
       "1                                    0  ...   \n",
       "2                                    0  ...   \n",
       "3                                    0  ...   \n",
       "4                                    1  ...   \n",
       "\n",
       "                           Job/Job Industry  \\\n",
       "0                                Unemployed   \n",
       "1                                Unemployed   \n",
       "2  Arts Design Entertainment Sports & Media   \n",
       "3                           Sales & Related   \n",
       "4                           Sales & Related   \n",
       "\n",
       "   restuarant_opposite_direction_house has Children  \\\n",
       "0                                    0            0   \n",
       "1                                    0            1   \n",
       "2                                    1            1   \n",
       "3                                    0            1   \n",
       "4                                    1            0   \n",
       "\n",
       "  visit restaurant with rating (avg) temperature Restaur_spend_greater_than20  \\\n",
       "0                                  4          67                            1   \n",
       "1                                  3          89                            2   \n",
       "2                                  4          67                            1   \n",
       "3                                  3          89                            2   \n",
       "4                                  3          40                            1   \n",
       "\n",
       "  Travel Time Climate  drop location Prefer home food  \n",
       "0          22  Spring     Location B                0  \n",
       "1          18  Summer     Location B                0  \n",
       "2           7  Winter     Location A                1  \n",
       "3           7  Summer     Location C                0  \n",
       "4           7  Summer     Location C                0  \n",
       "\n",
       "[5 rows x 29 columns]"
      ]
     },
     "execution_count": 22,
     "metadata": {},
     "output_type": "execute_result"
    }
   ],
   "source": [
    "features[:5]"
   ]
  },
  {
   "cell_type": "code",
   "execution_count": 23,
   "id": "7007ce31",
   "metadata": {
    "execution": {
     "iopub.execute_input": "2022-10-04T10:21:11.561940Z",
     "iopub.status.busy": "2022-10-04T10:21:11.561061Z",
     "iopub.status.idle": "2022-10-04T10:21:11.567276Z",
     "shell.execute_reply": "2022-10-04T10:21:11.566196Z"
    },
    "papermill": {
     "duration": 0.023147,
     "end_time": "2022-10-04T10:21:11.569425",
     "exception": false,
     "start_time": "2022-10-04T10:21:11.546278",
     "status": "completed"
    },
    "tags": []
   },
   "outputs": [],
   "source": [
    "data_imputed.columns\n",
    "selected_columns = ['offer expiration', 'income_range', 'no_visited_Cold drinks',\n",
    "       'travelled_more_than_15mins_for_offer', 'Restaur_spend_less_than20',\n",
    "       'Marital Status', 'restaurant type', 'age',\n",
    "       'Prefer western over chinese', 'travelled_more_than_25mins_for_offer',\n",
    "       'travelled_more_than_5mins_for_offer', 'no_visited_bars', 'gender',\n",
    "       'restuarant_same_direction_house', 'Cooks regularly', 'Customer type',\n",
    "       'Qualification', 'is foodie', 'no_Take-aways', 'Job/Job Industry',\n",
    "       'restuarant_opposite_direction_house', 'has Children',\n",
    "       'visit restaurant with rating (avg)', 'temperature',\n",
    "       'Restaur_spend_greater_than20', 'Travel Time', 'Climate',\n",
    "       'drop location', 'Prefer home food']"
   ]
  },
  {
   "cell_type": "code",
   "execution_count": 24,
   "id": "f482f191",
   "metadata": {
    "execution": {
     "iopub.execute_input": "2022-10-04T10:21:11.598206Z",
     "iopub.status.busy": "2022-10-04T10:21:11.597798Z",
     "iopub.status.idle": "2022-10-04T10:21:11.605082Z",
     "shell.execute_reply": "2022-10-04T10:21:11.604004Z"
    },
    "papermill": {
     "duration": 0.0244,
     "end_time": "2022-10-04T10:21:11.607371",
     "exception": false,
     "start_time": "2022-10-04T10:21:11.582971",
     "status": "completed"
    },
    "tags": []
   },
   "outputs": [],
   "source": [
    "#Encoding\n",
    "\n",
    "num_attrib = [\"temperature\", \"Travel Time\"]\n",
    "nom_attrib = [\"travelled_more_than_15mins_for_offer\",\"Marital Status\",\"Prefer western over chinese\",\"Qualification\",\"travelled_more_than_25mins_for_offer\",\"travelled_more_than_5mins_for_offer\",\"gender\",\"restuarant_same_direction_house\",\"Cooks regularly\",\"Customer type\",\"is foodie\",\"Job/Job Industry\",\"restuarant_opposite_direction_house\",\"has Children\",\"Climate\",\"drop location\",\"Prefer home food\"]\n",
    "              \n",
    "ord_attrib = [\"offer expiration\",\"income_range\",\"no_visited_Cold drinks\",\"Restaur_spend_less_than20\",\"restaurant type\",\"no_Take-aways\",\"no_visited_bars\",\"age\",\"Restaur_spend_greater_than20\",\"visit restaurant with rating (avg)\"]"
   ]
  },
  {
   "cell_type": "code",
   "execution_count": 25,
   "id": "9df8e729",
   "metadata": {
    "execution": {
     "iopub.execute_input": "2022-10-04T10:21:11.635486Z",
     "iopub.status.busy": "2022-10-04T10:21:11.635067Z",
     "iopub.status.idle": "2022-10-04T10:21:11.640608Z",
     "shell.execute_reply": "2022-10-04T10:21:11.639635Z"
    },
    "papermill": {
     "duration": 0.022453,
     "end_time": "2022-10-04T10:21:11.643028",
     "exception": false,
     "start_time": "2022-10-04T10:21:11.620575",
     "status": "completed"
    },
    "tags": []
   },
   "outputs": [
    {
     "name": "stdout",
     "output_type": "stream",
     "text": [
      "29\n"
     ]
    }
   ],
   "source": [
    "print(len(num_attrib)+len(nom_attrib)+len(ord_attrib))"
   ]
  },
  {
   "cell_type": "code",
   "execution_count": 26,
   "id": "590aad87",
   "metadata": {
    "execution": {
     "iopub.execute_input": "2022-10-04T10:21:11.672007Z",
     "iopub.status.busy": "2022-10-04T10:21:11.671287Z",
     "iopub.status.idle": "2022-10-04T10:21:11.678105Z",
     "shell.execute_reply": "2022-10-04T10:21:11.677318Z"
    },
    "papermill": {
     "duration": 0.023827,
     "end_time": "2022-10-04T10:21:11.680258",
     "exception": false,
     "start_time": "2022-10-04T10:21:11.656431",
     "status": "completed"
    },
    "tags": []
   },
   "outputs": [],
   "source": [
    "\n",
    "from sklearn.pipeline import Pipeline"
   ]
  },
  {
   "cell_type": "code",
   "execution_count": 27,
   "id": "3886397f",
   "metadata": {
    "execution": {
     "iopub.execute_input": "2022-10-04T10:21:11.708429Z",
     "iopub.status.busy": "2022-10-04T10:21:11.707801Z",
     "iopub.status.idle": "2022-10-04T10:21:11.717073Z",
     "shell.execute_reply": "2022-10-04T10:21:11.716301Z"
    },
    "papermill": {
     "duration": 0.025585,
     "end_time": "2022-10-04T10:21:11.719123",
     "exception": false,
     "start_time": "2022-10-04T10:21:11.693538",
     "status": "completed"
    },
    "tags": []
   },
   "outputs": [],
   "source": [
    "from sklearn.preprocessing import OrdinalEncoder\n",
    "from sklearn.preprocessing import OneHotEncoder\n",
    "from sklearn.preprocessing import StandardScaler\n",
    "from sklearn.preprocessing import MinMaxScaler\n",
    "from sklearn.compose import ColumnTransformer"
   ]
  },
  {
   "cell_type": "code",
   "execution_count": 28,
   "id": "a1ea7b48",
   "metadata": {
    "execution": {
     "iopub.execute_input": "2022-10-04T10:21:11.748026Z",
     "iopub.status.busy": "2022-10-04T10:21:11.746989Z",
     "iopub.status.idle": "2022-10-04T10:21:11.864409Z",
     "shell.execute_reply": "2022-10-04T10:21:11.863099Z"
    },
    "papermill": {
     "duration": 0.13456,
     "end_time": "2022-10-04T10:21:11.867224",
     "exception": false,
     "start_time": "2022-10-04T10:21:11.732664",
     "status": "completed"
    },
    "tags": []
   },
   "outputs": [
    {
     "data": {
      "text/plain": [
       "array([8., 7., 7., ..., 7., 1., 3.])"
      ]
     },
     "execution_count": 28,
     "metadata": {},
     "output_type": "execute_result"
    }
   ],
   "source": [
    "t= [(\"num\",MinMaxScaler(),num_attrib),(\"ord\",OrdinalEncoder(),ord_attrib),(\"cat\",OneHotEncoder(sparse=False),nom_attrib)]\n",
    "\n",
    "pipeline = ColumnTransformer(transformers=t)\n",
    "\n",
    "features_en = pipeline.fit_transform(features)\n",
    "\n",
    "features_en[:,3]\n"
   ]
  },
  {
   "cell_type": "raw",
   "id": "b564e5ac",
   "metadata": {
    "execution": {
     "iopub.execute_input": "2022-10-02T14:23:08.844515Z",
     "iopub.status.busy": "2022-10-02T14:23:08.844104Z",
     "iopub.status.idle": "2022-10-02T14:23:08.852391Z",
     "shell.execute_reply": "2022-10-02T14:23:08.851135Z",
     "shell.execute_reply.started": "2022-10-02T14:23:08.844483Z"
    },
    "papermill": {
     "duration": 0.012906,
     "end_time": "2022-10-04T10:21:11.893684",
     "exception": false,
     "start_time": "2022-10-04T10:21:11.880778",
     "status": "completed"
    },
    "tags": []
   },
   "source": []
  },
  {
   "cell_type": "code",
   "execution_count": 29,
   "id": "420b153a",
   "metadata": {
    "execution": {
     "iopub.execute_input": "2022-10-04T10:21:11.922440Z",
     "iopub.status.busy": "2022-10-04T10:21:11.921999Z",
     "iopub.status.idle": "2022-10-04T10:21:11.926764Z",
     "shell.execute_reply": "2022-10-04T10:21:11.926003Z"
    },
    "papermill": {
     "duration": 0.021752,
     "end_time": "2022-10-04T10:21:11.928817",
     "exception": false,
     "start_time": "2022-10-04T10:21:11.907065",
     "status": "completed"
    },
    "tags": []
   },
   "outputs": [],
   "source": [
    "\n",
    "from sklearn.model_selection import train_test_split"
   ]
  },
  {
   "cell_type": "code",
   "execution_count": 30,
   "id": "1468dbe6",
   "metadata": {
    "execution": {
     "iopub.execute_input": "2022-10-04T10:21:11.957133Z",
     "iopub.status.busy": "2022-10-04T10:21:11.956492Z",
     "iopub.status.idle": "2022-10-04T10:21:11.961332Z",
     "shell.execute_reply": "2022-10-04T10:21:11.960616Z"
    },
    "papermill": {
     "duration": 0.021589,
     "end_time": "2022-10-04T10:21:11.963393",
     "exception": false,
     "start_time": "2022-10-04T10:21:11.941804",
     "status": "completed"
    },
    "tags": []
   },
   "outputs": [],
   "source": [
    "features, label = features_en, label"
   ]
  },
  {
   "cell_type": "code",
   "execution_count": 31,
   "id": "cef116f0",
   "metadata": {
    "execution": {
     "iopub.execute_input": "2022-10-04T10:21:11.992189Z",
     "iopub.status.busy": "2022-10-04T10:21:11.991753Z",
     "iopub.status.idle": "2022-10-04T10:21:12.002737Z",
     "shell.execute_reply": "2022-10-04T10:21:12.001935Z"
    },
    "papermill": {
     "duration": 0.02768,
     "end_time": "2022-10-04T10:21:12.005036",
     "exception": false,
     "start_time": "2022-10-04T10:21:11.977356",
     "status": "completed"
    },
    "tags": []
   },
   "outputs": [],
   "source": [
    "features_train, features_test, label_train, label_test = train_test_split(features, label, test_size = 0.2, random_state=51)"
   ]
  },
  {
   "cell_type": "code",
   "execution_count": 32,
   "id": "c9043a77",
   "metadata": {
    "execution": {
     "iopub.execute_input": "2022-10-04T10:21:12.033570Z",
     "iopub.status.busy": "2022-10-04T10:21:12.032825Z",
     "iopub.status.idle": "2022-10-04T10:21:12.037882Z",
     "shell.execute_reply": "2022-10-04T10:21:12.037161Z"
    },
    "papermill": {
     "duration": 0.021818,
     "end_time": "2022-10-04T10:21:12.040023",
     "exception": false,
     "start_time": "2022-10-04T10:21:12.018205",
     "status": "completed"
    },
    "tags": []
   },
   "outputs": [],
   "source": [
    "from sklearn.metrics import f1_score"
   ]
  },
  {
   "cell_type": "code",
   "execution_count": 33,
   "id": "bcf4138a",
   "metadata": {
    "execution": {
     "iopub.execute_input": "2022-10-04T10:21:12.069149Z",
     "iopub.status.busy": "2022-10-04T10:21:12.068481Z",
     "iopub.status.idle": "2022-10-04T10:21:12.073345Z",
     "shell.execute_reply": "2022-10-04T10:21:12.072536Z"
    },
    "papermill": {
     "duration": 0.021868,
     "end_time": "2022-10-04T10:21:12.075551",
     "exception": false,
     "start_time": "2022-10-04T10:21:12.053683",
     "status": "completed"
    },
    "tags": []
   },
   "outputs": [],
   "source": [
    "from sklearn.linear_model import LogisticRegression"
   ]
  },
  {
   "cell_type": "code",
   "execution_count": 34,
   "id": "9db76d2f",
   "metadata": {
    "execution": {
     "iopub.execute_input": "2022-10-04T10:21:12.104392Z",
     "iopub.status.busy": "2022-10-04T10:21:12.103739Z",
     "iopub.status.idle": "2022-10-04T10:21:12.396234Z",
     "shell.execute_reply": "2022-10-04T10:21:12.395023Z"
    },
    "papermill": {
     "duration": 0.311714,
     "end_time": "2022-10-04T10:21:12.400627",
     "exception": false,
     "start_time": "2022-10-04T10:21:12.088913",
     "status": "completed"
    },
    "tags": []
   },
   "outputs": [
    {
     "name": "stderr",
     "output_type": "stream",
     "text": [
      "/opt/conda/lib/python3.7/site-packages/sklearn/linear_model/_logistic.py:818: ConvergenceWarning: lbfgs failed to converge (status=1):\n",
      "STOP: TOTAL NO. of ITERATIONS REACHED LIMIT.\n",
      "\n",
      "Increase the number of iterations (max_iter) or scale the data as shown in:\n",
      "    https://scikit-learn.org/stable/modules/preprocessing.html\n",
      "Please also refer to the documentation for alternative solver options:\n",
      "    https://scikit-learn.org/stable/modules/linear_model.html#logistic-regression\n",
      "  extra_warning_msg=_LOGISTIC_SOLVER_CONVERGENCE_MSG,\n"
     ]
    },
    {
     "data": {
      "text/plain": [
       "LogisticRegression()"
      ]
     },
     "execution_count": 34,
     "metadata": {},
     "output_type": "execute_result"
    }
   ],
   "source": [
    "model = LogisticRegression()\n",
    "model.fit(features_train,label_train)\n"
   ]
  },
  {
   "cell_type": "code",
   "execution_count": 35,
   "id": "71e80462",
   "metadata": {
    "execution": {
     "iopub.execute_input": "2022-10-04T10:21:12.475813Z",
     "iopub.status.busy": "2022-10-04T10:21:12.475039Z",
     "iopub.status.idle": "2022-10-04T10:21:12.491122Z",
     "shell.execute_reply": "2022-10-04T10:21:12.489552Z"
    },
    "papermill": {
     "duration": 0.05874,
     "end_time": "2022-10-04T10:21:12.495745",
     "exception": false,
     "start_time": "2022-10-04T10:21:12.437005",
     "status": "completed"
    },
    "tags": []
   },
   "outputs": [
    {
     "data": {
      "text/plain": [
       "array(['Yes', 'No', 'No', 'Yes', 'Yes'], dtype=object)"
      ]
     },
     "execution_count": 35,
     "metadata": {},
     "output_type": "execute_result"
    }
   ],
   "source": [
    "label_pred = model.predict(features_train)\n",
    "label_pred[:5]"
   ]
  },
  {
   "cell_type": "code",
   "execution_count": 36,
   "id": "5c160acd",
   "metadata": {
    "execution": {
     "iopub.execute_input": "2022-10-04T10:21:12.571430Z",
     "iopub.status.busy": "2022-10-04T10:21:12.570700Z",
     "iopub.status.idle": "2022-10-04T10:21:12.663389Z",
     "shell.execute_reply": "2022-10-04T10:21:12.662232Z"
    },
    "papermill": {
     "duration": 0.133373,
     "end_time": "2022-10-04T10:21:12.665895",
     "exception": false,
     "start_time": "2022-10-04T10:21:12.532522",
     "status": "completed"
    },
    "tags": []
   },
   "outputs": [
    {
     "data": {
      "text/html": [
       "<div>\n",
       "<style scoped>\n",
       "    .dataframe tbody tr th:only-of-type {\n",
       "        vertical-align: middle;\n",
       "    }\n",
       "\n",
       "    .dataframe tbody tr th {\n",
       "        vertical-align: top;\n",
       "    }\n",
       "\n",
       "    .dataframe thead th {\n",
       "        text-align: right;\n",
       "    }\n",
       "</style>\n",
       "<table border=\"1\" class=\"dataframe\">\n",
       "  <thead>\n",
       "    <tr style=\"text-align: right;\">\n",
       "      <th></th>\n",
       "      <th>offer expiration</th>\n",
       "      <th>income_range</th>\n",
       "      <th>no_visited_Cold drinks</th>\n",
       "      <th>travelled_more_than_15mins_for_offer</th>\n",
       "      <th>Restaur_spend_less_than20</th>\n",
       "      <th>Marital Status</th>\n",
       "      <th>restaurant type</th>\n",
       "      <th>age</th>\n",
       "      <th>Prefer western over chinese</th>\n",
       "      <th>travelled_more_than_25mins_for_offer</th>\n",
       "      <th>...</th>\n",
       "      <th>Job/Job Industry</th>\n",
       "      <th>restuarant_opposite_direction_house</th>\n",
       "      <th>has Children</th>\n",
       "      <th>visit restaurant with rating (avg)</th>\n",
       "      <th>temperature</th>\n",
       "      <th>Restaur_spend_greater_than20</th>\n",
       "      <th>Travel Time</th>\n",
       "      <th>Climate</th>\n",
       "      <th>drop location</th>\n",
       "      <th>Prefer home food</th>\n",
       "    </tr>\n",
       "  </thead>\n",
       "  <tbody>\n",
       "    <tr>\n",
       "      <th>0</th>\n",
       "      <td>2days</td>\n",
       "      <td>₹37500 - ₹49999</td>\n",
       "      <td>1~3</td>\n",
       "      <td>1</td>\n",
       "      <td>1~3</td>\n",
       "      <td>Divorced</td>\n",
       "      <td>Take-away restaurant</td>\n",
       "      <td>50plus</td>\n",
       "      <td>0</td>\n",
       "      <td>1</td>\n",
       "      <td>...</td>\n",
       "      <td>Sales &amp; Related</td>\n",
       "      <td>1</td>\n",
       "      <td>1</td>\n",
       "      <td>4</td>\n",
       "      <td>89</td>\n",
       "      <td>less1</td>\n",
       "      <td>7</td>\n",
       "      <td>Summer</td>\n",
       "      <td>Location C</td>\n",
       "      <td>0</td>\n",
       "    </tr>\n",
       "    <tr>\n",
       "      <th>1</th>\n",
       "      <td>10hours</td>\n",
       "      <td>₹25000 - ₹37499</td>\n",
       "      <td>4~8</td>\n",
       "      <td>0</td>\n",
       "      <td>1~3</td>\n",
       "      <td>Unmarried partner</td>\n",
       "      <td>Cold drinks</td>\n",
       "      <td>21</td>\n",
       "      <td>1</td>\n",
       "      <td>0</td>\n",
       "      <td>...</td>\n",
       "      <td>Computer &amp; Mathematical</td>\n",
       "      <td>1</td>\n",
       "      <td>1</td>\n",
       "      <td>0</td>\n",
       "      <td>67</td>\n",
       "      <td>less1</td>\n",
       "      <td>18</td>\n",
       "      <td>Summer</td>\n",
       "      <td>Location A</td>\n",
       "      <td>1</td>\n",
       "    </tr>\n",
       "    <tr>\n",
       "      <th>2</th>\n",
       "      <td>2days</td>\n",
       "      <td>₹100000 or More</td>\n",
       "      <td>never</td>\n",
       "      <td>1</td>\n",
       "      <td>never</td>\n",
       "      <td>Single</td>\n",
       "      <td>Cold drinks</td>\n",
       "      <td>21</td>\n",
       "      <td>1</td>\n",
       "      <td>0</td>\n",
       "      <td>...</td>\n",
       "      <td>Unemployed</td>\n",
       "      <td>1</td>\n",
       "      <td>0</td>\n",
       "      <td>4</td>\n",
       "      <td>67</td>\n",
       "      <td>never</td>\n",
       "      <td>7</td>\n",
       "      <td>Summer</td>\n",
       "      <td>Location C</td>\n",
       "      <td>0</td>\n",
       "    </tr>\n",
       "    <tr>\n",
       "      <th>3</th>\n",
       "      <td>2days</td>\n",
       "      <td>₹25000 - ₹37499</td>\n",
       "      <td>never</td>\n",
       "      <td>1</td>\n",
       "      <td>1~3</td>\n",
       "      <td>Married partner</td>\n",
       "      <td>Restaurant with pub</td>\n",
       "      <td>41</td>\n",
       "      <td>0</td>\n",
       "      <td>0</td>\n",
       "      <td>...</td>\n",
       "      <td>Unemployed</td>\n",
       "      <td>1</td>\n",
       "      <td>1</td>\n",
       "      <td>0</td>\n",
       "      <td>40</td>\n",
       "      <td>less1</td>\n",
       "      <td>18</td>\n",
       "      <td>Spring</td>\n",
       "      <td>Location C</td>\n",
       "      <td>1</td>\n",
       "    </tr>\n",
       "    <tr>\n",
       "      <th>4</th>\n",
       "      <td>10hours</td>\n",
       "      <td>₹12500 - ₹24999</td>\n",
       "      <td>never</td>\n",
       "      <td>0</td>\n",
       "      <td>1~3</td>\n",
       "      <td>Single</td>\n",
       "      <td>2 star restaurant</td>\n",
       "      <td>31</td>\n",
       "      <td>1</td>\n",
       "      <td>0</td>\n",
       "      <td>...</td>\n",
       "      <td>Unemployed</td>\n",
       "      <td>0</td>\n",
       "      <td>0</td>\n",
       "      <td>0</td>\n",
       "      <td>89</td>\n",
       "      <td>1~3</td>\n",
       "      <td>18</td>\n",
       "      <td>Summer</td>\n",
       "      <td>Location B</td>\n",
       "      <td>1</td>\n",
       "    </tr>\n",
       "  </tbody>\n",
       "</table>\n",
       "<p>5 rows × 30 columns</p>\n",
       "</div>"
      ],
      "text/plain": [
       "  offer expiration     income_range no_visited_Cold drinks  \\\n",
       "0            2days  ₹37500 - ₹49999                    1~3   \n",
       "1          10hours  ₹25000 - ₹37499                    4~8   \n",
       "2            2days  ₹100000 or More                  never   \n",
       "3            2days  ₹25000 - ₹37499                  never   \n",
       "4          10hours  ₹12500 - ₹24999                  never   \n",
       "\n",
       "   travelled_more_than_15mins_for_offer Restaur_spend_less_than20  \\\n",
       "0                                     1                       1~3   \n",
       "1                                     0                       1~3   \n",
       "2                                     1                     never   \n",
       "3                                     1                       1~3   \n",
       "4                                     0                       1~3   \n",
       "\n",
       "      Marital Status       restaurant type     age  \\\n",
       "0           Divorced  Take-away restaurant  50plus   \n",
       "1  Unmarried partner           Cold drinks      21   \n",
       "2             Single           Cold drinks      21   \n",
       "3    Married partner   Restaurant with pub      41   \n",
       "4             Single     2 star restaurant      31   \n",
       "\n",
       "   Prefer western over chinese  travelled_more_than_25mins_for_offer  ...  \\\n",
       "0                            0                                     1  ...   \n",
       "1                            1                                     0  ...   \n",
       "2                            1                                     0  ...   \n",
       "3                            0                                     0  ...   \n",
       "4                            1                                     0  ...   \n",
       "\n",
       "          Job/Job Industry restuarant_opposite_direction_house has Children  \\\n",
       "0          Sales & Related                                   1            1   \n",
       "1  Computer & Mathematical                                   1            1   \n",
       "2               Unemployed                                   1            0   \n",
       "3               Unemployed                                   1            1   \n",
       "4               Unemployed                                   0            0   \n",
       "\n",
       "  visit restaurant with rating (avg)  temperature  \\\n",
       "0                                  4           89   \n",
       "1                                  0           67   \n",
       "2                                  4           67   \n",
       "3                                  0           40   \n",
       "4                                  0           89   \n",
       "\n",
       "   Restaur_spend_greater_than20 Travel Time Climate  drop location  \\\n",
       "0                         less1           7  Summer     Location C   \n",
       "1                         less1          18  Summer     Location A   \n",
       "2                         never           7  Summer     Location C   \n",
       "3                         less1          18  Spring     Location C   \n",
       "4                           1~3          18  Summer     Location B   \n",
       "\n",
       "  Prefer home food  \n",
       "0                0  \n",
       "1                1  \n",
       "2                0  \n",
       "3                1  \n",
       "4                1  \n",
       "\n",
       "[5 rows x 30 columns]"
      ]
     },
     "execution_count": 36,
     "metadata": {},
     "output_type": "execute_result"
    }
   ],
   "source": [
    "test_df = pd.read_csv(\"/kaggle/input/marketing-strategy-personalised-offer/test_data.csv\")\n",
    "\n",
    "test_df[:5]\n",
    "\n",
    "                      "
   ]
  },
  {
   "cell_type": "code",
   "execution_count": 37,
   "id": "7ff299cc",
   "metadata": {
    "execution": {
     "iopub.execute_input": "2022-10-04T10:21:12.696896Z",
     "iopub.status.busy": "2022-10-04T10:21:12.696092Z",
     "iopub.status.idle": "2022-10-04T10:21:12.709514Z",
     "shell.execute_reply": "2022-10-04T10:21:12.708542Z"
    },
    "papermill": {
     "duration": 0.031,
     "end_time": "2022-10-04T10:21:12.711757",
     "exception": false,
     "start_time": "2022-10-04T10:21:12.680757",
     "status": "completed"
    },
    "tags": []
   },
   "outputs": [
    {
     "data": {
      "text/plain": [
       "offer expiration                           0\n",
       "income_range                               0\n",
       "no_visited_Cold drinks                    90\n",
       "travelled_more_than_15mins_for_offer       0\n",
       "Restaur_spend_less_than20                 61\n",
       "Marital Status                             0\n",
       "restaurant type                            0\n",
       "age                                        0\n",
       "Prefer western over chinese                0\n",
       "travelled_more_than_25mins_for_offer       0\n",
       "travelled_more_than_5mins_for_offer        0\n",
       "no_visited_bars                           50\n",
       "gender                                     0\n",
       "car                                     5262\n",
       "restuarant_same_direction_house            0\n",
       "Cooks regularly                            0\n",
       "Customer type                              0\n",
       "Qualification                              0\n",
       "is foodie                                  0\n",
       "no_Take-aways                             60\n",
       "Job/Job Industry                           0\n",
       "restuarant_opposite_direction_house        0\n",
       "has Children                               0\n",
       "visit restaurant with rating (avg)         0\n",
       "temperature                                0\n",
       "Restaur_spend_greater_than20             104\n",
       "Travel Time                                0\n",
       "Climate                                    0\n",
       "drop location                              0\n",
       "Prefer home food                           0\n",
       "dtype: int64"
      ]
     },
     "execution_count": 37,
     "metadata": {},
     "output_type": "execute_result"
    }
   ],
   "source": [
    "test_df.isnull().sum()"
   ]
  },
  {
   "cell_type": "code",
   "execution_count": 38,
   "id": "fff7af99",
   "metadata": {
    "execution": {
     "iopub.execute_input": "2022-10-04T10:21:12.742266Z",
     "iopub.status.busy": "2022-10-04T10:21:12.741397Z",
     "iopub.status.idle": "2022-10-04T10:21:12.748049Z",
     "shell.execute_reply": "2022-10-04T10:21:12.747199Z"
    },
    "papermill": {
     "duration": 0.024302,
     "end_time": "2022-10-04T10:21:12.750338",
     "exception": false,
     "start_time": "2022-10-04T10:21:12.726036",
     "status": "completed"
    },
    "tags": []
   },
   "outputs": [],
   "source": [
    "test_df= test_df.drop([\"car\"], axis =1)"
   ]
  },
  {
   "cell_type": "code",
   "execution_count": 39,
   "id": "990e2377",
   "metadata": {
    "execution": {
     "iopub.execute_input": "2022-10-04T10:21:12.781283Z",
     "iopub.status.busy": "2022-10-04T10:21:12.780192Z",
     "iopub.status.idle": "2022-10-04T10:21:12.784719Z",
     "shell.execute_reply": "2022-10-04T10:21:12.783988Z"
    },
    "papermill": {
     "duration": 0.022272,
     "end_time": "2022-10-04T10:21:12.786787",
     "exception": false,
     "start_time": "2022-10-04T10:21:12.764515",
     "status": "completed"
    },
    "tags": []
   },
   "outputs": [],
   "source": [
    "from sklearn.impute import SimpleImputer"
   ]
  },
  {
   "cell_type": "code",
   "execution_count": 40,
   "id": "a840d484",
   "metadata": {
    "execution": {
     "iopub.execute_input": "2022-10-04T10:21:12.817406Z",
     "iopub.status.busy": "2022-10-04T10:21:12.816727Z",
     "iopub.status.idle": "2022-10-04T10:21:12.855877Z",
     "shell.execute_reply": "2022-10-04T10:21:12.854657Z"
    },
    "papermill": {
     "duration": 0.057546,
     "end_time": "2022-10-04T10:21:12.858506",
     "exception": false,
     "start_time": "2022-10-04T10:21:12.800960",
     "status": "completed"
    },
    "tags": []
   },
   "outputs": [],
   "source": [
    "si = SimpleImputer(strategy = \"most_frequent\")\n",
    "\n",
    "test_df = si.fit_transform(test_df)"
   ]
  },
  {
   "cell_type": "code",
   "execution_count": 41,
   "id": "ffd3f891",
   "metadata": {
    "execution": {
     "iopub.execute_input": "2022-10-04T10:21:12.889964Z",
     "iopub.status.busy": "2022-10-04T10:21:12.889540Z",
     "iopub.status.idle": "2022-10-04T10:21:12.897390Z",
     "shell.execute_reply": "2022-10-04T10:21:12.896524Z"
    },
    "papermill": {
     "duration": 0.026765,
     "end_time": "2022-10-04T10:21:12.899426",
     "exception": false,
     "start_time": "2022-10-04T10:21:12.872661",
     "status": "completed"
    },
    "tags": []
   },
   "outputs": [],
   "source": [
    "X_test = pd.DataFrame(test_df, columns = selected_columns)"
   ]
  },
  {
   "cell_type": "code",
   "execution_count": null,
   "id": "c5822415",
   "metadata": {
    "papermill": {
     "duration": 0.013783,
     "end_time": "2022-10-04T10:21:12.926893",
     "exception": false,
     "start_time": "2022-10-04T10:21:12.913110",
     "status": "completed"
    },
    "tags": []
   },
   "outputs": [],
   "source": []
  },
  {
   "cell_type": "code",
   "execution_count": 42,
   "id": "a7bba182",
   "metadata": {
    "execution": {
     "iopub.execute_input": "2022-10-04T10:21:12.956438Z",
     "iopub.status.busy": "2022-10-04T10:21:12.956002Z",
     "iopub.status.idle": "2022-10-04T10:21:12.965265Z",
     "shell.execute_reply": "2022-10-04T10:21:12.964207Z"
    },
    "papermill": {
     "duration": 0.026797,
     "end_time": "2022-10-04T10:21:12.967498",
     "exception": false,
     "start_time": "2022-10-04T10:21:12.940701",
     "status": "completed"
    },
    "tags": []
   },
   "outputs": [],
   "source": [
    "dec_num = {\"offer expiration\":{\"2days\":1,'10hours':2},\"income_range\":{'Less than ₹12500':1,'₹12500 - ₹24999':2,'₹25000 - ₹37499':3,'₹37500 - ₹49999':4,'₹50000 - ₹62499':5,'₹62500 - ₹74999':6,'₹75000 - ₹87499':7,'₹87500 - ₹99999':8, '₹100000 or More':9},'no_visited_Cold drinks'\n",
    ":{'never':1,'less1': 2,'1~3': 3, '4~8': 4, 'gt8':5},\"Restaur_spend_less_than20\" :{'less1':1,'1~3':2,'4~8':3,'gt8':4,'never':5},\"restaurant type\":{'Cold drinks':1,'Take-away restaurant':2,'Restaurant with pub':3,'2 star restaurant':4,'4 star restaurant':5},\"age\":{'below21':1,'21':2,'26':3,'31':4,'36':5,'41':6,'46':7,'50plus':8},\"no_Take-aways\":{'never':1,'less1':2,'1~3':3,'4~8':4,'gt8':5},'no_visited_bars'\n",
    ":{'never':1,'less1':2,'1~3':3,'4~8':4,'gt8':5},\"Restaur_spend_greater_than20\" :{'less1':1,'1~3':2,'4~8':3,'gt8':4,'never':5}}"
   ]
  },
  {
   "cell_type": "code",
   "execution_count": 43,
   "id": "ac564f3c",
   "metadata": {
    "execution": {
     "iopub.execute_input": "2022-10-04T10:21:12.997836Z",
     "iopub.status.busy": "2022-10-04T10:21:12.997438Z",
     "iopub.status.idle": "2022-10-04T10:21:13.047520Z",
     "shell.execute_reply": "2022-10-04T10:21:13.046428Z"
    },
    "papermill": {
     "duration": 0.068379,
     "end_time": "2022-10-04T10:21:13.050074",
     "exception": false,
     "start_time": "2022-10-04T10:21:12.981695",
     "status": "completed"
    },
    "tags": []
   },
   "outputs": [],
   "source": [
    "X_test = X_test.replace(dec_num)"
   ]
  },
  {
   "cell_type": "code",
   "execution_count": 44,
   "id": "4a8d4997",
   "metadata": {
    "execution": {
     "iopub.execute_input": "2022-10-04T10:21:13.080708Z",
     "iopub.status.busy": "2022-10-04T10:21:13.080298Z",
     "iopub.status.idle": "2022-10-04T10:21:13.086326Z",
     "shell.execute_reply": "2022-10-04T10:21:13.085277Z"
    },
    "papermill": {
     "duration": 0.024064,
     "end_time": "2022-10-04T10:21:13.088474",
     "exception": false,
     "start_time": "2022-10-04T10:21:13.064410",
     "status": "completed"
    },
    "tags": []
   },
   "outputs": [],
   "source": [
    "num_attrib = [\"temperature\", \"Travel Time\"]\n",
    "nom_attrib = [\"travelled_more_than_15mins_for_offer\",\"Marital Status\",\"Prefer western over chinese\",\"Qualification\",\"travelled_more_than_25mins_for_offer\",\"travelled_more_than_5mins_for_offer\",\"gender\",\"restuarant_same_direction_house\",\"Cooks regularly\",\"Customer type\",\"is foodie\",\"Job/Job Industry\",\"restuarant_opposite_direction_house\",\"has Children\",\"Climate\",\"drop location\",\"Prefer home food\"]\n",
    "              \n",
    "ord_attrib = [\"offer expiration\",\"income_range\",\"no_visited_Cold drinks\",\"Restaur_spend_less_than20\",\"restaurant type\",\"no_Take-aways\",\"no_visited_bars\",\"age\",\"Restaur_spend_greater_than20\",\"visit restaurant with rating (avg)\"]"
   ]
  },
  {
   "cell_type": "code",
   "execution_count": 45,
   "id": "f4885f05",
   "metadata": {
    "execution": {
     "iopub.execute_input": "2022-10-04T10:21:13.120973Z",
     "iopub.status.busy": "2022-10-04T10:21:13.120595Z",
     "iopub.status.idle": "2022-10-04T10:21:13.181850Z",
     "shell.execute_reply": "2022-10-04T10:21:13.180898Z"
    },
    "papermill": {
     "duration": 0.079951,
     "end_time": "2022-10-04T10:21:13.184601",
     "exception": false,
     "start_time": "2022-10-04T10:21:13.104650",
     "status": "completed"
    },
    "tags": []
   },
   "outputs": [],
   "source": [
    "t= [(\"num\",MinMaxScaler(),num_attrib),(\"ord\",OrdinalEncoder(),ord_attrib),(\"cat\",OneHotEncoder(sparse=False),nom_attrib)]\n",
    "\n",
    "pipeline = ColumnTransformer(transformers=t)\n",
    "\n",
    "X_test = pipeline.fit_transform(X_test)\n"
   ]
  },
  {
   "cell_type": "code",
   "execution_count": 46,
   "id": "750a78d6",
   "metadata": {
    "execution": {
     "iopub.execute_input": "2022-10-04T10:21:13.215313Z",
     "iopub.status.busy": "2022-10-04T10:21:13.214841Z",
     "iopub.status.idle": "2022-10-04T10:21:13.223330Z",
     "shell.execute_reply": "2022-10-04T10:21:13.221722Z"
    },
    "papermill": {
     "duration": 0.029466,
     "end_time": "2022-10-04T10:21:13.228577",
     "exception": false,
     "start_time": "2022-10-04T10:21:13.199111",
     "status": "completed"
    },
    "tags": []
   },
   "outputs": [],
   "source": [
    "prediction = model.predict(X_test)"
   ]
  },
  {
   "cell_type": "code",
   "execution_count": 47,
   "id": "eae54115",
   "metadata": {
    "execution": {
     "iopub.execute_input": "2022-10-04T10:21:13.307524Z",
     "iopub.status.busy": "2022-10-04T10:21:13.306598Z",
     "iopub.status.idle": "2022-10-04T10:21:13.323712Z",
     "shell.execute_reply": "2022-10-04T10:21:13.322091Z"
    },
    "papermill": {
     "duration": 0.062315,
     "end_time": "2022-10-04T10:21:13.328420",
     "exception": false,
     "start_time": "2022-10-04T10:21:13.266105",
     "status": "completed"
    },
    "tags": []
   },
   "outputs": [
    {
     "data": {
      "text/plain": [
       "array(['No', 'Yes', 'No', 'No', 'Yes'], dtype=object)"
      ]
     },
     "execution_count": 47,
     "metadata": {},
     "output_type": "execute_result"
    }
   ],
   "source": [
    "prediction[:5]"
   ]
  },
  {
   "cell_type": "code",
   "execution_count": 48,
   "id": "b1de5f1e",
   "metadata": {
    "execution": {
     "iopub.execute_input": "2022-10-04T10:21:13.365971Z",
     "iopub.status.busy": "2022-10-04T10:21:13.365545Z",
     "iopub.status.idle": "2022-10-04T10:21:13.385034Z",
     "shell.execute_reply": "2022-10-04T10:21:13.383929Z"
    },
    "papermill": {
     "duration": 0.037627,
     "end_time": "2022-10-04T10:21:13.387597",
     "exception": false,
     "start_time": "2022-10-04T10:21:13.349970",
     "status": "completed"
    },
    "tags": []
   },
   "outputs": [
    {
     "data": {
      "text/html": [
       "<div>\n",
       "<style scoped>\n",
       "    .dataframe tbody tr th:only-of-type {\n",
       "        vertical-align: middle;\n",
       "    }\n",
       "\n",
       "    .dataframe tbody tr th {\n",
       "        vertical-align: top;\n",
       "    }\n",
       "\n",
       "    .dataframe thead th {\n",
       "        text-align: right;\n",
       "    }\n",
       "</style>\n",
       "<table border=\"1\" class=\"dataframe\">\n",
       "  <thead>\n",
       "    <tr style=\"text-align: right;\">\n",
       "      <th></th>\n",
       "      <th>id</th>\n",
       "      <th>Offer Accepted</th>\n",
       "    </tr>\n",
       "  </thead>\n",
       "  <tbody>\n",
       "    <tr>\n",
       "      <th>0</th>\n",
       "      <td>0</td>\n",
       "      <td>No</td>\n",
       "    </tr>\n",
       "    <tr>\n",
       "      <th>1</th>\n",
       "      <td>1</td>\n",
       "      <td>Yes</td>\n",
       "    </tr>\n",
       "    <tr>\n",
       "      <th>2</th>\n",
       "      <td>2</td>\n",
       "      <td>No</td>\n",
       "    </tr>\n",
       "    <tr>\n",
       "      <th>3</th>\n",
       "      <td>3</td>\n",
       "      <td>No</td>\n",
       "    </tr>\n",
       "    <tr>\n",
       "      <th>4</th>\n",
       "      <td>4</td>\n",
       "      <td>Yes</td>\n",
       "    </tr>\n",
       "  </tbody>\n",
       "</table>\n",
       "</div>"
      ],
      "text/plain": [
       "   id Offer Accepted\n",
       "0   0             No\n",
       "1   1            Yes\n",
       "2   2             No\n",
       "3   3             No\n",
       "4   4            Yes"
      ]
     },
     "execution_count": 48,
     "metadata": {},
     "output_type": "execute_result"
    }
   ],
   "source": [
    "submission = pd.DataFrame(columns = [\"id\",\"Offer Accepted\"])\n",
    "submission[\"id\"] = [i for i in range(len(prediction))]\n",
    "submission[\"Offer Accepted\"]= prediction\n",
    "submission[:5]"
   ]
  },
  {
   "cell_type": "code",
   "execution_count": 49,
   "id": "f69c1d63",
   "metadata": {
    "execution": {
     "iopub.execute_input": "2022-10-04T10:21:13.418479Z",
     "iopub.status.busy": "2022-10-04T10:21:13.417705Z",
     "iopub.status.idle": "2022-10-04T10:21:13.430845Z",
     "shell.execute_reply": "2022-10-04T10:21:13.429782Z"
    },
    "papermill": {
     "duration": 0.031415,
     "end_time": "2022-10-04T10:21:13.433398",
     "exception": false,
     "start_time": "2022-10-04T10:21:13.401983",
     "status": "completed"
    },
    "tags": []
   },
   "outputs": [],
   "source": [
    "submission.to_csv('submission_csv',index= False)"
   ]
  },
  {
   "cell_type": "code",
   "execution_count": null,
   "id": "7c336935",
   "metadata": {
    "papermill": {
     "duration": 0.014093,
     "end_time": "2022-10-04T10:21:13.462765",
     "exception": false,
     "start_time": "2022-10-04T10:21:13.448672",
     "status": "completed"
    },
    "tags": []
   },
   "outputs": [],
   "source": []
  }
 ],
 "metadata": {
  "kernelspec": {
   "display_name": "Python 3",
   "language": "python",
   "name": "python3"
  },
  "language_info": {
   "codemirror_mode": {
    "name": "ipython",
    "version": 3
   },
   "file_extension": ".py",
   "mimetype": "text/x-python",
   "name": "python",
   "nbconvert_exporter": "python",
   "pygments_lexer": "ipython3",
   "version": "3.7.12"
  },
  "papermill": {
   "default_parameters": {},
   "duration": 14.169915,
   "end_time": "2022-10-04T10:21:14.198677",
   "environment_variables": {},
   "exception": null,
   "input_path": "__notebook__.ipynb",
   "output_path": "__notebook__.ipynb",
   "parameters": {},
   "start_time": "2022-10-04T10:21:00.028762",
   "version": "2.3.4"
  }
 },
 "nbformat": 4,
 "nbformat_minor": 5
}
