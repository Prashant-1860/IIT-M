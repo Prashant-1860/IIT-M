{
 "cells": [
  {
   "cell_type": "code",
   "execution_count": 1,
   "id": "6c1cebea",
   "metadata": {
    "_cell_guid": "b1076dfc-b9ad-4769-8c92-a6c4dae69d19",
    "_uuid": "8f2839f25d086af736a60e9eeb907d3b93b6e0e5",
    "execution": {
     "iopub.execute_input": "2022-10-21T13:50:07.462374Z",
     "iopub.status.busy": "2022-10-21T13:50:07.461913Z",
     "iopub.status.idle": "2022-10-21T13:50:07.478820Z",
     "shell.execute_reply": "2022-10-21T13:50:07.476573Z"
    },
    "papermill": {
     "duration": 0.034869,
     "end_time": "2022-10-21T13:50:07.482030",
     "exception": false,
     "start_time": "2022-10-21T13:50:07.447161",
     "status": "completed"
    },
    "tags": []
   },
   "outputs": [
    {
     "name": "stdout",
     "output_type": "stream",
     "text": [
      "/kaggle/input/marketing-strategy-personalised-offer/sample.csv\n",
      "/kaggle/input/marketing-strategy-personalised-offer/train_data.csv\n",
      "/kaggle/input/marketing-strategy-personalised-offer/test_data.csv\n"
     ]
    }
   ],
   "source": [
    "# This Python 3 environment comes with many helpful analytics libraries installed\n",
    "# It is defined by the kaggle/python Docker image: https://github.com/kaggle/docker-python\n",
    "# For example, here's several helpful packages to load\n",
    "\n",
    "import numpy as np # linear algebra\n",
    "import pandas as pd # data processing, CSV file I/O (e.g. pd.read_csv)\n",
    "\n",
    "# Input data files are available in the read-only \"../input/\" directory\n",
    "# For example, running this (by clicking run or pressing Shift+Enter) will list all files under the input directory\n",
    "\n",
    "import os\n",
    "for dirname, _, filenames in os.walk('/kaggle/input'):\n",
    "    for filename in filenames:\n",
    "        print(os.path.join(dirname, filename))\n",
    "\n",
    "# You can write up to 20GB to the current directory (/kaggle/working/) that gets preserved as output when you create a version using \"Save & Run All\" \n",
    "# You can also write temporary files to /kaggle/temp/, but they won't be saved outside of the current session"
   ]
  },
  {
   "cell_type": "code",
   "execution_count": 2,
   "id": "3524c62c",
   "metadata": {
    "execution": {
     "iopub.execute_input": "2022-10-21T13:50:07.509382Z",
     "iopub.status.busy": "2022-10-21T13:50:07.509007Z",
     "iopub.status.idle": "2022-10-21T13:50:08.674146Z",
     "shell.execute_reply": "2022-10-21T13:50:08.672584Z"
    },
    "papermill": {
     "duration": 1.181779,
     "end_time": "2022-10-21T13:50:08.676741",
     "exception": false,
     "start_time": "2022-10-21T13:50:07.494962",
     "status": "completed"
    },
    "tags": []
   },
   "outputs": [],
   "source": [
    "import pandas as pd\n",
    "import matplotlib.pyplot as plt\n",
    "import seaborn as sns\n",
    "import numpy as np"
   ]
  },
  {
   "cell_type": "code",
   "execution_count": 3,
   "id": "5ed74652",
   "metadata": {
    "execution": {
     "iopub.execute_input": "2022-10-21T13:50:08.704559Z",
     "iopub.status.busy": "2022-10-21T13:50:08.704117Z",
     "iopub.status.idle": "2022-10-21T13:50:08.787653Z",
     "shell.execute_reply": "2022-10-21T13:50:08.786846Z"
    },
    "papermill": {
     "duration": 0.101262,
     "end_time": "2022-10-21T13:50:08.790419",
     "exception": false,
     "start_time": "2022-10-21T13:50:08.689157",
     "status": "completed"
    },
    "tags": []
   },
   "outputs": [],
   "source": [
    "data_mkt = pd.read_csv(\"/kaggle/input/marketing-strategy-personalised-offer/train_data.csv\")"
   ]
  },
  {
   "cell_type": "code",
   "execution_count": 4,
   "id": "a6c419d6",
   "metadata": {
    "execution": {
     "iopub.execute_input": "2022-10-21T13:50:08.823384Z",
     "iopub.status.busy": "2022-10-21T13:50:08.821861Z",
     "iopub.status.idle": "2022-10-21T13:50:08.867170Z",
     "shell.execute_reply": "2022-10-21T13:50:08.865343Z"
    },
    "papermill": {
     "duration": 0.065354,
     "end_time": "2022-10-21T13:50:08.870421",
     "exception": false,
     "start_time": "2022-10-21T13:50:08.805067",
     "status": "completed"
    },
    "tags": []
   },
   "outputs": [
    {
     "name": "stdout",
     "output_type": "stream",
     "text": [
      "<class 'pandas.core.frame.DataFrame'>\n",
      "RangeIndex: 12379 entries, 0 to 12378\n",
      "Data columns (total 31 columns):\n",
      " #   Column                                Non-Null Count  Dtype \n",
      "---  ------                                --------------  ----- \n",
      " 0   offer expiration                      12379 non-null  object\n",
      " 1   income_range                          12379 non-null  object\n",
      " 2   no_visited_Cold drinks                12181 non-null  object\n",
      " 3   travelled_more_than_15mins_for_offer  12379 non-null  int64 \n",
      " 4   Restaur_spend_less_than20             12258 non-null  object\n",
      " 5   Marital Status                        12379 non-null  object\n",
      " 6   restaurant type                       12379 non-null  object\n",
      " 7   age                                   12379 non-null  object\n",
      " 8   Prefer western over chinese           12379 non-null  int64 \n",
      " 9   travelled_more_than_25mins_for_offer  12379 non-null  int64 \n",
      " 10  travelled_more_than_5mins_for_offer   12379 non-null  int64 \n",
      " 11  no_visited_bars                       12286 non-null  object\n",
      " 12  gender                                12379 non-null  object\n",
      " 13  car                                   111 non-null    object\n",
      " 14  restuarant_same_direction_house       12379 non-null  int64 \n",
      " 15  Cooks regularly                       12379 non-null  int64 \n",
      " 16  Customer type                         12379 non-null  object\n",
      " 17  Qualification                         12379 non-null  object\n",
      " 18  is foodie                             12379 non-null  int64 \n",
      " 19  no_Take-aways                         12235 non-null  object\n",
      " 20  Job/Job Industry                      12379 non-null  object\n",
      " 21  restuarant_opposite_direction_house   12379 non-null  int64 \n",
      " 22  has Children                          12379 non-null  int64 \n",
      " 23  visit restaurant with rating (avg)    12379 non-null  int64 \n",
      " 24  temperature                           12379 non-null  int64 \n",
      " 25  Restaur_spend_greater_than20          12219 non-null  object\n",
      " 26  Travel Time                           12379 non-null  int64 \n",
      " 27  Climate                               12379 non-null  object\n",
      " 28  drop location                         12379 non-null  object\n",
      " 29  Prefer home food                      12379 non-null  int64 \n",
      " 30  Offer Accepted                        12379 non-null  object\n",
      "dtypes: int64(13), object(18)\n",
      "memory usage: 2.9+ MB\n"
     ]
    }
   ],
   "source": [
    "data_mkt.info()"
   ]
  },
  {
   "cell_type": "code",
   "execution_count": 5,
   "id": "03147480",
   "metadata": {
    "execution": {
     "iopub.execute_input": "2022-10-21T13:50:08.897749Z",
     "iopub.status.busy": "2022-10-21T13:50:08.896788Z",
     "iopub.status.idle": "2022-10-21T13:50:08.924555Z",
     "shell.execute_reply": "2022-10-21T13:50:08.923672Z"
    },
    "papermill": {
     "duration": 0.043044,
     "end_time": "2022-10-21T13:50:08.926326",
     "exception": false,
     "start_time": "2022-10-21T13:50:08.883282",
     "status": "completed"
    },
    "tags": []
   },
   "outputs": [
    {
     "data": {
      "text/plain": [
       "<bound method NDFrame.describe of       offer expiration     income_range no_visited_Cold drinks  \\\n",
       "0                2days  ₹100000 or More                    4~8   \n",
       "1                2days  ₹87500 - ₹99999                    4~8   \n",
       "2                2days  ₹87500 - ₹99999                  less1   \n",
       "3              10hours  ₹37500 - ₹49999                  less1   \n",
       "4                2days  ₹100000 or More                  never   \n",
       "...                ...              ...                    ...   \n",
       "12374          10hours  ₹25000 - ₹37499                  less1   \n",
       "12375            2days  ₹25000 - ₹37499                    4~8   \n",
       "12376          10hours  ₹87500 - ₹99999                    4~8   \n",
       "12377          10hours  ₹12500 - ₹24999                    4~8   \n",
       "12378            2days  ₹37500 - ₹49999                    1~3   \n",
       "\n",
       "       travelled_more_than_15mins_for_offer Restaur_spend_less_than20  \\\n",
       "0                                         1                     less1   \n",
       "1                                         0                       4~8   \n",
       "2                                         1                       1~3   \n",
       "3                                         0                       1~3   \n",
       "4                                         1                       1~3   \n",
       "...                                     ...                       ...   \n",
       "12374                                     1                       gt8   \n",
       "12375                                     0                     never   \n",
       "12376                                     1                       gt8   \n",
       "12377                                     1                     less1   \n",
       "12378                                     1                     less1   \n",
       "\n",
       "          Marital Status       restaurant type      age  \\\n",
       "0        Married partner     4 star restaurant       36   \n",
       "1        Married partner  Take-away restaurant   50plus   \n",
       "2                 Single           Cold drinks       26   \n",
       "3                 Single  Take-away restaurant       46   \n",
       "4                 Single     4 star restaurant       21   \n",
       "...                  ...                   ...      ...   \n",
       "12374  Unmarried partner   Restaurant with pub   50plus   \n",
       "12375             Single  Take-away restaurant       21   \n",
       "12376    Married partner           Cold drinks       31   \n",
       "12377    Married partner     2 star restaurant       26   \n",
       "12378  Unmarried partner     4 star restaurant  below21   \n",
       "\n",
       "       Prefer western over chinese  travelled_more_than_25mins_for_offer  ...  \\\n",
       "0                                0                                     0  ...   \n",
       "1                                0                                     0  ...   \n",
       "2                                1                                     0  ...   \n",
       "3                                1                                     0  ...   \n",
       "4                                0                                     1  ...   \n",
       "...                            ...                                   ...  ...   \n",
       "12374                            0                                     0  ...   \n",
       "12375                            0                                     0  ...   \n",
       "12376                            0                                     1  ...   \n",
       "12377                            0                                     0  ...   \n",
       "12378                            1                                     0  ...   \n",
       "\n",
       "       restuarant_opposite_direction_house has Children  \\\n",
       "0                                        0            0   \n",
       "1                                        0            1   \n",
       "2                                        1            1   \n",
       "3                                        0            1   \n",
       "4                                        1            0   \n",
       "...                                    ...          ...   \n",
       "12374                                    1            1   \n",
       "12375                                    1            1   \n",
       "12376                                    1            0   \n",
       "12377                                    1            0   \n",
       "12378                                    1            0   \n",
       "\n",
       "      visit restaurant with rating (avg) temperature  \\\n",
       "0                                      4          67   \n",
       "1                                      3          89   \n",
       "2                                      4          67   \n",
       "3                                      3          89   \n",
       "4                                      3          40   \n",
       "...                                  ...         ...   \n",
       "12374                                  1          89   \n",
       "12375                                  2          67   \n",
       "12376                                  2          89   \n",
       "12377                                  1          89   \n",
       "12378                                  0          67   \n",
       "\n",
       "       Restaur_spend_greater_than20  Travel Time Climate drop location  \\\n",
       "0                             less1           22  Spring    Location B   \n",
       "1                               1~3           18  Summer    Location B   \n",
       "2                             less1            7  Winter    Location A   \n",
       "3                               1~3            7  Summer    Location C   \n",
       "4                             less1            7  Summer    Location C   \n",
       "...                             ...          ...     ...           ...   \n",
       "12374                         never           22  Summer    Location B   \n",
       "12375                         never           18  Summer    Location B   \n",
       "12376                           gt8           18  Spring    Location B   \n",
       "12377                         less1            7  Summer    Location C   \n",
       "12378                         less1            7  Spring    Location A   \n",
       "\n",
       "       Prefer home food Offer Accepted  \n",
       "0                     0             No  \n",
       "1                     0            Yes  \n",
       "2                     1            Yes  \n",
       "3                     0             No  \n",
       "4                     0             No  \n",
       "...                 ...            ...  \n",
       "12374                 0            Yes  \n",
       "12375                 0            Yes  \n",
       "12376                 1             No  \n",
       "12377                 0            Yes  \n",
       "12378                 1            Yes  \n",
       "\n",
       "[12379 rows x 31 columns]>"
      ]
     },
     "execution_count": 5,
     "metadata": {},
     "output_type": "execute_result"
    }
   ],
   "source": [
    "data_mkt.describe"
   ]
  },
  {
   "cell_type": "code",
   "execution_count": 6,
   "id": "a46b7ea1",
   "metadata": {
    "execution": {
     "iopub.execute_input": "2022-10-21T13:50:08.953510Z",
     "iopub.status.busy": "2022-10-21T13:50:08.952878Z",
     "iopub.status.idle": "2022-10-21T13:50:08.959412Z",
     "shell.execute_reply": "2022-10-21T13:50:08.958739Z"
    },
    "papermill": {
     "duration": 0.02234,
     "end_time": "2022-10-21T13:50:08.961207",
     "exception": false,
     "start_time": "2022-10-21T13:50:08.938867",
     "status": "completed"
    },
    "tags": []
   },
   "outputs": [
    {
     "data": {
      "text/plain": [
       "array(['₹100000 or More', '₹87500 - ₹99999', '₹37500 - ₹49999',\n",
       "       'Less than ₹12500', '₹50000 - ₹62499', '₹12500 - ₹24999',\n",
       "       '₹75000 - ₹87499', '₹25000 - ₹37499', '₹62500 - ₹74999'],\n",
       "      dtype=object)"
      ]
     },
     "execution_count": 6,
     "metadata": {},
     "output_type": "execute_result"
    }
   ],
   "source": [
    "data_mkt[\"income_range\"].unique()"
   ]
  },
  {
   "cell_type": "code",
   "execution_count": 7,
   "id": "1bed2bdf",
   "metadata": {
    "execution": {
     "iopub.execute_input": "2022-10-21T13:50:08.988109Z",
     "iopub.status.busy": "2022-10-21T13:50:08.987479Z",
     "iopub.status.idle": "2022-10-21T13:50:08.992524Z",
     "shell.execute_reply": "2022-10-21T13:50:08.991861Z"
    },
    "papermill": {
     "duration": 0.02116,
     "end_time": "2022-10-21T13:50:08.994874",
     "exception": false,
     "start_time": "2022-10-21T13:50:08.973714",
     "status": "completed"
    },
    "tags": []
   },
   "outputs": [
    {
     "data": {
      "text/plain": [
       "31"
      ]
     },
     "execution_count": 7,
     "metadata": {},
     "output_type": "execute_result"
    }
   ],
   "source": [
    "len(data_mkt.columns)"
   ]
  },
  {
   "cell_type": "code",
   "execution_count": 8,
   "id": "83ee1386",
   "metadata": {
    "execution": {
     "iopub.execute_input": "2022-10-21T13:50:09.022262Z",
     "iopub.status.busy": "2022-10-21T13:50:09.021099Z",
     "iopub.status.idle": "2022-10-21T13:50:09.028364Z",
     "shell.execute_reply": "2022-10-21T13:50:09.027292Z"
    },
    "papermill": {
     "duration": 0.022589,
     "end_time": "2022-10-21T13:50:09.030237",
     "exception": false,
     "start_time": "2022-10-21T13:50:09.007648",
     "status": "completed"
    },
    "tags": []
   },
   "outputs": [
    {
     "data": {
      "text/plain": [
       "array(['2days', '10hours'], dtype=object)"
      ]
     },
     "execution_count": 8,
     "metadata": {},
     "output_type": "execute_result"
    }
   ],
   "source": [
    "data_mkt[\"offer expiration\"].unique()"
   ]
  },
  {
   "cell_type": "code",
   "execution_count": 9,
   "id": "cffecdf9",
   "metadata": {
    "execution": {
     "iopub.execute_input": "2022-10-21T13:50:09.058053Z",
     "iopub.status.busy": "2022-10-21T13:50:09.057441Z",
     "iopub.status.idle": "2022-10-21T13:50:09.063109Z",
     "shell.execute_reply": "2022-10-21T13:50:09.062442Z"
    },
    "papermill": {
     "duration": 0.021713,
     "end_time": "2022-10-21T13:50:09.064793",
     "exception": false,
     "start_time": "2022-10-21T13:50:09.043080",
     "status": "completed"
    },
    "tags": []
   },
   "outputs": [
    {
     "data": {
      "text/plain": [
       "array(['4~8', 'less1', 'never', '1~3', 'gt8', nan], dtype=object)"
      ]
     },
     "execution_count": 9,
     "metadata": {},
     "output_type": "execute_result"
    }
   ],
   "source": [
    "data_mkt['no_visited_Cold drinks'].unique()"
   ]
  },
  {
   "cell_type": "code",
   "execution_count": 10,
   "id": "ee836faf",
   "metadata": {
    "execution": {
     "iopub.execute_input": "2022-10-21T13:50:09.092959Z",
     "iopub.status.busy": "2022-10-21T13:50:09.092094Z",
     "iopub.status.idle": "2022-10-21T13:50:09.101670Z",
     "shell.execute_reply": "2022-10-21T13:50:09.100052Z"
    },
    "papermill": {
     "duration": 0.026549,
     "end_time": "2022-10-21T13:50:09.104025",
     "exception": false,
     "start_time": "2022-10-21T13:50:09.077476",
     "status": "completed"
    },
    "tags": []
   },
   "outputs": [
    {
     "data": {
      "text/plain": [
       "array([1, 0])"
      ]
     },
     "execution_count": 10,
     "metadata": {},
     "output_type": "execute_result"
    }
   ],
   "source": [
    "data_mkt['travelled_more_than_15mins_for_offer'].unique()"
   ]
  },
  {
   "cell_type": "code",
   "execution_count": 11,
   "id": "485e18d0",
   "metadata": {
    "execution": {
     "iopub.execute_input": "2022-10-21T13:50:09.132015Z",
     "iopub.status.busy": "2022-10-21T13:50:09.131450Z",
     "iopub.status.idle": "2022-10-21T13:50:09.139763Z",
     "shell.execute_reply": "2022-10-21T13:50:09.138563Z"
    },
    "papermill": {
     "duration": 0.025522,
     "end_time": "2022-10-21T13:50:09.142416",
     "exception": false,
     "start_time": "2022-10-21T13:50:09.116894",
     "status": "completed"
    },
    "tags": []
   },
   "outputs": [
    {
     "data": {
      "text/plain": [
       "array(['less1', '4~8', '1~3', 'gt8', 'never', nan], dtype=object)"
      ]
     },
     "execution_count": 11,
     "metadata": {},
     "output_type": "execute_result"
    }
   ],
   "source": [
    "data_mkt['Restaur_spend_less_than20'].unique()"
   ]
  },
  {
   "cell_type": "code",
   "execution_count": 12,
   "id": "3c0df129",
   "metadata": {
    "execution": {
     "iopub.execute_input": "2022-10-21T13:50:09.170962Z",
     "iopub.status.busy": "2022-10-21T13:50:09.169993Z",
     "iopub.status.idle": "2022-10-21T13:50:09.178212Z",
     "shell.execute_reply": "2022-10-21T13:50:09.176787Z"
    },
    "papermill": {
     "duration": 0.025187,
     "end_time": "2022-10-21T13:50:09.180871",
     "exception": false,
     "start_time": "2022-10-21T13:50:09.155684",
     "status": "completed"
    },
    "tags": []
   },
   "outputs": [],
   "source": [
    "data_mkt=data_mkt.drop(['car'],axis=1)"
   ]
  },
  {
   "cell_type": "code",
   "execution_count": null,
   "id": "742174d2",
   "metadata": {
    "papermill": {
     "duration": 0.012456,
     "end_time": "2022-10-21T13:50:09.206273",
     "exception": false,
     "start_time": "2022-10-21T13:50:09.193817",
     "status": "completed"
    },
    "tags": []
   },
   "outputs": [],
   "source": []
  },
  {
   "cell_type": "code",
   "execution_count": 13,
   "id": "32942b71",
   "metadata": {
    "execution": {
     "iopub.execute_input": "2022-10-21T13:50:09.233233Z",
     "iopub.status.busy": "2022-10-21T13:50:09.232844Z",
     "iopub.status.idle": "2022-10-21T13:50:09.623160Z",
     "shell.execute_reply": "2022-10-21T13:50:09.622071Z"
    },
    "papermill": {
     "duration": 0.406823,
     "end_time": "2022-10-21T13:50:09.625669",
     "exception": false,
     "start_time": "2022-10-21T13:50:09.218846",
     "status": "completed"
    },
    "tags": []
   },
   "outputs": [],
   "source": [
    "from sklearn.impute import SimpleImputer\n",
    "from sklearn.impute import KNNImputer"
   ]
  },
  {
   "cell_type": "code",
   "execution_count": 14,
   "id": "8fc85c3f",
   "metadata": {
    "execution": {
     "iopub.execute_input": "2022-10-21T13:50:09.653466Z",
     "iopub.status.busy": "2022-10-21T13:50:09.653044Z",
     "iopub.status.idle": "2022-10-21T13:50:09.657950Z",
     "shell.execute_reply": "2022-10-21T13:50:09.657013Z"
    },
    "papermill": {
     "duration": 0.021789,
     "end_time": "2022-10-21T13:50:09.660359",
     "exception": false,
     "start_time": "2022-10-21T13:50:09.638570",
     "status": "completed"
    },
    "tags": []
   },
   "outputs": [],
   "source": [
    "si=SimpleImputer(strategy=\"most_frequent\")\n"
   ]
  },
  {
   "cell_type": "markdown",
   "id": "9e41583c",
   "metadata": {
    "papermill": {
     "duration": 0.012799,
     "end_time": "2022-10-21T13:50:09.686184",
     "exception": false,
     "start_time": "2022-10-21T13:50:09.673385",
     "status": "completed"
    },
    "tags": []
   },
   "source": []
  },
  {
   "cell_type": "code",
   "execution_count": 15,
   "id": "cb7791a9",
   "metadata": {
    "execution": {
     "iopub.execute_input": "2022-10-21T13:50:09.714060Z",
     "iopub.status.busy": "2022-10-21T13:50:09.713702Z",
     "iopub.status.idle": "2022-10-21T13:50:09.793333Z",
     "shell.execute_reply": "2022-10-21T13:50:09.791598Z"
    },
    "papermill": {
     "duration": 0.096661,
     "end_time": "2022-10-21T13:50:09.795960",
     "exception": false,
     "start_time": "2022-10-21T13:50:09.699299",
     "status": "completed"
    },
    "tags": []
   },
   "outputs": [],
   "source": [
    "data_imputed = si.fit_transform(data_mkt)"
   ]
  },
  {
   "cell_type": "code",
   "execution_count": 16,
   "id": "5a4b267b",
   "metadata": {
    "execution": {
     "iopub.execute_input": "2022-10-21T13:50:09.824308Z",
     "iopub.status.busy": "2022-10-21T13:50:09.823916Z",
     "iopub.status.idle": "2022-10-21T13:50:09.839197Z",
     "shell.execute_reply": "2022-10-21T13:50:09.837826Z"
    },
    "papermill": {
     "duration": 0.032775,
     "end_time": "2022-10-21T13:50:09.841995",
     "exception": false,
     "start_time": "2022-10-21T13:50:09.809220",
     "status": "completed"
    },
    "tags": []
   },
   "outputs": [],
   "source": [
    "cols=['offer expiration', 'income_range', 'no_visited_Cold drinks',\n",
    "       'travelled_more_than_15mins_for_offer', 'Restaur_spend_less_than20',\n",
    "       'Marital Status', 'restaurant type', 'age',\n",
    "       'Prefer western over chinese', 'travelled_more_than_25mins_for_offer',\n",
    "       'travelled_more_than_5mins_for_offer', 'no_visited_bars', 'gender',\n",
    "        'restuarant_same_direction_house', 'Cooks regularly',\n",
    "       'Customer type', 'Qualification', 'is foodie', 'no_Take-aways',\n",
    "       'Job/Job Industry', 'restuarant_opposite_direction_house',\n",
    "       'has Children', 'visit restaurant with rating (avg)', 'temperature',\n",
    "       'Restaur_spend_greater_than20', 'Travel Time', 'Climate',\n",
    "       'drop location', 'Prefer home food', 'Offer Accepted']\n",
    "data_imputed = pd.DataFrame(data_imputed,columns=cols)"
   ]
  },
  {
   "cell_type": "code",
   "execution_count": 17,
   "id": "42128c1c",
   "metadata": {
    "execution": {
     "iopub.execute_input": "2022-10-21T13:50:09.870693Z",
     "iopub.status.busy": "2022-10-21T13:50:09.870309Z",
     "iopub.status.idle": "2022-10-21T13:50:09.892845Z",
     "shell.execute_reply": "2022-10-21T13:50:09.891569Z"
    },
    "papermill": {
     "duration": 0.039193,
     "end_time": "2022-10-21T13:50:09.895090",
     "exception": false,
     "start_time": "2022-10-21T13:50:09.855897",
     "status": "completed"
    },
    "tags": []
   },
   "outputs": [
    {
     "data": {
      "text/plain": [
       "offer expiration                        0\n",
       "income_range                            0\n",
       "no_visited_Cold drinks                  0\n",
       "travelled_more_than_15mins_for_offer    0\n",
       "Restaur_spend_less_than20               0\n",
       "Marital Status                          0\n",
       "restaurant type                         0\n",
       "age                                     0\n",
       "Prefer western over chinese             0\n",
       "travelled_more_than_25mins_for_offer    0\n",
       "travelled_more_than_5mins_for_offer     0\n",
       "no_visited_bars                         0\n",
       "gender                                  0\n",
       "restuarant_same_direction_house         0\n",
       "Cooks regularly                         0\n",
       "Customer type                           0\n",
       "Qualification                           0\n",
       "is foodie                               0\n",
       "no_Take-aways                           0\n",
       "Job/Job Industry                        0\n",
       "restuarant_opposite_direction_house     0\n",
       "has Children                            0\n",
       "visit restaurant with rating (avg)      0\n",
       "temperature                             0\n",
       "Restaur_spend_greater_than20            0\n",
       "Travel Time                             0\n",
       "Climate                                 0\n",
       "drop location                           0\n",
       "Prefer home food                        0\n",
       "Offer Accepted                          0\n",
       "dtype: int64"
      ]
     },
     "execution_count": 17,
     "metadata": {},
     "output_type": "execute_result"
    }
   ],
   "source": [
    "data_imputed.isnull().sum()"
   ]
  },
  {
   "cell_type": "code",
   "execution_count": 18,
   "id": "a45ef999",
   "metadata": {
    "execution": {
     "iopub.execute_input": "2022-10-21T13:50:09.924058Z",
     "iopub.status.busy": "2022-10-21T13:50:09.923140Z",
     "iopub.status.idle": "2022-10-21T13:50:09.930405Z",
     "shell.execute_reply": "2022-10-21T13:50:09.929386Z"
    },
    "papermill": {
     "duration": 0.02395,
     "end_time": "2022-10-21T13:50:09.932264",
     "exception": false,
     "start_time": "2022-10-21T13:50:09.908314",
     "status": "completed"
    },
    "tags": []
   },
   "outputs": [],
   "source": [
    "cols=['offer expiration', 'income_range', 'no_visited_Cold drinks',\n",
    "       'travelled_more_than_15mins_for_offer', 'Restaur_spend_less_than20',\n",
    "       'Marital Status', 'restaurant type', 'age',\n",
    "       'Prefer western over chinese', 'travelled_more_than_25mins_for_offer',\n",
    "       'travelled_more_than_5mins_for_offer', 'no_visited_bars', 'gender',\n",
    "        'restuarant_same_direction_house', 'Cooks regularly',\n",
    "       'Customer type', 'Qualification', 'is foodie', 'no_Take-aways',\n",
    "       'Job/Job Industry', 'restuarant_opposite_direction_house',\n",
    "       'has Children', 'visit restaurant with rating (avg)', 'temperature',\n",
    "       'Restaur_spend_greater_than20', 'Travel Time', 'Climate',\n",
    "       'drop location', 'Prefer home food', 'Offer Accepted']\n",
    "data_imputed = pd.DataFrame(data_imputed,columns=cols)"
   ]
  },
  {
   "cell_type": "code",
   "execution_count": 19,
   "id": "e15c3a12",
   "metadata": {
    "execution": {
     "iopub.execute_input": "2022-10-21T13:50:09.960445Z",
     "iopub.status.busy": "2022-10-21T13:50:09.959712Z",
     "iopub.status.idle": "2022-10-21T13:50:09.972439Z",
     "shell.execute_reply": "2022-10-21T13:50:09.971481Z"
    },
    "papermill": {
     "duration": 0.029316,
     "end_time": "2022-10-21T13:50:09.974686",
     "exception": false,
     "start_time": "2022-10-21T13:50:09.945370",
     "status": "completed"
    },
    "tags": []
   },
   "outputs": [
    {
     "data": {
      "text/plain": [
       "0         No\n",
       "1        Yes\n",
       "2        Yes\n",
       "3         No\n",
       "4         No\n",
       "        ... \n",
       "12374    Yes\n",
       "12375    Yes\n",
       "12376     No\n",
       "12377    Yes\n",
       "12378    Yes\n",
       "Name: Offer Accepted, Length: 12379, dtype: object"
      ]
     },
     "execution_count": 19,
     "metadata": {},
     "output_type": "execute_result"
    }
   ],
   "source": [
    "features = data_imputed.drop([\"Offer Accepted\"],axis=1)\n",
    "label = data_imputed[\"Offer Accepted\"].copy()\n",
    "label\n"
   ]
  },
  {
   "cell_type": "code",
   "execution_count": 20,
   "id": "5888adf2",
   "metadata": {
    "execution": {
     "iopub.execute_input": "2022-10-21T13:50:10.002103Z",
     "iopub.status.busy": "2022-10-21T13:50:10.001725Z",
     "iopub.status.idle": "2022-10-21T13:50:10.014261Z",
     "shell.execute_reply": "2022-10-21T13:50:10.012873Z"
    },
    "papermill": {
     "duration": 0.028642,
     "end_time": "2022-10-21T13:50:10.016428",
     "exception": false,
     "start_time": "2022-10-21T13:50:09.987786",
     "status": "completed"
    },
    "tags": []
   },
   "outputs": [
    {
     "data": {
      "text/plain": [
       "0         No\n",
       "1        Yes\n",
       "2        Yes\n",
       "3         No\n",
       "4         No\n",
       "        ... \n",
       "12374    Yes\n",
       "12375    Yes\n",
       "12376     No\n",
       "12377    Yes\n",
       "12378    Yes\n",
       "Name: Offer Accepted, Length: 12379, dtype: object"
      ]
     },
     "execution_count": 20,
     "metadata": {},
     "output_type": "execute_result"
    }
   ],
   "source": [
    "features = data_mkt.drop([\"Offer Accepted\"],axis=1)\n",
    "label = data_mkt[\"Offer Accepted\"].copy()\n",
    "label\n"
   ]
  },
  {
   "cell_type": "code",
   "execution_count": 21,
   "id": "b7abc52c",
   "metadata": {
    "execution": {
     "iopub.execute_input": "2022-10-21T13:50:10.044548Z",
     "iopub.status.busy": "2022-10-21T13:50:10.044158Z",
     "iopub.status.idle": "2022-10-21T13:50:10.050738Z",
     "shell.execute_reply": "2022-10-21T13:50:10.049467Z"
    },
    "papermill": {
     "duration": 0.023035,
     "end_time": "2022-10-21T13:50:10.052625",
     "exception": false,
     "start_time": "2022-10-21T13:50:10.029590",
     "status": "completed"
    },
    "tags": []
   },
   "outputs": [
    {
     "data": {
      "text/plain": [
       "Index(['offer expiration', 'income_range', 'no_visited_Cold drinks',\n",
       "       'travelled_more_than_15mins_for_offer', 'Restaur_spend_less_than20',\n",
       "       'Marital Status', 'restaurant type', 'age',\n",
       "       'Prefer western over chinese', 'travelled_more_than_25mins_for_offer',\n",
       "       'travelled_more_than_5mins_for_offer', 'no_visited_bars', 'gender',\n",
       "       'restuarant_same_direction_house', 'Cooks regularly', 'Customer type',\n",
       "       'Qualification', 'is foodie', 'no_Take-aways', 'Job/Job Industry',\n",
       "       'restuarant_opposite_direction_house', 'has Children',\n",
       "       'visit restaurant with rating (avg)', 'temperature',\n",
       "       'Restaur_spend_greater_than20', 'Travel Time', 'Climate',\n",
       "       'drop location', 'Prefer home food'],\n",
       "      dtype='object')"
      ]
     },
     "execution_count": 21,
     "metadata": {},
     "output_type": "execute_result"
    }
   ],
   "source": [
    "features.columns"
   ]
  },
  {
   "cell_type": "code",
   "execution_count": 22,
   "id": "87c02481",
   "metadata": {
    "execution": {
     "iopub.execute_input": "2022-10-21T13:50:10.080983Z",
     "iopub.status.busy": "2022-10-21T13:50:10.080616Z",
     "iopub.status.idle": "2022-10-21T13:50:10.096858Z",
     "shell.execute_reply": "2022-10-21T13:50:10.095458Z"
    },
    "papermill": {
     "duration": 0.033742,
     "end_time": "2022-10-21T13:50:10.099687",
     "exception": false,
     "start_time": "2022-10-21T13:50:10.065945",
     "status": "completed"
    },
    "tags": []
   },
   "outputs": [
    {
     "data": {
      "text/plain": [
       "offer expiration                          0\n",
       "income_range                              0\n",
       "no_visited_Cold drinks                  198\n",
       "travelled_more_than_15mins_for_offer      0\n",
       "Restaur_spend_less_than20               121\n",
       "Marital Status                            0\n",
       "restaurant type                           0\n",
       "age                                       0\n",
       "Prefer western over chinese               0\n",
       "travelled_more_than_25mins_for_offer      0\n",
       "travelled_more_than_5mins_for_offer       0\n",
       "no_visited_bars                          93\n",
       "gender                                    0\n",
       "restuarant_same_direction_house           0\n",
       "Cooks regularly                           0\n",
       "Customer type                             0\n",
       "Qualification                             0\n",
       "is foodie                                 0\n",
       "no_Take-aways                           144\n",
       "Job/Job Industry                          0\n",
       "restuarant_opposite_direction_house       0\n",
       "has Children                              0\n",
       "visit restaurant with rating (avg)        0\n",
       "temperature                               0\n",
       "Restaur_spend_greater_than20            160\n",
       "Travel Time                               0\n",
       "Climate                                   0\n",
       "drop location                             0\n",
       "Prefer home food                          0\n",
       "dtype: int64"
      ]
     },
     "execution_count": 22,
     "metadata": {},
     "output_type": "execute_result"
    }
   ],
   "source": [
    "features.isnull().sum()"
   ]
  },
  {
   "cell_type": "code",
   "execution_count": 23,
   "id": "118f52d0",
   "metadata": {
    "execution": {
     "iopub.execute_input": "2022-10-21T13:50:10.129587Z",
     "iopub.status.busy": "2022-10-21T13:50:10.129152Z",
     "iopub.status.idle": "2022-10-21T13:50:10.138747Z",
     "shell.execute_reply": "2022-10-21T13:50:10.137153Z"
    },
    "papermill": {
     "duration": 0.02742,
     "end_time": "2022-10-21T13:50:10.141216",
     "exception": false,
     "start_time": "2022-10-21T13:50:10.113796",
     "status": "completed"
    },
    "tags": []
   },
   "outputs": [
    {
     "data": {
      "text/plain": [
       "array(['4~8', 'less1', 'never', '1~3', 'gt8', nan], dtype=object)"
      ]
     },
     "execution_count": 23,
     "metadata": {},
     "output_type": "execute_result"
    }
   ],
   "source": [
    "features['no_visited_Cold drinks'].unique()"
   ]
  },
  {
   "cell_type": "code",
   "execution_count": 24,
   "id": "728b3b76",
   "metadata": {
    "execution": {
     "iopub.execute_input": "2022-10-21T13:50:10.176608Z",
     "iopub.status.busy": "2022-10-21T13:50:10.175956Z",
     "iopub.status.idle": "2022-10-21T13:50:10.252869Z",
     "shell.execute_reply": "2022-10-21T13:50:10.251705Z"
    },
    "papermill": {
     "duration": 0.098689,
     "end_time": "2022-10-21T13:50:10.255257",
     "exception": false,
     "start_time": "2022-10-21T13:50:10.156568",
     "status": "completed"
    },
    "tags": []
   },
   "outputs": [],
   "source": [
    "features_imp = si.fit_transform(features)\n"
   ]
  },
  {
   "cell_type": "code",
   "execution_count": 25,
   "id": "37170f91",
   "metadata": {
    "execution": {
     "iopub.execute_input": "2022-10-21T13:50:10.285392Z",
     "iopub.status.busy": "2022-10-21T13:50:10.284957Z",
     "iopub.status.idle": "2022-10-21T13:50:10.297121Z",
     "shell.execute_reply": "2022-10-21T13:50:10.296098Z"
    },
    "papermill": {
     "duration": 0.029747,
     "end_time": "2022-10-21T13:50:10.299135",
     "exception": false,
     "start_time": "2022-10-21T13:50:10.269388",
     "status": "completed"
    },
    "tags": []
   },
   "outputs": [],
   "source": [
    "feat_cols = ['offer expiration', 'income_range', 'no_visited_Cold drinks',\n",
    "       'travelled_more_than_15mins_for_offer', 'Restaur_spend_less_than20',\n",
    "       'Marital Status', 'restaurant type', 'age',\n",
    "       'Prefer western over chinese', 'travelled_more_than_25mins_for_offer',\n",
    "       'travelled_more_than_5mins_for_offer', 'no_visited_bars', 'gender',\n",
    "       'restuarant_same_direction_house', 'Cooks regularly', 'Customer type',\n",
    "       'Qualification', 'is foodie', 'no_Take-aways', 'Job/Job Industry',\n",
    "       'restuarant_opposite_direction_house', 'has Children',\n",
    "       'visit restaurant with rating (avg)', 'temperature',\n",
    "       'Restaur_spend_greater_than20', 'Travel Time', 'Climate',\n",
    "       'drop location', 'Prefer home food']\n",
    "\n",
    "features = pd.DataFrame(features_imp,columns=feat_cols)"
   ]
  },
  {
   "cell_type": "code",
   "execution_count": 26,
   "id": "d7ad4fd2",
   "metadata": {
    "execution": {
     "iopub.execute_input": "2022-10-21T13:50:10.330397Z",
     "iopub.status.busy": "2022-10-21T13:50:10.329970Z",
     "iopub.status.idle": "2022-10-21T13:50:10.352742Z",
     "shell.execute_reply": "2022-10-21T13:50:10.351784Z"
    },
    "papermill": {
     "duration": 0.040863,
     "end_time": "2022-10-21T13:50:10.354798",
     "exception": false,
     "start_time": "2022-10-21T13:50:10.313935",
     "status": "completed"
    },
    "tags": []
   },
   "outputs": [
    {
     "data": {
      "text/plain": [
       "offer expiration                        0\n",
       "income_range                            0\n",
       "no_visited_Cold drinks                  0\n",
       "travelled_more_than_15mins_for_offer    0\n",
       "Restaur_spend_less_than20               0\n",
       "Marital Status                          0\n",
       "restaurant type                         0\n",
       "age                                     0\n",
       "Prefer western over chinese             0\n",
       "travelled_more_than_25mins_for_offer    0\n",
       "travelled_more_than_5mins_for_offer     0\n",
       "no_visited_bars                         0\n",
       "gender                                  0\n",
       "restuarant_same_direction_house         0\n",
       "Cooks regularly                         0\n",
       "Customer type                           0\n",
       "Qualification                           0\n",
       "is foodie                               0\n",
       "no_Take-aways                           0\n",
       "Job/Job Industry                        0\n",
       "restuarant_opposite_direction_house     0\n",
       "has Children                            0\n",
       "visit restaurant with rating (avg)      0\n",
       "temperature                             0\n",
       "Restaur_spend_greater_than20            0\n",
       "Travel Time                             0\n",
       "Climate                                 0\n",
       "drop location                           0\n",
       "Prefer home food                        0\n",
       "dtype: int64"
      ]
     },
     "execution_count": 26,
     "metadata": {},
     "output_type": "execute_result"
    }
   ],
   "source": [
    "features.isnull().sum()"
   ]
  },
  {
   "cell_type": "code",
   "execution_count": 27,
   "id": "ba4b739b",
   "metadata": {
    "execution": {
     "iopub.execute_input": "2022-10-21T13:50:10.384374Z",
     "iopub.status.busy": "2022-10-21T13:50:10.384010Z",
     "iopub.status.idle": "2022-10-21T13:50:10.392211Z",
     "shell.execute_reply": "2022-10-21T13:50:10.391027Z"
    },
    "papermill": {
     "duration": 0.026249,
     "end_time": "2022-10-21T13:50:10.394911",
     "exception": false,
     "start_time": "2022-10-21T13:50:10.368662",
     "status": "completed"
    },
    "tags": []
   },
   "outputs": [],
   "source": [
    "# Coding of undecipherable inputs in all columns requiring ordinal encoding\n",
    "dec_num = {\"offer expiration\":{\"2days\":1,'10hours':2},\"income_range\":{'Less than ₹12500':1,'₹12500 - ₹24999':2,'₹25000 - ₹37499':3,'₹37500 - ₹49999':4,'₹50000 - ₹62499':5,'₹62500 - ₹74999':6,'₹75000 - ₹87499':7,'₹87500 - ₹99999':8, '₹100000 or More':9},'no_visited_Cold drinks'\n",
    ":{'never':1,'less1': 2,'1~3': 3, '4~8': 4, 'gt8':5},\"Restaur_spend_less_than20\" :{'less1':1,'1~3':2,'4~8':3,'gt8':4,'never':5},\"restaurant type\":{'Cold drinks':1,'Take-away restaurant':2,'Restaurant with pub':3,'2 star restaurant':4,'4 star restaurant':5},\"age\":{'below21':1,'21':2,'26':3,'31':4,'36':5,'41':6,'46':7,'50plus':8},\"no_Take-aways\":{'never':1,'less1':2,'1~3':3,'4~8':4,'gt8':5},'no_visited_bars'\n",
    ":{'never':1,'less1':2,'1~3':3,'4~8':4,'gt8':5},\"Restaur_spend_greater_than20\" :{'less1':1,'1~3':2,'4~8':3,'gt8':4,'never':5}}"
   ]
  },
  {
   "cell_type": "code",
   "execution_count": 28,
   "id": "99f7d6f0",
   "metadata": {
    "execution": {
     "iopub.execute_input": "2022-10-21T13:50:10.425077Z",
     "iopub.status.busy": "2022-10-21T13:50:10.424713Z",
     "iopub.status.idle": "2022-10-21T13:50:10.500447Z",
     "shell.execute_reply": "2022-10-21T13:50:10.499707Z"
    },
    "papermill": {
     "duration": 0.093241,
     "end_time": "2022-10-21T13:50:10.502787",
     "exception": false,
     "start_time": "2022-10-21T13:50:10.409546",
     "status": "completed"
    },
    "tags": []
   },
   "outputs": [],
   "source": [
    "features= features.replace(dec_num)"
   ]
  },
  {
   "cell_type": "code",
   "execution_count": 29,
   "id": "a570e058",
   "metadata": {
    "execution": {
     "iopub.execute_input": "2022-10-21T13:50:10.533804Z",
     "iopub.status.busy": "2022-10-21T13:50:10.532806Z",
     "iopub.status.idle": "2022-10-21T13:50:10.560807Z",
     "shell.execute_reply": "2022-10-21T13:50:10.559565Z"
    },
    "papermill": {
     "duration": 0.045547,
     "end_time": "2022-10-21T13:50:10.562822",
     "exception": false,
     "start_time": "2022-10-21T13:50:10.517275",
     "status": "completed"
    },
    "tags": []
   },
   "outputs": [
    {
     "data": {
      "text/html": [
       "<div>\n",
       "<style scoped>\n",
       "    .dataframe tbody tr th:only-of-type {\n",
       "        vertical-align: middle;\n",
       "    }\n",
       "\n",
       "    .dataframe tbody tr th {\n",
       "        vertical-align: top;\n",
       "    }\n",
       "\n",
       "    .dataframe thead th {\n",
       "        text-align: right;\n",
       "    }\n",
       "</style>\n",
       "<table border=\"1\" class=\"dataframe\">\n",
       "  <thead>\n",
       "    <tr style=\"text-align: right;\">\n",
       "      <th></th>\n",
       "      <th>offer expiration</th>\n",
       "      <th>income_range</th>\n",
       "      <th>no_visited_Cold drinks</th>\n",
       "      <th>travelled_more_than_15mins_for_offer</th>\n",
       "      <th>Restaur_spend_less_than20</th>\n",
       "      <th>Marital Status</th>\n",
       "      <th>restaurant type</th>\n",
       "      <th>age</th>\n",
       "      <th>Prefer western over chinese</th>\n",
       "      <th>travelled_more_than_25mins_for_offer</th>\n",
       "      <th>...</th>\n",
       "      <th>Job/Job Industry</th>\n",
       "      <th>restuarant_opposite_direction_house</th>\n",
       "      <th>has Children</th>\n",
       "      <th>visit restaurant with rating (avg)</th>\n",
       "      <th>temperature</th>\n",
       "      <th>Restaur_spend_greater_than20</th>\n",
       "      <th>Travel Time</th>\n",
       "      <th>Climate</th>\n",
       "      <th>drop location</th>\n",
       "      <th>Prefer home food</th>\n",
       "    </tr>\n",
       "  </thead>\n",
       "  <tbody>\n",
       "    <tr>\n",
       "      <th>0</th>\n",
       "      <td>1</td>\n",
       "      <td>9</td>\n",
       "      <td>4</td>\n",
       "      <td>1</td>\n",
       "      <td>1</td>\n",
       "      <td>Married partner</td>\n",
       "      <td>5</td>\n",
       "      <td>5</td>\n",
       "      <td>0</td>\n",
       "      <td>0</td>\n",
       "      <td>...</td>\n",
       "      <td>Unemployed</td>\n",
       "      <td>0</td>\n",
       "      <td>0</td>\n",
       "      <td>4</td>\n",
       "      <td>67</td>\n",
       "      <td>1</td>\n",
       "      <td>22</td>\n",
       "      <td>Spring</td>\n",
       "      <td>Location B</td>\n",
       "      <td>0</td>\n",
       "    </tr>\n",
       "    <tr>\n",
       "      <th>1</th>\n",
       "      <td>1</td>\n",
       "      <td>8</td>\n",
       "      <td>4</td>\n",
       "      <td>0</td>\n",
       "      <td>3</td>\n",
       "      <td>Married partner</td>\n",
       "      <td>2</td>\n",
       "      <td>8</td>\n",
       "      <td>0</td>\n",
       "      <td>0</td>\n",
       "      <td>...</td>\n",
       "      <td>Unemployed</td>\n",
       "      <td>0</td>\n",
       "      <td>1</td>\n",
       "      <td>3</td>\n",
       "      <td>89</td>\n",
       "      <td>2</td>\n",
       "      <td>18</td>\n",
       "      <td>Summer</td>\n",
       "      <td>Location B</td>\n",
       "      <td>0</td>\n",
       "    </tr>\n",
       "    <tr>\n",
       "      <th>2</th>\n",
       "      <td>1</td>\n",
       "      <td>8</td>\n",
       "      <td>2</td>\n",
       "      <td>1</td>\n",
       "      <td>2</td>\n",
       "      <td>Single</td>\n",
       "      <td>1</td>\n",
       "      <td>3</td>\n",
       "      <td>1</td>\n",
       "      <td>0</td>\n",
       "      <td>...</td>\n",
       "      <td>Arts Design Entertainment Sports &amp; Media</td>\n",
       "      <td>1</td>\n",
       "      <td>1</td>\n",
       "      <td>4</td>\n",
       "      <td>67</td>\n",
       "      <td>1</td>\n",
       "      <td>7</td>\n",
       "      <td>Winter</td>\n",
       "      <td>Location A</td>\n",
       "      <td>1</td>\n",
       "    </tr>\n",
       "    <tr>\n",
       "      <th>3</th>\n",
       "      <td>2</td>\n",
       "      <td>4</td>\n",
       "      <td>2</td>\n",
       "      <td>0</td>\n",
       "      <td>2</td>\n",
       "      <td>Single</td>\n",
       "      <td>2</td>\n",
       "      <td>7</td>\n",
       "      <td>1</td>\n",
       "      <td>0</td>\n",
       "      <td>...</td>\n",
       "      <td>Sales &amp; Related</td>\n",
       "      <td>0</td>\n",
       "      <td>1</td>\n",
       "      <td>3</td>\n",
       "      <td>89</td>\n",
       "      <td>2</td>\n",
       "      <td>7</td>\n",
       "      <td>Summer</td>\n",
       "      <td>Location C</td>\n",
       "      <td>0</td>\n",
       "    </tr>\n",
       "    <tr>\n",
       "      <th>4</th>\n",
       "      <td>1</td>\n",
       "      <td>9</td>\n",
       "      <td>1</td>\n",
       "      <td>1</td>\n",
       "      <td>2</td>\n",
       "      <td>Single</td>\n",
       "      <td>5</td>\n",
       "      <td>2</td>\n",
       "      <td>0</td>\n",
       "      <td>1</td>\n",
       "      <td>...</td>\n",
       "      <td>Sales &amp; Related</td>\n",
       "      <td>1</td>\n",
       "      <td>0</td>\n",
       "      <td>3</td>\n",
       "      <td>40</td>\n",
       "      <td>1</td>\n",
       "      <td>7</td>\n",
       "      <td>Summer</td>\n",
       "      <td>Location C</td>\n",
       "      <td>0</td>\n",
       "    </tr>\n",
       "  </tbody>\n",
       "</table>\n",
       "<p>5 rows × 29 columns</p>\n",
       "</div>"
      ],
      "text/plain": [
       "   offer expiration  income_range  no_visited_Cold drinks  \\\n",
       "0                 1             9                       4   \n",
       "1                 1             8                       4   \n",
       "2                 1             8                       2   \n",
       "3                 2             4                       2   \n",
       "4                 1             9                       1   \n",
       "\n",
       "  travelled_more_than_15mins_for_offer  Restaur_spend_less_than20  \\\n",
       "0                                    1                          1   \n",
       "1                                    0                          3   \n",
       "2                                    1                          2   \n",
       "3                                    0                          2   \n",
       "4                                    1                          2   \n",
       "\n",
       "    Marital Status  restaurant type  age Prefer western over chinese  \\\n",
       "0  Married partner                5    5                           0   \n",
       "1  Married partner                2    8                           0   \n",
       "2           Single                1    3                           1   \n",
       "3           Single                2    7                           1   \n",
       "4           Single                5    2                           0   \n",
       "\n",
       "  travelled_more_than_25mins_for_offer  ...  \\\n",
       "0                                    0  ...   \n",
       "1                                    0  ...   \n",
       "2                                    0  ...   \n",
       "3                                    0  ...   \n",
       "4                                    1  ...   \n",
       "\n",
       "                           Job/Job Industry  \\\n",
       "0                                Unemployed   \n",
       "1                                Unemployed   \n",
       "2  Arts Design Entertainment Sports & Media   \n",
       "3                           Sales & Related   \n",
       "4                           Sales & Related   \n",
       "\n",
       "   restuarant_opposite_direction_house has Children  \\\n",
       "0                                    0            0   \n",
       "1                                    0            1   \n",
       "2                                    1            1   \n",
       "3                                    0            1   \n",
       "4                                    1            0   \n",
       "\n",
       "  visit restaurant with rating (avg) temperature Restaur_spend_greater_than20  \\\n",
       "0                                  4          67                            1   \n",
       "1                                  3          89                            2   \n",
       "2                                  4          67                            1   \n",
       "3                                  3          89                            2   \n",
       "4                                  3          40                            1   \n",
       "\n",
       "  Travel Time Climate  drop location Prefer home food  \n",
       "0          22  Spring     Location B                0  \n",
       "1          18  Summer     Location B                0  \n",
       "2           7  Winter     Location A                1  \n",
       "3           7  Summer     Location C                0  \n",
       "4           7  Summer     Location C                0  \n",
       "\n",
       "[5 rows x 29 columns]"
      ]
     },
     "execution_count": 29,
     "metadata": {},
     "output_type": "execute_result"
    }
   ],
   "source": [
    "features[:5]"
   ]
  },
  {
   "cell_type": "code",
   "execution_count": 30,
   "id": "0bb34686",
   "metadata": {
    "execution": {
     "iopub.execute_input": "2022-10-21T13:50:10.593711Z",
     "iopub.status.busy": "2022-10-21T13:50:10.593109Z",
     "iopub.status.idle": "2022-10-21T13:50:10.598684Z",
     "shell.execute_reply": "2022-10-21T13:50:10.597446Z"
    },
    "papermill": {
     "duration": 0.024272,
     "end_time": "2022-10-21T13:50:10.601325",
     "exception": false,
     "start_time": "2022-10-21T13:50:10.577053",
     "status": "completed"
    },
    "tags": []
   },
   "outputs": [],
   "source": [
    "data_imputed.columns\n",
    "selected_columns = ['offer expiration', 'income_range', 'no_visited_Cold drinks',\n",
    "       'travelled_more_than_15mins_for_offer', 'Restaur_spend_less_than20',\n",
    "       'Marital Status', 'restaurant type', 'age',\n",
    "       'Prefer western over chinese', 'travelled_more_than_25mins_for_offer',\n",
    "       'travelled_more_than_5mins_for_offer', 'no_visited_bars', 'gender',\n",
    "       'restuarant_same_direction_house', 'Cooks regularly', 'Customer type',\n",
    "       'Qualification', 'is foodie', 'no_Take-aways', 'Job/Job Industry',\n",
    "       'restuarant_opposite_direction_house', 'has Children',\n",
    "       'visit restaurant with rating (avg)', 'temperature',\n",
    "       'Restaur_spend_greater_than20', 'Travel Time', 'Climate',\n",
    "       'drop location', 'Prefer home food']"
   ]
  },
  {
   "cell_type": "code",
   "execution_count": 31,
   "id": "db0c7b19",
   "metadata": {
    "execution": {
     "iopub.execute_input": "2022-10-21T13:50:10.632015Z",
     "iopub.status.busy": "2022-10-21T13:50:10.631617Z",
     "iopub.status.idle": "2022-10-21T13:50:10.638143Z",
     "shell.execute_reply": "2022-10-21T13:50:10.637084Z"
    },
    "papermill": {
     "duration": 0.024503,
     "end_time": "2022-10-21T13:50:10.640109",
     "exception": false,
     "start_time": "2022-10-21T13:50:10.615606",
     "status": "completed"
    },
    "tags": []
   },
   "outputs": [],
   "source": [
    "#Encoding\n",
    "\n",
    "num_attrib = [\"temperature\", \"Travel Time\"]\n",
    "nom_attrib = [\"travelled_more_than_15mins_for_offer\",\"Marital Status\",\"Prefer western over chinese\",\"Qualification\",\"travelled_more_than_25mins_for_offer\",\"travelled_more_than_5mins_for_offer\",\"gender\",\"restuarant_same_direction_house\",\"Cooks regularly\",\"Customer type\",\"is foodie\",\"Job/Job Industry\",\"restuarant_opposite_direction_house\",\"has Children\",\"Climate\",\"drop location\",\"Prefer home food\"]\n",
    "              \n",
    "ord_attrib = [\"offer expiration\",\"income_range\",\"no_visited_Cold drinks\",\"Restaur_spend_less_than20\",\"restaurant type\",\"no_Take-aways\",\"no_visited_bars\",\"age\",\"Restaur_spend_greater_than20\",\"visit restaurant with rating (avg)\"]"
   ]
  },
  {
   "cell_type": "code",
   "execution_count": 32,
   "id": "a3020335",
   "metadata": {
    "execution": {
     "iopub.execute_input": "2022-10-21T13:50:10.671261Z",
     "iopub.status.busy": "2022-10-21T13:50:10.670685Z",
     "iopub.status.idle": "2022-10-21T13:50:10.676576Z",
     "shell.execute_reply": "2022-10-21T13:50:10.675209Z"
    },
    "papermill": {
     "duration": 0.024207,
     "end_time": "2022-10-21T13:50:10.678888",
     "exception": false,
     "start_time": "2022-10-21T13:50:10.654681",
     "status": "completed"
    },
    "tags": []
   },
   "outputs": [
    {
     "name": "stdout",
     "output_type": "stream",
     "text": [
      "29\n"
     ]
    }
   ],
   "source": [
    "print(len(num_attrib)+len(nom_attrib)+len(ord_attrib))"
   ]
  },
  {
   "cell_type": "code",
   "execution_count": 33,
   "id": "f8f4ebc7",
   "metadata": {
    "execution": {
     "iopub.execute_input": "2022-10-21T13:50:10.709362Z",
     "iopub.status.busy": "2022-10-21T13:50:10.708951Z",
     "iopub.status.idle": "2022-10-21T13:50:10.717741Z",
     "shell.execute_reply": "2022-10-21T13:50:10.716299Z"
    },
    "papermill": {
     "duration": 0.026839,
     "end_time": "2022-10-21T13:50:10.720112",
     "exception": false,
     "start_time": "2022-10-21T13:50:10.693273",
     "status": "completed"
    },
    "tags": []
   },
   "outputs": [],
   "source": [
    "\n",
    "from sklearn.pipeline import Pipeline"
   ]
  },
  {
   "cell_type": "code",
   "execution_count": 34,
   "id": "90199a7b",
   "metadata": {
    "execution": {
     "iopub.execute_input": "2022-10-21T13:50:10.750393Z",
     "iopub.status.busy": "2022-10-21T13:50:10.750017Z",
     "iopub.status.idle": "2022-10-21T13:50:10.761209Z",
     "shell.execute_reply": "2022-10-21T13:50:10.760019Z"
    },
    "papermill": {
     "duration": 0.029131,
     "end_time": "2022-10-21T13:50:10.763516",
     "exception": false,
     "start_time": "2022-10-21T13:50:10.734385",
     "status": "completed"
    },
    "tags": []
   },
   "outputs": [],
   "source": [
    "from sklearn.preprocessing import OrdinalEncoder\n",
    "from sklearn.preprocessing import OneHotEncoder\n",
    "from sklearn.preprocessing import StandardScaler\n",
    "from sklearn.preprocessing import MinMaxScaler\n",
    "from sklearn.compose import ColumnTransformer"
   ]
  },
  {
   "cell_type": "code",
   "execution_count": 35,
   "id": "27eb24e3",
   "metadata": {
    "execution": {
     "iopub.execute_input": "2022-10-21T13:50:10.794108Z",
     "iopub.status.busy": "2022-10-21T13:50:10.793407Z",
     "iopub.status.idle": "2022-10-21T13:50:10.885070Z",
     "shell.execute_reply": "2022-10-21T13:50:10.884072Z"
    },
    "papermill": {
     "duration": 0.109226,
     "end_time": "2022-10-21T13:50:10.887097",
     "exception": false,
     "start_time": "2022-10-21T13:50:10.777871",
     "status": "completed"
    },
    "tags": []
   },
   "outputs": [
    {
     "data": {
      "text/plain": [
       "array([8., 7., 7., ..., 7., 1., 3.])"
      ]
     },
     "execution_count": 35,
     "metadata": {},
     "output_type": "execute_result"
    }
   ],
   "source": [
    "t= [(\"num\",MinMaxScaler(),num_attrib),(\"ord\",OrdinalEncoder(),ord_attrib),(\"cat\",OneHotEncoder(sparse=False),nom_attrib)]\n",
    "\n",
    "pipeline = ColumnTransformer(transformers=t)\n",
    "\n",
    "features_en = pipeline.fit_transform(features)\n",
    "\n",
    "features_en[:,3]\n"
   ]
  },
  {
   "cell_type": "code",
   "execution_count": 36,
   "id": "2f3e4ba1",
   "metadata": {
    "execution": {
     "iopub.execute_input": "2022-10-21T13:50:10.916055Z",
     "iopub.status.busy": "2022-10-21T13:50:10.915724Z",
     "iopub.status.idle": "2022-10-21T13:50:10.921835Z",
     "shell.execute_reply": "2022-10-21T13:50:10.921020Z"
    },
    "papermill": {
     "duration": 0.022658,
     "end_time": "2022-10-21T13:50:10.923670",
     "exception": false,
     "start_time": "2022-10-21T13:50:10.901012",
     "status": "completed"
    },
    "tags": []
   },
   "outputs": [
    {
     "data": {
      "text/plain": [
       "array([[0.55102041, 1.        , 0.        , ..., 0.        , 1.        ,\n",
       "        0.        ],\n",
       "       [1.        , 0.73333333, 0.        , ..., 0.        , 1.        ,\n",
       "        0.        ],\n",
       "       [0.55102041, 0.        , 0.        , ..., 0.        , 0.        ,\n",
       "        1.        ],\n",
       "       ...,\n",
       "       [1.        , 0.73333333, 1.        , ..., 0.        , 0.        ,\n",
       "        1.        ],\n",
       "       [1.        , 0.        , 1.        , ..., 1.        , 1.        ,\n",
       "        0.        ],\n",
       "       [0.55102041, 0.        , 0.        , ..., 0.        , 0.        ,\n",
       "        1.        ]])"
      ]
     },
     "execution_count": 36,
     "metadata": {},
     "output_type": "execute_result"
    }
   ],
   "source": [
    "features_en"
   ]
  },
  {
   "cell_type": "code",
   "execution_count": 37,
   "id": "380e3eb4",
   "metadata": {
    "execution": {
     "iopub.execute_input": "2022-10-21T13:50:10.952953Z",
     "iopub.status.busy": "2022-10-21T13:50:10.952615Z",
     "iopub.status.idle": "2022-10-21T13:50:10.956309Z",
     "shell.execute_reply": "2022-10-21T13:50:10.955464Z"
    },
    "papermill": {
     "duration": 0.020434,
     "end_time": "2022-10-21T13:50:10.958097",
     "exception": false,
     "start_time": "2022-10-21T13:50:10.937663",
     "status": "completed"
    },
    "tags": []
   },
   "outputs": [],
   "source": [
    "\n",
    "from sklearn.model_selection import train_test_split"
   ]
  },
  {
   "cell_type": "code",
   "execution_count": 38,
   "id": "6e34e272",
   "metadata": {
    "execution": {
     "iopub.execute_input": "2022-10-21T13:50:10.987353Z",
     "iopub.status.busy": "2022-10-21T13:50:10.987000Z",
     "iopub.status.idle": "2022-10-21T13:50:10.992379Z",
     "shell.execute_reply": "2022-10-21T13:50:10.990666Z"
    },
    "papermill": {
     "duration": 0.022256,
     "end_time": "2022-10-21T13:50:10.994217",
     "exception": false,
     "start_time": "2022-10-21T13:50:10.971961",
     "status": "completed"
    },
    "tags": []
   },
   "outputs": [],
   "source": [
    "features, label = features_en, label"
   ]
  },
  {
   "cell_type": "code",
   "execution_count": 39,
   "id": "0dd7271b",
   "metadata": {
    "execution": {
     "iopub.execute_input": "2022-10-21T13:50:11.024803Z",
     "iopub.status.busy": "2022-10-21T13:50:11.024371Z",
     "iopub.status.idle": "2022-10-21T13:50:11.035162Z",
     "shell.execute_reply": "2022-10-21T13:50:11.034230Z"
    },
    "papermill": {
     "duration": 0.028465,
     "end_time": "2022-10-21T13:50:11.037114",
     "exception": false,
     "start_time": "2022-10-21T13:50:11.008649",
     "status": "completed"
    },
    "tags": []
   },
   "outputs": [],
   "source": [
    "features_train, features_test, label_train, label_test = train_test_split(features, label, test_size = 0.2, random_state=51)"
   ]
  },
  {
   "cell_type": "code",
   "execution_count": 40,
   "id": "dcc656ab",
   "metadata": {
    "execution": {
     "iopub.execute_input": "2022-10-21T13:50:11.067689Z",
     "iopub.status.busy": "2022-10-21T13:50:11.067320Z",
     "iopub.status.idle": "2022-10-21T13:50:11.072219Z",
     "shell.execute_reply": "2022-10-21T13:50:11.071024Z"
    },
    "papermill": {
     "duration": 0.022114,
     "end_time": "2022-10-21T13:50:11.074096",
     "exception": false,
     "start_time": "2022-10-21T13:50:11.051982",
     "status": "completed"
    },
    "tags": []
   },
   "outputs": [],
   "source": [
    "from sklearn.metrics import f1_score"
   ]
  },
  {
   "cell_type": "code",
   "execution_count": 41,
   "id": "9b550e81",
   "metadata": {
    "execution": {
     "iopub.execute_input": "2022-10-21T13:50:11.103898Z",
     "iopub.status.busy": "2022-10-21T13:50:11.103539Z",
     "iopub.status.idle": "2022-10-21T13:50:11.108760Z",
     "shell.execute_reply": "2022-10-21T13:50:11.107421Z"
    },
    "papermill": {
     "duration": 0.022679,
     "end_time": "2022-10-21T13:50:11.110884",
     "exception": false,
     "start_time": "2022-10-21T13:50:11.088205",
     "status": "completed"
    },
    "tags": []
   },
   "outputs": [],
   "source": [
    "from sklearn.linear_model import LogisticRegression"
   ]
  },
  {
   "cell_type": "code",
   "execution_count": 42,
   "id": "a92dc19e",
   "metadata": {
    "execution": {
     "iopub.execute_input": "2022-10-21T13:50:11.141845Z",
     "iopub.status.busy": "2022-10-21T13:50:11.141423Z",
     "iopub.status.idle": "2022-10-21T13:50:11.275444Z",
     "shell.execute_reply": "2022-10-21T13:50:11.274567Z"
    },
    "papermill": {
     "duration": 0.151679,
     "end_time": "2022-10-21T13:50:11.277273",
     "exception": false,
     "start_time": "2022-10-21T13:50:11.125594",
     "status": "completed"
    },
    "tags": []
   },
   "outputs": [
    {
     "name": "stderr",
     "output_type": "stream",
     "text": [
      "/opt/conda/lib/python3.7/site-packages/sklearn/linear_model/_logistic.py:818: ConvergenceWarning: lbfgs failed to converge (status=1):\n",
      "STOP: TOTAL NO. of ITERATIONS REACHED LIMIT.\n",
      "\n",
      "Increase the number of iterations (max_iter) or scale the data as shown in:\n",
      "    https://scikit-learn.org/stable/modules/preprocessing.html\n",
      "Please also refer to the documentation for alternative solver options:\n",
      "    https://scikit-learn.org/stable/modules/linear_model.html#logistic-regression\n",
      "  extra_warning_msg=_LOGISTIC_SOLVER_CONVERGENCE_MSG,\n"
     ]
    },
    {
     "data": {
      "text/plain": [
       "LogisticRegression()"
      ]
     },
     "execution_count": 42,
     "metadata": {},
     "output_type": "execute_result"
    }
   ],
   "source": [
    "model = LogisticRegression()\n",
    "model.fit(features_train,label_train)\n"
   ]
  },
  {
   "cell_type": "code",
   "execution_count": 43,
   "id": "44212151",
   "metadata": {
    "execution": {
     "iopub.execute_input": "2022-10-21T13:50:11.315305Z",
     "iopub.status.busy": "2022-10-21T13:50:11.314412Z",
     "iopub.status.idle": "2022-10-21T13:50:11.321475Z",
     "shell.execute_reply": "2022-10-21T13:50:11.320800Z"
    },
    "papermill": {
     "duration": 0.030521,
     "end_time": "2022-10-21T13:50:11.325783",
     "exception": false,
     "start_time": "2022-10-21T13:50:11.295262",
     "status": "completed"
    },
    "tags": []
   },
   "outputs": [
    {
     "data": {
      "text/plain": [
       "array(['Yes', 'No', 'No', 'Yes', 'Yes'], dtype=object)"
      ]
     },
     "execution_count": 43,
     "metadata": {},
     "output_type": "execute_result"
    }
   ],
   "source": [
    "label_pred = model.predict(features_train)\n",
    "label_pred[:5]"
   ]
  },
  {
   "cell_type": "code",
   "execution_count": 44,
   "id": "4f36e375",
   "metadata": {
    "execution": {
     "iopub.execute_input": "2022-10-21T13:50:11.363707Z",
     "iopub.status.busy": "2022-10-21T13:50:11.362825Z",
     "iopub.status.idle": "2022-10-21T13:50:11.425442Z",
     "shell.execute_reply": "2022-10-21T13:50:11.424721Z"
    },
    "papermill": {
     "duration": 0.083649,
     "end_time": "2022-10-21T13:50:11.427559",
     "exception": false,
     "start_time": "2022-10-21T13:50:11.343910",
     "status": "completed"
    },
    "tags": []
   },
   "outputs": [
    {
     "data": {
      "text/html": [
       "<div>\n",
       "<style scoped>\n",
       "    .dataframe tbody tr th:only-of-type {\n",
       "        vertical-align: middle;\n",
       "    }\n",
       "\n",
       "    .dataframe tbody tr th {\n",
       "        vertical-align: top;\n",
       "    }\n",
       "\n",
       "    .dataframe thead th {\n",
       "        text-align: right;\n",
       "    }\n",
       "</style>\n",
       "<table border=\"1\" class=\"dataframe\">\n",
       "  <thead>\n",
       "    <tr style=\"text-align: right;\">\n",
       "      <th></th>\n",
       "      <th>offer expiration</th>\n",
       "      <th>income_range</th>\n",
       "      <th>no_visited_Cold drinks</th>\n",
       "      <th>travelled_more_than_15mins_for_offer</th>\n",
       "      <th>Restaur_spend_less_than20</th>\n",
       "      <th>Marital Status</th>\n",
       "      <th>restaurant type</th>\n",
       "      <th>age</th>\n",
       "      <th>Prefer western over chinese</th>\n",
       "      <th>travelled_more_than_25mins_for_offer</th>\n",
       "      <th>...</th>\n",
       "      <th>Job/Job Industry</th>\n",
       "      <th>restuarant_opposite_direction_house</th>\n",
       "      <th>has Children</th>\n",
       "      <th>visit restaurant with rating (avg)</th>\n",
       "      <th>temperature</th>\n",
       "      <th>Restaur_spend_greater_than20</th>\n",
       "      <th>Travel Time</th>\n",
       "      <th>Climate</th>\n",
       "      <th>drop location</th>\n",
       "      <th>Prefer home food</th>\n",
       "    </tr>\n",
       "  </thead>\n",
       "  <tbody>\n",
       "    <tr>\n",
       "      <th>0</th>\n",
       "      <td>2days</td>\n",
       "      <td>₹37500 - ₹49999</td>\n",
       "      <td>1~3</td>\n",
       "      <td>1</td>\n",
       "      <td>1~3</td>\n",
       "      <td>Divorced</td>\n",
       "      <td>Take-away restaurant</td>\n",
       "      <td>50plus</td>\n",
       "      <td>0</td>\n",
       "      <td>1</td>\n",
       "      <td>...</td>\n",
       "      <td>Sales &amp; Related</td>\n",
       "      <td>1</td>\n",
       "      <td>1</td>\n",
       "      <td>4</td>\n",
       "      <td>89</td>\n",
       "      <td>less1</td>\n",
       "      <td>7</td>\n",
       "      <td>Summer</td>\n",
       "      <td>Location C</td>\n",
       "      <td>0</td>\n",
       "    </tr>\n",
       "    <tr>\n",
       "      <th>1</th>\n",
       "      <td>10hours</td>\n",
       "      <td>₹25000 - ₹37499</td>\n",
       "      <td>4~8</td>\n",
       "      <td>0</td>\n",
       "      <td>1~3</td>\n",
       "      <td>Unmarried partner</td>\n",
       "      <td>Cold drinks</td>\n",
       "      <td>21</td>\n",
       "      <td>1</td>\n",
       "      <td>0</td>\n",
       "      <td>...</td>\n",
       "      <td>Computer &amp; Mathematical</td>\n",
       "      <td>1</td>\n",
       "      <td>1</td>\n",
       "      <td>0</td>\n",
       "      <td>67</td>\n",
       "      <td>less1</td>\n",
       "      <td>18</td>\n",
       "      <td>Summer</td>\n",
       "      <td>Location A</td>\n",
       "      <td>1</td>\n",
       "    </tr>\n",
       "    <tr>\n",
       "      <th>2</th>\n",
       "      <td>2days</td>\n",
       "      <td>₹100000 or More</td>\n",
       "      <td>never</td>\n",
       "      <td>1</td>\n",
       "      <td>never</td>\n",
       "      <td>Single</td>\n",
       "      <td>Cold drinks</td>\n",
       "      <td>21</td>\n",
       "      <td>1</td>\n",
       "      <td>0</td>\n",
       "      <td>...</td>\n",
       "      <td>Unemployed</td>\n",
       "      <td>1</td>\n",
       "      <td>0</td>\n",
       "      <td>4</td>\n",
       "      <td>67</td>\n",
       "      <td>never</td>\n",
       "      <td>7</td>\n",
       "      <td>Summer</td>\n",
       "      <td>Location C</td>\n",
       "      <td>0</td>\n",
       "    </tr>\n",
       "    <tr>\n",
       "      <th>3</th>\n",
       "      <td>2days</td>\n",
       "      <td>₹25000 - ₹37499</td>\n",
       "      <td>never</td>\n",
       "      <td>1</td>\n",
       "      <td>1~3</td>\n",
       "      <td>Married partner</td>\n",
       "      <td>Restaurant with pub</td>\n",
       "      <td>41</td>\n",
       "      <td>0</td>\n",
       "      <td>0</td>\n",
       "      <td>...</td>\n",
       "      <td>Unemployed</td>\n",
       "      <td>1</td>\n",
       "      <td>1</td>\n",
       "      <td>0</td>\n",
       "      <td>40</td>\n",
       "      <td>less1</td>\n",
       "      <td>18</td>\n",
       "      <td>Spring</td>\n",
       "      <td>Location C</td>\n",
       "      <td>1</td>\n",
       "    </tr>\n",
       "    <tr>\n",
       "      <th>4</th>\n",
       "      <td>10hours</td>\n",
       "      <td>₹12500 - ₹24999</td>\n",
       "      <td>never</td>\n",
       "      <td>0</td>\n",
       "      <td>1~3</td>\n",
       "      <td>Single</td>\n",
       "      <td>2 star restaurant</td>\n",
       "      <td>31</td>\n",
       "      <td>1</td>\n",
       "      <td>0</td>\n",
       "      <td>...</td>\n",
       "      <td>Unemployed</td>\n",
       "      <td>0</td>\n",
       "      <td>0</td>\n",
       "      <td>0</td>\n",
       "      <td>89</td>\n",
       "      <td>1~3</td>\n",
       "      <td>18</td>\n",
       "      <td>Summer</td>\n",
       "      <td>Location B</td>\n",
       "      <td>1</td>\n",
       "    </tr>\n",
       "  </tbody>\n",
       "</table>\n",
       "<p>5 rows × 30 columns</p>\n",
       "</div>"
      ],
      "text/plain": [
       "  offer expiration     income_range no_visited_Cold drinks  \\\n",
       "0            2days  ₹37500 - ₹49999                    1~3   \n",
       "1          10hours  ₹25000 - ₹37499                    4~8   \n",
       "2            2days  ₹100000 or More                  never   \n",
       "3            2days  ₹25000 - ₹37499                  never   \n",
       "4          10hours  ₹12500 - ₹24999                  never   \n",
       "\n",
       "   travelled_more_than_15mins_for_offer Restaur_spend_less_than20  \\\n",
       "0                                     1                       1~3   \n",
       "1                                     0                       1~3   \n",
       "2                                     1                     never   \n",
       "3                                     1                       1~3   \n",
       "4                                     0                       1~3   \n",
       "\n",
       "      Marital Status       restaurant type     age  \\\n",
       "0           Divorced  Take-away restaurant  50plus   \n",
       "1  Unmarried partner           Cold drinks      21   \n",
       "2             Single           Cold drinks      21   \n",
       "3    Married partner   Restaurant with pub      41   \n",
       "4             Single     2 star restaurant      31   \n",
       "\n",
       "   Prefer western over chinese  travelled_more_than_25mins_for_offer  ...  \\\n",
       "0                            0                                     1  ...   \n",
       "1                            1                                     0  ...   \n",
       "2                            1                                     0  ...   \n",
       "3                            0                                     0  ...   \n",
       "4                            1                                     0  ...   \n",
       "\n",
       "          Job/Job Industry restuarant_opposite_direction_house has Children  \\\n",
       "0          Sales & Related                                   1            1   \n",
       "1  Computer & Mathematical                                   1            1   \n",
       "2               Unemployed                                   1            0   \n",
       "3               Unemployed                                   1            1   \n",
       "4               Unemployed                                   0            0   \n",
       "\n",
       "  visit restaurant with rating (avg)  temperature  \\\n",
       "0                                  4           89   \n",
       "1                                  0           67   \n",
       "2                                  4           67   \n",
       "3                                  0           40   \n",
       "4                                  0           89   \n",
       "\n",
       "   Restaur_spend_greater_than20 Travel Time Climate  drop location  \\\n",
       "0                         less1           7  Summer     Location C   \n",
       "1                         less1          18  Summer     Location A   \n",
       "2                         never           7  Summer     Location C   \n",
       "3                         less1          18  Spring     Location C   \n",
       "4                           1~3          18  Summer     Location B   \n",
       "\n",
       "  Prefer home food  \n",
       "0                0  \n",
       "1                1  \n",
       "2                0  \n",
       "3                1  \n",
       "4                1  \n",
       "\n",
       "[5 rows x 30 columns]"
      ]
     },
     "execution_count": 44,
     "metadata": {},
     "output_type": "execute_result"
    }
   ],
   "source": [
    "test_df = pd.read_csv(\"/kaggle/input/marketing-strategy-personalised-offer/test_data.csv\")\n",
    "\n",
    "test_df[:5]\n",
    "\n",
    "                      "
   ]
  },
  {
   "cell_type": "code",
   "execution_count": 45,
   "id": "8d2ae5df",
   "metadata": {
    "execution": {
     "iopub.execute_input": "2022-10-21T13:50:11.459819Z",
     "iopub.status.busy": "2022-10-21T13:50:11.459249Z",
     "iopub.status.idle": "2022-10-21T13:50:11.473199Z",
     "shell.execute_reply": "2022-10-21T13:50:11.472328Z"
    },
    "papermill": {
     "duration": 0.030992,
     "end_time": "2022-10-21T13:50:11.475010",
     "exception": false,
     "start_time": "2022-10-21T13:50:11.444018",
     "status": "completed"
    },
    "tags": []
   },
   "outputs": [
    {
     "data": {
      "text/plain": [
       "offer expiration                           0\n",
       "income_range                               0\n",
       "no_visited_Cold drinks                    90\n",
       "travelled_more_than_15mins_for_offer       0\n",
       "Restaur_spend_less_than20                 61\n",
       "Marital Status                             0\n",
       "restaurant type                            0\n",
       "age                                        0\n",
       "Prefer western over chinese                0\n",
       "travelled_more_than_25mins_for_offer       0\n",
       "travelled_more_than_5mins_for_offer        0\n",
       "no_visited_bars                           50\n",
       "gender                                     0\n",
       "car                                     5262\n",
       "restuarant_same_direction_house            0\n",
       "Cooks regularly                            0\n",
       "Customer type                              0\n",
       "Qualification                              0\n",
       "is foodie                                  0\n",
       "no_Take-aways                             60\n",
       "Job/Job Industry                           0\n",
       "restuarant_opposite_direction_house        0\n",
       "has Children                               0\n",
       "visit restaurant with rating (avg)         0\n",
       "temperature                                0\n",
       "Restaur_spend_greater_than20             104\n",
       "Travel Time                                0\n",
       "Climate                                    0\n",
       "drop location                              0\n",
       "Prefer home food                           0\n",
       "dtype: int64"
      ]
     },
     "execution_count": 45,
     "metadata": {},
     "output_type": "execute_result"
    }
   ],
   "source": [
    "test_df.isnull().sum()"
   ]
  },
  {
   "cell_type": "code",
   "execution_count": 46,
   "id": "c1056422",
   "metadata": {
    "execution": {
     "iopub.execute_input": "2022-10-21T13:50:11.507470Z",
     "iopub.status.busy": "2022-10-21T13:50:11.506822Z",
     "iopub.status.idle": "2022-10-21T13:50:11.513178Z",
     "shell.execute_reply": "2022-10-21T13:50:11.512522Z"
    },
    "papermill": {
     "duration": 0.025045,
     "end_time": "2022-10-21T13:50:11.515115",
     "exception": false,
     "start_time": "2022-10-21T13:50:11.490070",
     "status": "completed"
    },
    "tags": []
   },
   "outputs": [],
   "source": [
    "test_df= test_df.drop([\"car\"], axis =1)"
   ]
  },
  {
   "cell_type": "code",
   "execution_count": 47,
   "id": "4c2c344d",
   "metadata": {
    "execution": {
     "iopub.execute_input": "2022-10-21T13:50:11.547526Z",
     "iopub.status.busy": "2022-10-21T13:50:11.546874Z",
     "iopub.status.idle": "2022-10-21T13:50:11.551732Z",
     "shell.execute_reply": "2022-10-21T13:50:11.550601Z"
    },
    "papermill": {
     "duration": 0.023797,
     "end_time": "2022-10-21T13:50:11.554189",
     "exception": false,
     "start_time": "2022-10-21T13:50:11.530392",
     "status": "completed"
    },
    "tags": []
   },
   "outputs": [],
   "source": [
    "from sklearn.impute import SimpleImputer"
   ]
  },
  {
   "cell_type": "code",
   "execution_count": 48,
   "id": "7fc90125",
   "metadata": {
    "execution": {
     "iopub.execute_input": "2022-10-21T13:50:11.587183Z",
     "iopub.status.busy": "2022-10-21T13:50:11.586533Z",
     "iopub.status.idle": "2022-10-21T13:50:11.622920Z",
     "shell.execute_reply": "2022-10-21T13:50:11.621885Z"
    },
    "papermill": {
     "duration": 0.055714,
     "end_time": "2022-10-21T13:50:11.625563",
     "exception": false,
     "start_time": "2022-10-21T13:50:11.569849",
     "status": "completed"
    },
    "tags": []
   },
   "outputs": [],
   "source": [
    "si = SimpleImputer(strategy = \"most_frequent\")\n",
    "\n",
    "test_df = si.fit_transform(test_df)"
   ]
  },
  {
   "cell_type": "code",
   "execution_count": 49,
   "id": "d7a52bef",
   "metadata": {
    "execution": {
     "iopub.execute_input": "2022-10-21T13:50:11.658330Z",
     "iopub.status.busy": "2022-10-21T13:50:11.657665Z",
     "iopub.status.idle": "2022-10-21T13:50:11.665616Z",
     "shell.execute_reply": "2022-10-21T13:50:11.664480Z"
    },
    "papermill": {
     "duration": 0.026942,
     "end_time": "2022-10-21T13:50:11.667954",
     "exception": false,
     "start_time": "2022-10-21T13:50:11.641012",
     "status": "completed"
    },
    "tags": []
   },
   "outputs": [],
   "source": [
    "X_test = pd.DataFrame(test_df, columns = selected_columns)"
   ]
  },
  {
   "cell_type": "code",
   "execution_count": null,
   "id": "c41a7cf9",
   "metadata": {
    "papermill": {
     "duration": 0.014774,
     "end_time": "2022-10-21T13:50:11.697853",
     "exception": false,
     "start_time": "2022-10-21T13:50:11.683079",
     "status": "completed"
    },
    "tags": []
   },
   "outputs": [],
   "source": []
  },
  {
   "cell_type": "code",
   "execution_count": 50,
   "id": "1a4bd3d7",
   "metadata": {
    "execution": {
     "iopub.execute_input": "2022-10-21T13:50:11.730731Z",
     "iopub.status.busy": "2022-10-21T13:50:11.730050Z",
     "iopub.status.idle": "2022-10-21T13:50:11.738005Z",
     "shell.execute_reply": "2022-10-21T13:50:11.737307Z"
    },
    "papermill": {
     "duration": 0.02682,
     "end_time": "2022-10-21T13:50:11.740151",
     "exception": false,
     "start_time": "2022-10-21T13:50:11.713331",
     "status": "completed"
    },
    "tags": []
   },
   "outputs": [],
   "source": [
    "dec_num = {\"offer expiration\":{\"2days\":1,'10hours':2},\"income_range\":{'Less than ₹12500':1,'₹12500 - ₹24999':2,'₹25000 - ₹37499':3,'₹37500 - ₹49999':4,'₹50000 - ₹62499':5,'₹62500 - ₹74999':6,'₹75000 - ₹87499':7,'₹87500 - ₹99999':8, '₹100000 or More':9},'no_visited_Cold drinks'\n",
    ":{'never':1,'less1': 2,'1~3': 3, '4~8': 4, 'gt8':5},\"Restaur_spend_less_than20\" :{'less1':1,'1~3':2,'4~8':3,'gt8':4,'never':5},\"restaurant type\":{'Cold drinks':1,'Take-away restaurant':2,'Restaurant with pub':3,'2 star restaurant':4,'4 star restaurant':5},\"age\":{'below21':1,'21':2,'26':3,'31':4,'36':5,'41':6,'46':7,'50plus':8},\"no_Take-aways\":{'never':1,'less1':2,'1~3':3,'4~8':4,'gt8':5},'no_visited_bars'\n",
    ":{'never':1,'less1':2,'1~3':3,'4~8':4,'gt8':5},\"Restaur_spend_greater_than20\" :{'less1':1,'1~3':2,'4~8':3,'gt8':4,'never':5}}"
   ]
  },
  {
   "cell_type": "code",
   "execution_count": 51,
   "id": "8ec0098a",
   "metadata": {
    "execution": {
     "iopub.execute_input": "2022-10-21T13:50:11.773099Z",
     "iopub.status.busy": "2022-10-21T13:50:11.772479Z",
     "iopub.status.idle": "2022-10-21T13:50:11.815885Z",
     "shell.execute_reply": "2022-10-21T13:50:11.814772Z"
    },
    "papermill": {
     "duration": 0.062755,
     "end_time": "2022-10-21T13:50:11.818382",
     "exception": false,
     "start_time": "2022-10-21T13:50:11.755627",
     "status": "completed"
    },
    "tags": []
   },
   "outputs": [],
   "source": [
    "X_test = X_test.replace(dec_num)"
   ]
  },
  {
   "cell_type": "code",
   "execution_count": 52,
   "id": "7746738d",
   "metadata": {
    "execution": {
     "iopub.execute_input": "2022-10-21T13:50:11.850970Z",
     "iopub.status.busy": "2022-10-21T13:50:11.850576Z",
     "iopub.status.idle": "2022-10-21T13:50:11.856854Z",
     "shell.execute_reply": "2022-10-21T13:50:11.855887Z"
    },
    "papermill": {
     "duration": 0.024733,
     "end_time": "2022-10-21T13:50:11.858728",
     "exception": false,
     "start_time": "2022-10-21T13:50:11.833995",
     "status": "completed"
    },
    "tags": []
   },
   "outputs": [],
   "source": [
    "num_attrib = [\"temperature\", \"Travel Time\"]\n",
    "nom_attrib = [\"travelled_more_than_15mins_for_offer\",\"Marital Status\",\"Prefer western over chinese\",\"Qualification\",\"travelled_more_than_25mins_for_offer\",\"travelled_more_than_5mins_for_offer\",\"gender\",\"restuarant_same_direction_house\",\"Cooks regularly\",\"Customer type\",\"is foodie\",\"Job/Job Industry\",\"restuarant_opposite_direction_house\",\"has Children\",\"Climate\",\"drop location\",\"Prefer home food\"]\n",
    "              \n",
    "ord_attrib = [\"offer expiration\",\"income_range\",\"no_visited_Cold drinks\",\"Restaur_spend_less_than20\",\"restaurant type\",\"no_Take-aways\",\"no_visited_bars\",\"age\",\"Restaur_spend_greater_than20\",\"visit restaurant with rating (avg)\"]"
   ]
  },
  {
   "cell_type": "code",
   "execution_count": 53,
   "id": "262537b3",
   "metadata": {
    "execution": {
     "iopub.execute_input": "2022-10-21T13:50:11.891070Z",
     "iopub.status.busy": "2022-10-21T13:50:11.890674Z",
     "iopub.status.idle": "2022-10-21T13:50:11.940916Z",
     "shell.execute_reply": "2022-10-21T13:50:11.939754Z"
    },
    "papermill": {
     "duration": 0.069144,
     "end_time": "2022-10-21T13:50:11.943202",
     "exception": false,
     "start_time": "2022-10-21T13:50:11.874058",
     "status": "completed"
    },
    "tags": []
   },
   "outputs": [],
   "source": [
    "t= [(\"num\",MinMaxScaler(),num_attrib),(\"ord\",OrdinalEncoder(),ord_attrib),(\"cat\",OneHotEncoder(sparse=False),nom_attrib)]\n",
    "\n",
    "pipeline = ColumnTransformer(transformers=t)\n",
    "\n",
    "X_test = pipeline.fit_transform(X_test)\n"
   ]
  },
  {
   "cell_type": "code",
   "execution_count": 54,
   "id": "257ae351",
   "metadata": {
    "execution": {
     "iopub.execute_input": "2022-10-21T13:50:11.975673Z",
     "iopub.status.busy": "2022-10-21T13:50:11.975262Z",
     "iopub.status.idle": "2022-10-21T13:50:11.985823Z",
     "shell.execute_reply": "2022-10-21T13:50:11.984949Z"
    },
    "papermill": {
     "duration": 0.029387,
     "end_time": "2022-10-21T13:50:11.988081",
     "exception": false,
     "start_time": "2022-10-21T13:50:11.958694",
     "status": "completed"
    },
    "tags": []
   },
   "outputs": [],
   "source": [
    "prediction = model.predict(X_test)"
   ]
  },
  {
   "cell_type": "code",
   "execution_count": 55,
   "id": "99b27927",
   "metadata": {
    "execution": {
     "iopub.execute_input": "2022-10-21T13:50:12.029065Z",
     "iopub.status.busy": "2022-10-21T13:50:12.028673Z",
     "iopub.status.idle": "2022-10-21T13:50:12.035666Z",
     "shell.execute_reply": "2022-10-21T13:50:12.034200Z"
    },
    "papermill": {
     "duration": 0.030582,
     "end_time": "2022-10-21T13:50:12.038434",
     "exception": false,
     "start_time": "2022-10-21T13:50:12.007852",
     "status": "completed"
    },
    "tags": []
   },
   "outputs": [
    {
     "data": {
      "text/plain": [
       "array(['No', 'Yes', 'No', 'No', 'Yes'], dtype=object)"
      ]
     },
     "execution_count": 55,
     "metadata": {},
     "output_type": "execute_result"
    }
   ],
   "source": [
    "prediction[:5]"
   ]
  },
  {
   "cell_type": "code",
   "execution_count": 56,
   "id": "77888538",
   "metadata": {
    "execution": {
     "iopub.execute_input": "2022-10-21T13:50:12.079422Z",
     "iopub.status.busy": "2022-10-21T13:50:12.079056Z",
     "iopub.status.idle": "2022-10-21T13:50:12.102088Z",
     "shell.execute_reply": "2022-10-21T13:50:12.100545Z"
    },
    "papermill": {
     "duration": 0.046999,
     "end_time": "2022-10-21T13:50:12.105255",
     "exception": false,
     "start_time": "2022-10-21T13:50:12.058256",
     "status": "completed"
    },
    "tags": []
   },
   "outputs": [
    {
     "data": {
      "text/html": [
       "<div>\n",
       "<style scoped>\n",
       "    .dataframe tbody tr th:only-of-type {\n",
       "        vertical-align: middle;\n",
       "    }\n",
       "\n",
       "    .dataframe tbody tr th {\n",
       "        vertical-align: top;\n",
       "    }\n",
       "\n",
       "    .dataframe thead th {\n",
       "        text-align: right;\n",
       "    }\n",
       "</style>\n",
       "<table border=\"1\" class=\"dataframe\">\n",
       "  <thead>\n",
       "    <tr style=\"text-align: right;\">\n",
       "      <th></th>\n",
       "      <th>id</th>\n",
       "      <th>Offer Accepted</th>\n",
       "    </tr>\n",
       "  </thead>\n",
       "  <tbody>\n",
       "    <tr>\n",
       "      <th>0</th>\n",
       "      <td>0</td>\n",
       "      <td>No</td>\n",
       "    </tr>\n",
       "    <tr>\n",
       "      <th>1</th>\n",
       "      <td>1</td>\n",
       "      <td>Yes</td>\n",
       "    </tr>\n",
       "    <tr>\n",
       "      <th>2</th>\n",
       "      <td>2</td>\n",
       "      <td>No</td>\n",
       "    </tr>\n",
       "    <tr>\n",
       "      <th>3</th>\n",
       "      <td>3</td>\n",
       "      <td>No</td>\n",
       "    </tr>\n",
       "    <tr>\n",
       "      <th>4</th>\n",
       "      <td>4</td>\n",
       "      <td>Yes</td>\n",
       "    </tr>\n",
       "  </tbody>\n",
       "</table>\n",
       "</div>"
      ],
      "text/plain": [
       "   id Offer Accepted\n",
       "0   0             No\n",
       "1   1            Yes\n",
       "2   2             No\n",
       "3   3             No\n",
       "4   4            Yes"
      ]
     },
     "execution_count": 56,
     "metadata": {},
     "output_type": "execute_result"
    }
   ],
   "source": [
    "submission = pd.DataFrame(columns = [\"id\",\"Offer Accepted\"])\n",
    "submission[\"id\"] = [i for i in range(len(prediction))]\n",
    "submission[\"Offer Accepted\"]= prediction\n",
    "submission[:5]"
   ]
  },
  {
   "cell_type": "code",
   "execution_count": 57,
   "id": "3e7e4d9c",
   "metadata": {
    "execution": {
     "iopub.execute_input": "2022-10-21T13:50:12.138799Z",
     "iopub.status.busy": "2022-10-21T13:50:12.137563Z",
     "iopub.status.idle": "2022-10-21T13:50:12.151697Z",
     "shell.execute_reply": "2022-10-21T13:50:12.150060Z"
    },
    "papermill": {
     "duration": 0.033543,
     "end_time": "2022-10-21T13:50:12.154445",
     "exception": false,
     "start_time": "2022-10-21T13:50:12.120902",
     "status": "completed"
    },
    "tags": []
   },
   "outputs": [],
   "source": [
    "submission.to_csv('submission_csv',index= False)"
   ]
  },
  {
   "cell_type": "code",
   "execution_count": null,
   "id": "c4801752",
   "metadata": {
    "papermill": {
     "duration": 0.015922,
     "end_time": "2022-10-21T13:50:12.186092",
     "exception": false,
     "start_time": "2022-10-21T13:50:12.170170",
     "status": "completed"
    },
    "tags": []
   },
   "outputs": [],
   "source": []
  }
 ],
 "metadata": {
  "kernelspec": {
   "display_name": "Python 3",
   "language": "python",
   "name": "python3"
  },
  "language_info": {
   "codemirror_mode": {
    "name": "ipython",
    "version": 3
   },
   "file_extension": ".py",
   "mimetype": "text/x-python",
   "name": "python",
   "nbconvert_exporter": "python",
   "pygments_lexer": "ipython3",
   "version": "3.7.12"
  },
  "papermill": {
   "default_parameters": {},
   "duration": 13.630272,
   "end_time": "2022-10-21T13:50:13.025027",
   "environment_variables": {},
   "exception": null,
   "input_path": "__notebook__.ipynb",
   "output_path": "__notebook__.ipynb",
   "parameters": {},
   "start_time": "2022-10-21T13:49:59.394755",
   "version": "2.3.4"
  }
 },
 "nbformat": 4,
 "nbformat_minor": 5
}
