{
 "cells": [
  {
   "cell_type": "code",
   "execution_count": 1,
   "id": "4d4ad7c3",
   "metadata": {
    "_cell_guid": "b1076dfc-b9ad-4769-8c92-a6c4dae69d19",
    "_uuid": "8f2839f25d086af736a60e9eeb907d3b93b6e0e5",
    "execution": {
     "iopub.execute_input": "2022-10-02T15:22:19.248373Z",
     "iopub.status.busy": "2022-10-02T15:22:19.247761Z",
     "iopub.status.idle": "2022-10-02T15:22:19.277159Z",
     "shell.execute_reply": "2022-10-02T15:22:19.275765Z"
    },
    "papermill": {
     "duration": 0.048292,
     "end_time": "2022-10-02T15:22:19.280471",
     "exception": false,
     "start_time": "2022-10-02T15:22:19.232179",
     "status": "completed"
    },
    "tags": []
   },
   "outputs": [
    {
     "name": "stdout",
     "output_type": "stream",
     "text": [
      "/kaggle/input/marketing-strategy-personalised-offer/sample.csv\n",
      "/kaggle/input/marketing-strategy-personalised-offer/train_data.csv\n",
      "/kaggle/input/marketing-strategy-personalised-offer/test_data.csv\n"
     ]
    }
   ],
   "source": [
    "# This Python 3 environment comes with many helpful analytics libraries installed\n",
    "# It is defined by the kaggle/python Docker image: https://github.com/kaggle/docker-python\n",
    "# For example, here's several helpful packages to load\n",
    "\n",
    "import numpy as np # linear algebra\n",
    "import pandas as pd # data processing, CSV file I/O (e.g. pd.read_csv)\n",
    "\n",
    "# Input data files are available in the read-only \"../input/\" directory\n",
    "# For example, running this (by clicking run or pressing Shift+Enter) will list all files under the input directory\n",
    "\n",
    "import os\n",
    "for dirname, _, filenames in os.walk('/kaggle/input'):\n",
    "    for filename in filenames:\n",
    "        print(os.path.join(dirname, filename))\n",
    "\n",
    "# You can write up to 20GB to the current directory (/kaggle/working/) that gets preserved as output when you create a version using \"Save & Run All\" \n",
    "# You can also write temporary files to /kaggle/temp/, but they won't be saved outside of the current session"
   ]
  },
  {
   "cell_type": "code",
   "execution_count": 2,
   "id": "a5224209",
   "metadata": {
    "execution": {
     "iopub.execute_input": "2022-10-02T15:22:19.304222Z",
     "iopub.status.busy": "2022-10-02T15:22:19.303446Z",
     "iopub.status.idle": "2022-10-02T15:22:20.477229Z",
     "shell.execute_reply": "2022-10-02T15:22:20.476371Z"
    },
    "papermill": {
     "duration": 1.188785,
     "end_time": "2022-10-02T15:22:20.479913",
     "exception": false,
     "start_time": "2022-10-02T15:22:19.291128",
     "status": "completed"
    },
    "tags": []
   },
   "outputs": [],
   "source": [
    "import pandas as pd\n",
    "import matplotlib.pyplot as plt\n",
    "import seaborn as sns\n",
    "import numpy as np"
   ]
  },
  {
   "cell_type": "code",
   "execution_count": 3,
   "id": "ed9ad37e",
   "metadata": {
    "execution": {
     "iopub.execute_input": "2022-10-02T15:22:20.500734Z",
     "iopub.status.busy": "2022-10-02T15:22:20.499138Z",
     "iopub.status.idle": "2022-10-02T15:22:20.717413Z",
     "shell.execute_reply": "2022-10-02T15:22:20.716277Z"
    },
    "papermill": {
     "duration": 0.231375,
     "end_time": "2022-10-02T15:22:20.720246",
     "exception": false,
     "start_time": "2022-10-02T15:22:20.488871",
     "status": "completed"
    },
    "tags": []
   },
   "outputs": [],
   "source": [
    "data_mkt = pd.read_csv(\"/kaggle/input/marketing-strategy-personalised-offer/train_data.csv\")"
   ]
  },
  {
   "cell_type": "code",
   "execution_count": 4,
   "id": "7f22f67e",
   "metadata": {
    "execution": {
     "iopub.execute_input": "2022-10-02T15:22:20.739494Z",
     "iopub.status.busy": "2022-10-02T15:22:20.738797Z",
     "iopub.status.idle": "2022-10-02T15:22:20.783505Z",
     "shell.execute_reply": "2022-10-02T15:22:20.782126Z"
    },
    "papermill": {
     "duration": 0.057416,
     "end_time": "2022-10-02T15:22:20.786367",
     "exception": false,
     "start_time": "2022-10-02T15:22:20.728951",
     "status": "completed"
    },
    "tags": []
   },
   "outputs": [
    {
     "name": "stdout",
     "output_type": "stream",
     "text": [
      "<class 'pandas.core.frame.DataFrame'>\n",
      "RangeIndex: 12379 entries, 0 to 12378\n",
      "Data columns (total 31 columns):\n",
      " #   Column                                Non-Null Count  Dtype \n",
      "---  ------                                --------------  ----- \n",
      " 0   offer expiration                      12379 non-null  object\n",
      " 1   income_range                          12379 non-null  object\n",
      " 2   no_visited_Cold drinks                12181 non-null  object\n",
      " 3   travelled_more_than_15mins_for_offer  12379 non-null  int64 \n",
      " 4   Restaur_spend_less_than20             12258 non-null  object\n",
      " 5   Marital Status                        12379 non-null  object\n",
      " 6   restaurant type                       12379 non-null  object\n",
      " 7   age                                   12379 non-null  object\n",
      " 8   Prefer western over chinese           12379 non-null  int64 \n",
      " 9   travelled_more_than_25mins_for_offer  12379 non-null  int64 \n",
      " 10  travelled_more_than_5mins_for_offer   12379 non-null  int64 \n",
      " 11  no_visited_bars                       12286 non-null  object\n",
      " 12  gender                                12379 non-null  object\n",
      " 13  car                                   111 non-null    object\n",
      " 14  restuarant_same_direction_house       12379 non-null  int64 \n",
      " 15  Cooks regularly                       12379 non-null  int64 \n",
      " 16  Customer type                         12379 non-null  object\n",
      " 17  Qualification                         12379 non-null  object\n",
      " 18  is foodie                             12379 non-null  int64 \n",
      " 19  no_Take-aways                         12235 non-null  object\n",
      " 20  Job/Job Industry                      12379 non-null  object\n",
      " 21  restuarant_opposite_direction_house   12379 non-null  int64 \n",
      " 22  has Children                          12379 non-null  int64 \n",
      " 23  visit restaurant with rating (avg)    12379 non-null  int64 \n",
      " 24  temperature                           12379 non-null  int64 \n",
      " 25  Restaur_spend_greater_than20          12219 non-null  object\n",
      " 26  Travel Time                           12379 non-null  int64 \n",
      " 27  Climate                               12379 non-null  object\n",
      " 28  drop location                         12379 non-null  object\n",
      " 29  Prefer home food                      12379 non-null  int64 \n",
      " 30  Offer Accepted                        12379 non-null  object\n",
      "dtypes: int64(13), object(18)\n",
      "memory usage: 2.9+ MB\n"
     ]
    }
   ],
   "source": [
    "data_mkt.info()"
   ]
  },
  {
   "cell_type": "code",
   "execution_count": 5,
   "id": "7df63dba",
   "metadata": {
    "execution": {
     "iopub.execute_input": "2022-10-02T15:22:20.805880Z",
     "iopub.status.busy": "2022-10-02T15:22:20.805494Z",
     "iopub.status.idle": "2022-10-02T15:22:20.833096Z",
     "shell.execute_reply": "2022-10-02T15:22:20.832256Z"
    },
    "papermill": {
     "duration": 0.040076,
     "end_time": "2022-10-02T15:22:20.835404",
     "exception": false,
     "start_time": "2022-10-02T15:22:20.795328",
     "status": "completed"
    },
    "tags": []
   },
   "outputs": [
    {
     "data": {
      "text/plain": [
       "<bound method NDFrame.describe of       offer expiration     income_range no_visited_Cold drinks  \\\n",
       "0                2days  ₹100000 or More                    4~8   \n",
       "1                2days  ₹87500 - ₹99999                    4~8   \n",
       "2                2days  ₹87500 - ₹99999                  less1   \n",
       "3              10hours  ₹37500 - ₹49999                  less1   \n",
       "4                2days  ₹100000 or More                  never   \n",
       "...                ...              ...                    ...   \n",
       "12374          10hours  ₹25000 - ₹37499                  less1   \n",
       "12375            2days  ₹25000 - ₹37499                    4~8   \n",
       "12376          10hours  ₹87500 - ₹99999                    4~8   \n",
       "12377          10hours  ₹12500 - ₹24999                    4~8   \n",
       "12378            2days  ₹37500 - ₹49999                    1~3   \n",
       "\n",
       "       travelled_more_than_15mins_for_offer Restaur_spend_less_than20  \\\n",
       "0                                         1                     less1   \n",
       "1                                         0                       4~8   \n",
       "2                                         1                       1~3   \n",
       "3                                         0                       1~3   \n",
       "4                                         1                       1~3   \n",
       "...                                     ...                       ...   \n",
       "12374                                     1                       gt8   \n",
       "12375                                     0                     never   \n",
       "12376                                     1                       gt8   \n",
       "12377                                     1                     less1   \n",
       "12378                                     1                     less1   \n",
       "\n",
       "          Marital Status       restaurant type      age  \\\n",
       "0        Married partner     4 star restaurant       36   \n",
       "1        Married partner  Take-away restaurant   50plus   \n",
       "2                 Single           Cold drinks       26   \n",
       "3                 Single  Take-away restaurant       46   \n",
       "4                 Single     4 star restaurant       21   \n",
       "...                  ...                   ...      ...   \n",
       "12374  Unmarried partner   Restaurant with pub   50plus   \n",
       "12375             Single  Take-away restaurant       21   \n",
       "12376    Married partner           Cold drinks       31   \n",
       "12377    Married partner     2 star restaurant       26   \n",
       "12378  Unmarried partner     4 star restaurant  below21   \n",
       "\n",
       "       Prefer western over chinese  travelled_more_than_25mins_for_offer  ...  \\\n",
       "0                                0                                     0  ...   \n",
       "1                                0                                     0  ...   \n",
       "2                                1                                     0  ...   \n",
       "3                                1                                     0  ...   \n",
       "4                                0                                     1  ...   \n",
       "...                            ...                                   ...  ...   \n",
       "12374                            0                                     0  ...   \n",
       "12375                            0                                     0  ...   \n",
       "12376                            0                                     1  ...   \n",
       "12377                            0                                     0  ...   \n",
       "12378                            1                                     0  ...   \n",
       "\n",
       "       restuarant_opposite_direction_house has Children  \\\n",
       "0                                        0            0   \n",
       "1                                        0            1   \n",
       "2                                        1            1   \n",
       "3                                        0            1   \n",
       "4                                        1            0   \n",
       "...                                    ...          ...   \n",
       "12374                                    1            1   \n",
       "12375                                    1            1   \n",
       "12376                                    1            0   \n",
       "12377                                    1            0   \n",
       "12378                                    1            0   \n",
       "\n",
       "      visit restaurant with rating (avg) temperature  \\\n",
       "0                                      4          67   \n",
       "1                                      3          89   \n",
       "2                                      4          67   \n",
       "3                                      3          89   \n",
       "4                                      3          40   \n",
       "...                                  ...         ...   \n",
       "12374                                  1          89   \n",
       "12375                                  2          67   \n",
       "12376                                  2          89   \n",
       "12377                                  1          89   \n",
       "12378                                  0          67   \n",
       "\n",
       "       Restaur_spend_greater_than20  Travel Time Climate drop location  \\\n",
       "0                             less1           22  Spring    Location B   \n",
       "1                               1~3           18  Summer    Location B   \n",
       "2                             less1            7  Winter    Location A   \n",
       "3                               1~3            7  Summer    Location C   \n",
       "4                             less1            7  Summer    Location C   \n",
       "...                             ...          ...     ...           ...   \n",
       "12374                         never           22  Summer    Location B   \n",
       "12375                         never           18  Summer    Location B   \n",
       "12376                           gt8           18  Spring    Location B   \n",
       "12377                         less1            7  Summer    Location C   \n",
       "12378                         less1            7  Spring    Location A   \n",
       "\n",
       "       Prefer home food Offer Accepted  \n",
       "0                     0             No  \n",
       "1                     0            Yes  \n",
       "2                     1            Yes  \n",
       "3                     0             No  \n",
       "4                     0             No  \n",
       "...                 ...            ...  \n",
       "12374                 0            Yes  \n",
       "12375                 0            Yes  \n",
       "12376                 1             No  \n",
       "12377                 0            Yes  \n",
       "12378                 1            Yes  \n",
       "\n",
       "[12379 rows x 31 columns]>"
      ]
     },
     "execution_count": 5,
     "metadata": {},
     "output_type": "execute_result"
    }
   ],
   "source": [
    "data_mkt.describe"
   ]
  },
  {
   "cell_type": "code",
   "execution_count": 6,
   "id": "a8e275a9",
   "metadata": {
    "execution": {
     "iopub.execute_input": "2022-10-02T15:22:20.856007Z",
     "iopub.status.busy": "2022-10-02T15:22:20.854889Z",
     "iopub.status.idle": "2022-10-02T15:22:20.862812Z",
     "shell.execute_reply": "2022-10-02T15:22:20.861983Z"
    },
    "papermill": {
     "duration": 0.020185,
     "end_time": "2022-10-02T15:22:20.864785",
     "exception": false,
     "start_time": "2022-10-02T15:22:20.844600",
     "status": "completed"
    },
    "tags": []
   },
   "outputs": [
    {
     "data": {
      "text/plain": [
       "array(['₹100000 or More', '₹87500 - ₹99999', '₹37500 - ₹49999',\n",
       "       'Less than ₹12500', '₹50000 - ₹62499', '₹12500 - ₹24999',\n",
       "       '₹75000 - ₹87499', '₹25000 - ₹37499', '₹62500 - ₹74999'],\n",
       "      dtype=object)"
      ]
     },
     "execution_count": 6,
     "metadata": {},
     "output_type": "execute_result"
    }
   ],
   "source": [
    "data_mkt[\"income_range\"].unique()"
   ]
  },
  {
   "cell_type": "code",
   "execution_count": 7,
   "id": "f177c19f",
   "metadata": {
    "execution": {
     "iopub.execute_input": "2022-10-02T15:22:20.885628Z",
     "iopub.status.busy": "2022-10-02T15:22:20.884917Z",
     "iopub.status.idle": "2022-10-02T15:22:20.891305Z",
     "shell.execute_reply": "2022-10-02T15:22:20.890116Z"
    },
    "papermill": {
     "duration": 0.019351,
     "end_time": "2022-10-02T15:22:20.893590",
     "exception": false,
     "start_time": "2022-10-02T15:22:20.874239",
     "status": "completed"
    },
    "tags": []
   },
   "outputs": [
    {
     "data": {
      "text/plain": [
       "31"
      ]
     },
     "execution_count": 7,
     "metadata": {},
     "output_type": "execute_result"
    }
   ],
   "source": [
    "len(data_mkt.columns)"
   ]
  },
  {
   "cell_type": "code",
   "execution_count": 8,
   "id": "787ae06a",
   "metadata": {
    "execution": {
     "iopub.execute_input": "2022-10-02T15:22:20.915002Z",
     "iopub.status.busy": "2022-10-02T15:22:20.914577Z",
     "iopub.status.idle": "2022-10-02T15:22:20.922158Z",
     "shell.execute_reply": "2022-10-02T15:22:20.921309Z"
    },
    "papermill": {
     "duration": 0.020361,
     "end_time": "2022-10-02T15:22:20.924231",
     "exception": false,
     "start_time": "2022-10-02T15:22:20.903870",
     "status": "completed"
    },
    "tags": []
   },
   "outputs": [
    {
     "data": {
      "text/plain": [
       "array(['2days', '10hours'], dtype=object)"
      ]
     },
     "execution_count": 8,
     "metadata": {},
     "output_type": "execute_result"
    }
   ],
   "source": [
    "data_mkt[\"offer expiration\"].unique()"
   ]
  },
  {
   "cell_type": "code",
   "execution_count": 9,
   "id": "8c477ba9",
   "metadata": {
    "execution": {
     "iopub.execute_input": "2022-10-02T15:22:20.945404Z",
     "iopub.status.busy": "2022-10-02T15:22:20.944602Z",
     "iopub.status.idle": "2022-10-02T15:22:20.952243Z",
     "shell.execute_reply": "2022-10-02T15:22:20.951180Z"
    },
    "papermill": {
     "duration": 0.020356,
     "end_time": "2022-10-02T15:22:20.954467",
     "exception": false,
     "start_time": "2022-10-02T15:22:20.934111",
     "status": "completed"
    },
    "tags": []
   },
   "outputs": [
    {
     "data": {
      "text/plain": [
       "array(['4~8', 'less1', 'never', '1~3', 'gt8', nan], dtype=object)"
      ]
     },
     "execution_count": 9,
     "metadata": {},
     "output_type": "execute_result"
    }
   ],
   "source": [
    "data_mkt['no_visited_Cold drinks'].unique()"
   ]
  },
  {
   "cell_type": "code",
   "execution_count": 10,
   "id": "ae1d10d0",
   "metadata": {
    "execution": {
     "iopub.execute_input": "2022-10-02T15:22:20.975983Z",
     "iopub.status.busy": "2022-10-02T15:22:20.975239Z",
     "iopub.status.idle": "2022-10-02T15:22:20.982951Z",
     "shell.execute_reply": "2022-10-02T15:22:20.981925Z"
    },
    "papermill": {
     "duration": 0.021002,
     "end_time": "2022-10-02T15:22:20.985193",
     "exception": false,
     "start_time": "2022-10-02T15:22:20.964191",
     "status": "completed"
    },
    "tags": []
   },
   "outputs": [
    {
     "data": {
      "text/plain": [
       "array([1, 0])"
      ]
     },
     "execution_count": 10,
     "metadata": {},
     "output_type": "execute_result"
    }
   ],
   "source": [
    "data_mkt['travelled_more_than_15mins_for_offer'].unique()"
   ]
  },
  {
   "cell_type": "code",
   "execution_count": 11,
   "id": "880737c3",
   "metadata": {
    "execution": {
     "iopub.execute_input": "2022-10-02T15:22:21.007265Z",
     "iopub.status.busy": "2022-10-02T15:22:21.006403Z",
     "iopub.status.idle": "2022-10-02T15:22:21.013312Z",
     "shell.execute_reply": "2022-10-02T15:22:21.012451Z"
    },
    "papermill": {
     "duration": 0.020465,
     "end_time": "2022-10-02T15:22:21.015446",
     "exception": false,
     "start_time": "2022-10-02T15:22:20.994981",
     "status": "completed"
    },
    "tags": []
   },
   "outputs": [
    {
     "data": {
      "text/plain": [
       "array(['less1', '4~8', '1~3', 'gt8', 'never', nan], dtype=object)"
      ]
     },
     "execution_count": 11,
     "metadata": {},
     "output_type": "execute_result"
    }
   ],
   "source": [
    "data_mkt['Restaur_spend_less_than20'].unique()"
   ]
  },
  {
   "cell_type": "code",
   "execution_count": 12,
   "id": "edf69c8c",
   "metadata": {
    "execution": {
     "iopub.execute_input": "2022-10-02T15:22:21.037199Z",
     "iopub.status.busy": "2022-10-02T15:22:21.036764Z",
     "iopub.status.idle": "2022-10-02T15:22:21.062585Z",
     "shell.execute_reply": "2022-10-02T15:22:21.061298Z"
    },
    "papermill": {
     "duration": 0.039773,
     "end_time": "2022-10-02T15:22:21.065356",
     "exception": false,
     "start_time": "2022-10-02T15:22:21.025583",
     "status": "completed"
    },
    "tags": []
   },
   "outputs": [
    {
     "name": "stdout",
     "output_type": "stream",
     "text": [
      "['2days' '10hours']\n",
      "offer expiration\n",
      "['₹100000 or More' '₹87500 - ₹99999' '₹37500 - ₹49999' 'Less than ₹12500'\n",
      " '₹50000 - ₹62499' '₹12500 - ₹24999' '₹75000 - ₹87499' '₹25000 - ₹37499'\n",
      " '₹62500 - ₹74999']\n",
      "income_range\n",
      "['4~8' 'less1' 'never' '1~3' 'gt8' nan]\n",
      "no_visited_Cold drinks\n",
      "[1 0]\n",
      "travelled_more_than_15mins_for_offer\n",
      "['less1' '4~8' '1~3' 'gt8' 'never' nan]\n",
      "Restaur_spend_less_than20\n",
      "['Married partner' 'Single' 'Divorced' 'Unmarried partner' 'Widowed']\n",
      "Marital Status\n",
      "['4 star restaurant' 'Take-away restaurant' 'Cold drinks'\n",
      " 'Restaurant with pub' '2 star restaurant']\n",
      "restaurant type\n",
      "['36' '50plus' '26' '46' '21' 'below21' '41' '31']\n",
      "age\n",
      "[0 1]\n",
      "Prefer western over chinese\n",
      "[0 1]\n",
      "travelled_more_than_25mins_for_offer\n",
      "[1]\n",
      "travelled_more_than_5mins_for_offer\n",
      "['less1' 'never' '1~3' nan '4~8' 'gt8']\n",
      "no_visited_bars\n",
      "['Female' 'Male']\n",
      "gender\n",
      "[nan 'Mazda5' 'Car that is too old to install Onstar :D' 'crossover'\n",
      " 'Scooter and motorcycle' 'do not drive']\n",
      "car\n",
      "[0 1]\n",
      "restuarant_same_direction_house\n",
      "[1 0]\n",
      "Cooks regularly\n",
      "['Individual' 'With Family' 'With Kids' 'With Colleagues']\n",
      "Customer type\n",
      "['Bachelors degree' 'Some college - no degree'\n",
      " 'Graduate degree (Masters or Doctorate)' 'Associates degree'\n",
      " 'High School Graduate' 'Some High School']\n",
      "Qualification\n",
      "[0 1]\n",
      "is foodie\n",
      "['1~3' 'gt8' '4~8' 'less1' nan 'never']\n",
      "no_Take-aways\n",
      "['Unemployed' 'Arts Design Entertainment Sports & Media' 'Sales & Related'\n",
      " 'Student' 'Business & Financial' 'Computer & Mathematical'\n",
      " 'Office & Administrative Support' 'Management' 'Healthcare Support'\n",
      " 'Life Physical Social Science' 'Installation Maintenance & Repair'\n",
      " 'Legal' 'Community & Social Services' 'Education&Training&Library'\n",
      " 'Construction & Extraction' 'Healthcare Practitioners & Technical'\n",
      " 'Transportation & Material Moving' 'Retired' 'Architecture & Engineering'\n",
      " 'Production Occupations' 'Farming Fishing & Forestry'\n",
      " 'Protective Service' 'Personal Care & Service'\n",
      " 'Food Preparation & Serving Related'\n",
      " 'Building & Grounds Cleaning & Maintenance']\n",
      "Job/Job Industry\n",
      "[0 1]\n",
      "restuarant_opposite_direction_house\n",
      "[0 1]\n",
      "has Children\n",
      "[4 3 0 1 2]\n",
      "visit restaurant with rating (avg)\n",
      "[67 89 40]\n",
      "temperature\n",
      "['less1' '1~3' 'never' 'gt8' nan '4~8']\n",
      "Restaur_spend_greater_than20\n",
      "[22 18  7 10 14]\n",
      "Travel Time\n",
      "['Spring' 'Summer' 'Winter']\n",
      "Climate\n",
      "['Location B' 'Location A' 'Location C']\n",
      "drop location\n",
      "[0 1]\n",
      "Prefer home food\n",
      "['No' 'Yes']\n",
      "Offer Accepted\n"
     ]
    }
   ],
   "source": [
    "for column in data_mkt.columns:\n",
    "    print(data_mkt[column].unique())\n",
    "    print(column)"
   ]
  },
  {
   "cell_type": "code",
   "execution_count": 13,
   "id": "11ebd51c",
   "metadata": {
    "execution": {
     "iopub.execute_input": "2022-10-02T15:22:21.087395Z",
     "iopub.status.busy": "2022-10-02T15:22:21.086765Z",
     "iopub.status.idle": "2022-10-02T15:22:21.104476Z",
     "shell.execute_reply": "2022-10-02T15:22:21.103626Z"
    },
    "papermill": {
     "duration": 0.031146,
     "end_time": "2022-10-02T15:22:21.106641",
     "exception": false,
     "start_time": "2022-10-02T15:22:21.075495",
     "status": "completed"
    },
    "tags": []
   },
   "outputs": [
    {
     "data": {
      "text/plain": [
       "offer expiration                            0\n",
       "income_range                                0\n",
       "no_visited_Cold drinks                    198\n",
       "travelled_more_than_15mins_for_offer        0\n",
       "Restaur_spend_less_than20                 121\n",
       "Marital Status                              0\n",
       "restaurant type                             0\n",
       "age                                         0\n",
       "Prefer western over chinese                 0\n",
       "travelled_more_than_25mins_for_offer        0\n",
       "travelled_more_than_5mins_for_offer         0\n",
       "no_visited_bars                            93\n",
       "gender                                      0\n",
       "car                                     12268\n",
       "restuarant_same_direction_house             0\n",
       "Cooks regularly                             0\n",
       "Customer type                               0\n",
       "Qualification                               0\n",
       "is foodie                                   0\n",
       "no_Take-aways                             144\n",
       "Job/Job Industry                            0\n",
       "restuarant_opposite_direction_house         0\n",
       "has Children                                0\n",
       "visit restaurant with rating (avg)          0\n",
       "temperature                                 0\n",
       "Restaur_spend_greater_than20              160\n",
       "Travel Time                                 0\n",
       "Climate                                     0\n",
       "drop location                               0\n",
       "Prefer home food                            0\n",
       "Offer Accepted                              0\n",
       "dtype: int64"
      ]
     },
     "execution_count": 13,
     "metadata": {},
     "output_type": "execute_result"
    }
   ],
   "source": [
    "data_mkt.isnull().sum()"
   ]
  },
  {
   "cell_type": "code",
   "execution_count": 14,
   "id": "5a5b329c",
   "metadata": {
    "execution": {
     "iopub.execute_input": "2022-10-02T15:22:21.129512Z",
     "iopub.status.busy": "2022-10-02T15:22:21.128642Z",
     "iopub.status.idle": "2022-10-02T15:22:21.392291Z",
     "shell.execute_reply": "2022-10-02T15:22:21.391310Z"
    },
    "papermill": {
     "duration": 0.27796,
     "end_time": "2022-10-02T15:22:21.394768",
     "exception": false,
     "start_time": "2022-10-02T15:22:21.116808",
     "status": "completed"
    },
    "tags": []
   },
   "outputs": [
    {
     "data": {
      "text/plain": [
       "<AxesSubplot:>"
      ]
     },
     "execution_count": 14,
     "metadata": {},
     "output_type": "execute_result"
    },
    {
     "data": {
      "image/png": "[encoded data removed]",
      "text/plain": [
       "<Figure size 432x288 with 1 Axes>"
      ]
     },
     "metadata": {
      "needs_background": "light"
     },
     "output_type": "display_data"
    }
   ],
   "source": [
    "data_mkt['offer expiration'].hist()"
   ]
  },
  {
   "cell_type": "code",
   "execution_count": 15,
   "id": "61454be5",
   "metadata": {
    "execution": {
     "iopub.execute_input": "2022-10-02T15:22:21.417113Z",
     "iopub.status.busy": "2022-10-02T15:22:21.416706Z",
     "iopub.status.idle": "2022-10-02T15:22:21.425831Z",
     "shell.execute_reply": "2022-10-02T15:22:21.424587Z"
    },
    "papermill": {
     "duration": 0.023148,
     "end_time": "2022-10-02T15:22:21.428346",
     "exception": false,
     "start_time": "2022-10-02T15:22:21.405198",
     "status": "completed"
    },
    "tags": []
   },
   "outputs": [],
   "source": [
    "data_mkt=data_mkt.drop(['car'],axis=1)"
   ]
  },
  {
   "cell_type": "code",
   "execution_count": 16,
   "id": "83f4ccd2",
   "metadata": {
    "execution": {
     "iopub.execute_input": "2022-10-02T15:22:21.451392Z",
     "iopub.status.busy": "2022-10-02T15:22:21.450707Z",
     "iopub.status.idle": "2022-10-02T15:22:21.469809Z",
     "shell.execute_reply": "2022-10-02T15:22:21.468781Z"
    },
    "papermill": {
     "duration": 0.033208,
     "end_time": "2022-10-02T15:22:21.472194",
     "exception": false,
     "start_time": "2022-10-02T15:22:21.438986",
     "status": "completed"
    },
    "tags": []
   },
   "outputs": [
    {
     "data": {
      "text/plain": [
       "offer expiration                          0\n",
       "income_range                              0\n",
       "no_visited_Cold drinks                  198\n",
       "travelled_more_than_15mins_for_offer      0\n",
       "Restaur_spend_less_than20               121\n",
       "Marital Status                            0\n",
       "restaurant type                           0\n",
       "age                                       0\n",
       "Prefer western over chinese               0\n",
       "travelled_more_than_25mins_for_offer      0\n",
       "travelled_more_than_5mins_for_offer       0\n",
       "no_visited_bars                          93\n",
       "gender                                    0\n",
       "restuarant_same_direction_house           0\n",
       "Cooks regularly                           0\n",
       "Customer type                             0\n",
       "Qualification                             0\n",
       "is foodie                                 0\n",
       "no_Take-aways                           144\n",
       "Job/Job Industry                          0\n",
       "restuarant_opposite_direction_house       0\n",
       "has Children                              0\n",
       "visit restaurant with rating (avg)        0\n",
       "temperature                               0\n",
       "Restaur_spend_greater_than20            160\n",
       "Travel Time                               0\n",
       "Climate                                   0\n",
       "drop location                             0\n",
       "Prefer home food                          0\n",
       "Offer Accepted                            0\n",
       "dtype: int64"
      ]
     },
     "execution_count": 16,
     "metadata": {},
     "output_type": "execute_result"
    }
   ],
   "source": [
    "data_mkt.isnull().sum()"
   ]
  },
  {
   "cell_type": "code",
   "execution_count": 17,
   "id": "ad683cea",
   "metadata": {
    "execution": {
     "iopub.execute_input": "2022-10-02T15:22:21.495486Z",
     "iopub.status.busy": "2022-10-02T15:22:21.494429Z",
     "iopub.status.idle": "2022-10-02T15:22:21.553082Z",
     "shell.execute_reply": "2022-10-02T15:22:21.551949Z"
    },
    "papermill": {
     "duration": 0.072983,
     "end_time": "2022-10-02T15:22:21.555685",
     "exception": false,
     "start_time": "2022-10-02T15:22:21.482702",
     "status": "completed"
    },
    "tags": []
   },
   "outputs": [
    {
     "data": {
      "text/html": [
       "<div>\n",
       "<style scoped>\n",
       "    .dataframe tbody tr th:only-of-type {\n",
       "        vertical-align: middle;\n",
       "    }\n",
       "\n",
       "    .dataframe tbody tr th {\n",
       "        vertical-align: top;\n",
       "    }\n",
       "\n",
       "    .dataframe thead th {\n",
       "        text-align: right;\n",
       "    }\n",
       "</style>\n",
       "<table border=\"1\" class=\"dataframe\">\n",
       "  <thead>\n",
       "    <tr style=\"text-align: right;\">\n",
       "      <th></th>\n",
       "      <th>travelled_more_than_15mins_for_offer</th>\n",
       "      <th>Prefer western over chinese</th>\n",
       "      <th>travelled_more_than_25mins_for_offer</th>\n",
       "      <th>travelled_more_than_5mins_for_offer</th>\n",
       "      <th>restuarant_same_direction_house</th>\n",
       "      <th>Cooks regularly</th>\n",
       "      <th>is foodie</th>\n",
       "      <th>restuarant_opposite_direction_house</th>\n",
       "      <th>has Children</th>\n",
       "      <th>visit restaurant with rating (avg)</th>\n",
       "      <th>temperature</th>\n",
       "      <th>Travel Time</th>\n",
       "      <th>Prefer home food</th>\n",
       "    </tr>\n",
       "  </thead>\n",
       "  <tbody>\n",
       "    <tr>\n",
       "      <th>count</th>\n",
       "      <td>12379.000000</td>\n",
       "      <td>12379.000000</td>\n",
       "      <td>12379.000000</td>\n",
       "      <td>12379.0</td>\n",
       "      <td>12379.000000</td>\n",
       "      <td>12379.000000</td>\n",
       "      <td>12379.000000</td>\n",
       "      <td>12379.000000</td>\n",
       "      <td>12379.000000</td>\n",
       "      <td>12379.000000</td>\n",
       "      <td>12379.000000</td>\n",
       "      <td>12379.000000</td>\n",
       "      <td>12379.000000</td>\n",
       "    </tr>\n",
       "    <tr>\n",
       "      <th>mean</th>\n",
       "      <td>0.565393</td>\n",
       "      <td>0.506665</td>\n",
       "      <td>0.119396</td>\n",
       "      <td>1.0</td>\n",
       "      <td>0.213426</td>\n",
       "      <td>0.499556</td>\n",
       "      <td>0.502706</td>\n",
       "      <td>0.787382</td>\n",
       "      <td>0.415623</td>\n",
       "      <td>1.987802</td>\n",
       "      <td>71.139187</td>\n",
       "      <td>13.947896</td>\n",
       "      <td>0.509815</td>\n",
       "    </tr>\n",
       "    <tr>\n",
       "      <th>std</th>\n",
       "      <td>0.495725</td>\n",
       "      <td>0.499976</td>\n",
       "      <td>0.324267</td>\n",
       "      <td>0.0</td>\n",
       "      <td>0.409742</td>\n",
       "      <td>0.500020</td>\n",
       "      <td>0.500013</td>\n",
       "      <td>0.409176</td>\n",
       "      <td>0.492849</td>\n",
       "      <td>1.421653</td>\n",
       "      <td>19.215969</td>\n",
       "      <td>5.395232</td>\n",
       "      <td>0.499924</td>\n",
       "    </tr>\n",
       "    <tr>\n",
       "      <th>min</th>\n",
       "      <td>0.000000</td>\n",
       "      <td>0.000000</td>\n",
       "      <td>0.000000</td>\n",
       "      <td>1.0</td>\n",
       "      <td>0.000000</td>\n",
       "      <td>0.000000</td>\n",
       "      <td>0.000000</td>\n",
       "      <td>0.000000</td>\n",
       "      <td>0.000000</td>\n",
       "      <td>0.000000</td>\n",
       "      <td>40.000000</td>\n",
       "      <td>7.000000</td>\n",
       "      <td>0.000000</td>\n",
       "    </tr>\n",
       "    <tr>\n",
       "      <th>25%</th>\n",
       "      <td>0.000000</td>\n",
       "      <td>0.000000</td>\n",
       "      <td>0.000000</td>\n",
       "      <td>1.0</td>\n",
       "      <td>0.000000</td>\n",
       "      <td>0.000000</td>\n",
       "      <td>0.000000</td>\n",
       "      <td>1.000000</td>\n",
       "      <td>0.000000</td>\n",
       "      <td>1.000000</td>\n",
       "      <td>67.000000</td>\n",
       "      <td>10.000000</td>\n",
       "      <td>0.000000</td>\n",
       "    </tr>\n",
       "    <tr>\n",
       "      <th>50%</th>\n",
       "      <td>1.000000</td>\n",
       "      <td>1.000000</td>\n",
       "      <td>0.000000</td>\n",
       "      <td>1.0</td>\n",
       "      <td>0.000000</td>\n",
       "      <td>0.000000</td>\n",
       "      <td>1.000000</td>\n",
       "      <td>1.000000</td>\n",
       "      <td>0.000000</td>\n",
       "      <td>2.000000</td>\n",
       "      <td>67.000000</td>\n",
       "      <td>14.000000</td>\n",
       "      <td>1.000000</td>\n",
       "    </tr>\n",
       "    <tr>\n",
       "      <th>75%</th>\n",
       "      <td>1.000000</td>\n",
       "      <td>1.000000</td>\n",
       "      <td>0.000000</td>\n",
       "      <td>1.0</td>\n",
       "      <td>0.000000</td>\n",
       "      <td>1.000000</td>\n",
       "      <td>1.000000</td>\n",
       "      <td>1.000000</td>\n",
       "      <td>1.000000</td>\n",
       "      <td>3.000000</td>\n",
       "      <td>89.000000</td>\n",
       "      <td>18.000000</td>\n",
       "      <td>1.000000</td>\n",
       "    </tr>\n",
       "    <tr>\n",
       "      <th>max</th>\n",
       "      <td>1.000000</td>\n",
       "      <td>1.000000</td>\n",
       "      <td>1.000000</td>\n",
       "      <td>1.0</td>\n",
       "      <td>1.000000</td>\n",
       "      <td>1.000000</td>\n",
       "      <td>1.000000</td>\n",
       "      <td>1.000000</td>\n",
       "      <td>1.000000</td>\n",
       "      <td>4.000000</td>\n",
       "      <td>89.000000</td>\n",
       "      <td>22.000000</td>\n",
       "      <td>1.000000</td>\n",
       "    </tr>\n",
       "  </tbody>\n",
       "</table>\n",
       "</div>"
      ],
      "text/plain": [
       "       travelled_more_than_15mins_for_offer  Prefer western over chinese  \\\n",
       "count                          12379.000000                 12379.000000   \n",
       "mean                               0.565393                     0.506665   \n",
       "std                                0.495725                     0.499976   \n",
       "min                                0.000000                     0.000000   \n",
       "25%                                0.000000                     0.000000   \n",
       "50%                                1.000000                     1.000000   \n",
       "75%                                1.000000                     1.000000   \n",
       "max                                1.000000                     1.000000   \n",
       "\n",
       "       travelled_more_than_25mins_for_offer  \\\n",
       "count                          12379.000000   \n",
       "mean                               0.119396   \n",
       "std                                0.324267   \n",
       "min                                0.000000   \n",
       "25%                                0.000000   \n",
       "50%                                0.000000   \n",
       "75%                                0.000000   \n",
       "max                                1.000000   \n",
       "\n",
       "       travelled_more_than_5mins_for_offer  restuarant_same_direction_house  \\\n",
       "count                              12379.0                     12379.000000   \n",
       "mean                                   1.0                         0.213426   \n",
       "std                                    0.0                         0.409742   \n",
       "min                                    1.0                         0.000000   \n",
       "25%                                    1.0                         0.000000   \n",
       "50%                                    1.0                         0.000000   \n",
       "75%                                    1.0                         0.000000   \n",
       "max                                    1.0                         1.000000   \n",
       "\n",
       "       Cooks regularly     is foodie  restuarant_opposite_direction_house  \\\n",
       "count     12379.000000  12379.000000                         12379.000000   \n",
       "mean          0.499556      0.502706                             0.787382   \n",
       "std           0.500020      0.500013                             0.409176   \n",
       "min           0.000000      0.000000                             0.000000   \n",
       "25%           0.000000      0.000000                             1.000000   \n",
       "50%           0.000000      1.000000                             1.000000   \n",
       "75%           1.000000      1.000000                             1.000000   \n",
       "max           1.000000      1.000000                             1.000000   \n",
       "\n",
       "       has Children  visit restaurant with rating (avg)   temperature  \\\n",
       "count  12379.000000                        12379.000000  12379.000000   \n",
       "mean       0.415623                            1.987802     71.139187   \n",
       "std        0.492849                            1.421653     19.215969   \n",
       "min        0.000000                            0.000000     40.000000   \n",
       "25%        0.000000                            1.000000     67.000000   \n",
       "50%        0.000000                            2.000000     67.000000   \n",
       "75%        1.000000                            3.000000     89.000000   \n",
       "max        1.000000                            4.000000     89.000000   \n",
       "\n",
       "        Travel Time  Prefer home food  \n",
       "count  12379.000000      12379.000000  \n",
       "mean      13.947896          0.509815  \n",
       "std        5.395232          0.499924  \n",
       "min        7.000000          0.000000  \n",
       "25%       10.000000          0.000000  \n",
       "50%       14.000000          1.000000  \n",
       "75%       18.000000          1.000000  \n",
       "max       22.000000          1.000000  "
      ]
     },
     "execution_count": 17,
     "metadata": {},
     "output_type": "execute_result"
    }
   ],
   "source": [
    "data_mkt.describe()"
   ]
  },
  {
   "cell_type": "code",
   "execution_count": 18,
   "id": "0d39b8b7",
   "metadata": {
    "execution": {
     "iopub.execute_input": "2022-10-02T15:22:21.580228Z",
     "iopub.status.busy": "2022-10-02T15:22:21.579794Z",
     "iopub.status.idle": "2022-10-02T15:22:21.595576Z",
     "shell.execute_reply": "2022-10-02T15:22:21.594367Z"
    },
    "papermill": {
     "duration": 0.03112,
     "end_time": "2022-10-02T15:22:21.598400",
     "exception": false,
     "start_time": "2022-10-02T15:22:21.567280",
     "status": "completed"
    },
    "tags": []
   },
   "outputs": [],
   "source": [
    "corr_matrix = data_mkt.corr()"
   ]
  },
  {
   "cell_type": "code",
   "execution_count": 19,
   "id": "226bca6f",
   "metadata": {
    "execution": {
     "iopub.execute_input": "2022-10-02T15:22:21.622262Z",
     "iopub.status.busy": "2022-10-02T15:22:21.621831Z",
     "iopub.status.idle": "2022-10-02T15:22:22.878511Z",
     "shell.execute_reply": "2022-10-02T15:22:22.877241Z"
    },
    "papermill": {
     "duration": 1.272324,
     "end_time": "2022-10-02T15:22:22.881963",
     "exception": false,
     "start_time": "2022-10-02T15:22:21.609639",
     "status": "completed"
    },
    "tags": []
   },
   "outputs": [
    {
     "data": {
      "text/plain": [
       "<AxesSubplot:>"
      ]
     },
     "execution_count": 19,
     "metadata": {},
     "output_type": "execute_result"
    },
    {
     "data": {
      "image/png": "[encoded data removed]",
      "text/plain": [
       "<Figure size 1008x504 with 2 Axes>"
      ]
     },
     "metadata": {
      "needs_background": "light"
     },
     "output_type": "display_data"
    }
   ],
   "source": [
    "plt.figure(figsize=(14,7))\n",
    "sns.heatmap(corr_matrix,annot=True)"
   ]
  },
  {
   "cell_type": "code",
   "execution_count": 20,
   "id": "80b7f3f8",
   "metadata": {
    "execution": {
     "iopub.execute_input": "2022-10-02T15:22:22.910247Z",
     "iopub.status.busy": "2022-10-02T15:22:22.909310Z",
     "iopub.status.idle": "2022-10-02T15:22:23.277901Z",
     "shell.execute_reply": "2022-10-02T15:22:23.276754Z"
    },
    "papermill": {
     "duration": 0.385854,
     "end_time": "2022-10-02T15:22:23.281090",
     "exception": false,
     "start_time": "2022-10-02T15:22:22.895236",
     "status": "completed"
    },
    "tags": []
   },
   "outputs": [],
   "source": [
    "from sklearn.impute import SimpleImputer"
   ]
  },
  {
   "cell_type": "code",
   "execution_count": 21,
   "id": "9fb60d71",
   "metadata": {
    "execution": {
     "iopub.execute_input": "2022-10-02T15:22:23.309467Z",
     "iopub.status.busy": "2022-10-02T15:22:23.309052Z",
     "iopub.status.idle": "2022-10-02T15:22:23.313980Z",
     "shell.execute_reply": "2022-10-02T15:22:23.312902Z"
    },
    "papermill": {
     "duration": 0.021652,
     "end_time": "2022-10-02T15:22:23.316202",
     "exception": false,
     "start_time": "2022-10-02T15:22:23.294550",
     "status": "completed"
    },
    "tags": []
   },
   "outputs": [],
   "source": [
    "si=SimpleImputer(strategy=\"most_frequent\")"
   ]
  },
  {
   "cell_type": "code",
   "execution_count": 22,
   "id": "64cc05c5",
   "metadata": {
    "execution": {
     "iopub.execute_input": "2022-10-02T15:22:23.344620Z",
     "iopub.status.busy": "2022-10-02T15:22:23.344203Z",
     "iopub.status.idle": "2022-10-02T15:22:23.439215Z",
     "shell.execute_reply": "2022-10-02T15:22:23.437922Z"
    },
    "papermill": {
     "duration": 0.112202,
     "end_time": "2022-10-02T15:22:23.441856",
     "exception": false,
     "start_time": "2022-10-02T15:22:23.329654",
     "status": "completed"
    },
    "tags": []
   },
   "outputs": [],
   "source": [
    "data_imputed = si.fit_transform(data_mkt)"
   ]
  },
  {
   "cell_type": "code",
   "execution_count": 23,
   "id": "c7ceb07d",
   "metadata": {
    "execution": {
     "iopub.execute_input": "2022-10-02T15:22:23.470305Z",
     "iopub.status.busy": "2022-10-02T15:22:23.469899Z",
     "iopub.status.idle": "2022-10-02T15:22:23.492161Z",
     "shell.execute_reply": "2022-10-02T15:22:23.491221Z"
    },
    "papermill": {
     "duration": 0.039144,
     "end_time": "2022-10-02T15:22:23.494474",
     "exception": false,
     "start_time": "2022-10-02T15:22:23.455330",
     "status": "completed"
    },
    "tags": []
   },
   "outputs": [],
   "source": [
    "cols=['offer expiration', 'income_range', 'no_visited_Cold drinks',\n",
    "       'travelled_more_than_15mins_for_offer', 'Restaur_spend_less_than20',\n",
    "       'Marital Status', 'restaurant type', 'age',\n",
    "       'Prefer western over chinese', 'travelled_more_than_25mins_for_offer',\n",
    "       'travelled_more_than_5mins_for_offer', 'no_visited_bars', 'gender',\n",
    "        'restuarant_same_direction_house', 'Cooks regularly',\n",
    "       'Customer type', 'Qualification', 'is foodie', 'no_Take-aways',\n",
    "       'Job/Job Industry', 'restuarant_opposite_direction_house',\n",
    "       'has Children', 'visit restaurant with rating (avg)', 'temperature',\n",
    "       'Restaur_spend_greater_than20', 'Travel Time', 'Climate',\n",
    "       'drop location', 'Prefer home food', 'Offer Accepted']\n",
    "data_imputed = pd.DataFrame(data_imputed,columns=cols)"
   ]
  },
  {
   "cell_type": "code",
   "execution_count": 24,
   "id": "14afcac3",
   "metadata": {
    "execution": {
     "iopub.execute_input": "2022-10-02T15:22:23.522569Z",
     "iopub.status.busy": "2022-10-02T15:22:23.521795Z",
     "iopub.status.idle": "2022-10-02T15:22:23.545964Z",
     "shell.execute_reply": "2022-10-02T15:22:23.545159Z"
    },
    "papermill": {
     "duration": 0.040374,
     "end_time": "2022-10-02T15:22:23.548131",
     "exception": false,
     "start_time": "2022-10-02T15:22:23.507757",
     "status": "completed"
    },
    "tags": []
   },
   "outputs": [
    {
     "data": {
      "text/plain": [
       "offer expiration                        0\n",
       "income_range                            0\n",
       "no_visited_Cold drinks                  0\n",
       "travelled_more_than_15mins_for_offer    0\n",
       "Restaur_spend_less_than20               0\n",
       "Marital Status                          0\n",
       "restaurant type                         0\n",
       "age                                     0\n",
       "Prefer western over chinese             0\n",
       "travelled_more_than_25mins_for_offer    0\n",
       "travelled_more_than_5mins_for_offer     0\n",
       "no_visited_bars                         0\n",
       "gender                                  0\n",
       "restuarant_same_direction_house         0\n",
       "Cooks regularly                         0\n",
       "Customer type                           0\n",
       "Qualification                           0\n",
       "is foodie                               0\n",
       "no_Take-aways                           0\n",
       "Job/Job Industry                        0\n",
       "restuarant_opposite_direction_house     0\n",
       "has Children                            0\n",
       "visit restaurant with rating (avg)      0\n",
       "temperature                             0\n",
       "Restaur_spend_greater_than20            0\n",
       "Travel Time                             0\n",
       "Climate                                 0\n",
       "drop location                           0\n",
       "Prefer home food                        0\n",
       "Offer Accepted                          0\n",
       "dtype: int64"
      ]
     },
     "execution_count": 24,
     "metadata": {},
     "output_type": "execute_result"
    }
   ],
   "source": [
    "data_imputed.isnull().sum()"
   ]
  },
  {
   "cell_type": "code",
   "execution_count": 25,
   "id": "f6e01f4d",
   "metadata": {
    "execution": {
     "iopub.execute_input": "2022-10-02T15:22:23.575989Z",
     "iopub.status.busy": "2022-10-02T15:22:23.575619Z",
     "iopub.status.idle": "2022-10-02T15:22:23.609976Z",
     "shell.execute_reply": "2022-10-02T15:22:23.608726Z"
    },
    "papermill": {
     "duration": 0.051562,
     "end_time": "2022-10-02T15:22:23.612871",
     "exception": false,
     "start_time": "2022-10-02T15:22:23.561309",
     "status": "completed"
    },
    "tags": []
   },
   "outputs": [
    {
     "name": "stdout",
     "output_type": "stream",
     "text": [
      "['2days' '10hours']\n",
      "offer expiration\n",
      "['₹100000 or More' '₹87500 - ₹99999' '₹37500 - ₹49999' 'Less than ₹12500'\n",
      " '₹50000 - ₹62499' '₹12500 - ₹24999' '₹75000 - ₹87499' '₹25000 - ₹37499'\n",
      " '₹62500 - ₹74999']\n",
      "income_range\n",
      "['4~8' 'less1' 'never' '1~3' 'gt8']\n",
      "no_visited_Cold drinks\n",
      "[1 0]\n",
      "travelled_more_than_15mins_for_offer\n",
      "['less1' '4~8' '1~3' 'gt8' 'never']\n",
      "Restaur_spend_less_than20\n",
      "['Married partner' 'Single' 'Divorced' 'Unmarried partner' 'Widowed']\n",
      "Marital Status\n",
      "['4 star restaurant' 'Take-away restaurant' 'Cold drinks'\n",
      " 'Restaurant with pub' '2 star restaurant']\n",
      "restaurant type\n",
      "['36' '50plus' '26' '46' '21' 'below21' '41' '31']\n",
      "age\n",
      "[0 1]\n",
      "Prefer western over chinese\n",
      "[0 1]\n",
      "travelled_more_than_25mins_for_offer\n",
      "[1]\n",
      "travelled_more_than_5mins_for_offer\n",
      "['less1' 'never' '1~3' '4~8' 'gt8']\n",
      "no_visited_bars\n",
      "['Female' 'Male']\n",
      "gender\n",
      "[0 1]\n",
      "restuarant_same_direction_house\n",
      "[1 0]\n",
      "Cooks regularly\n",
      "['Individual' 'With Family' 'With Kids' 'With Colleagues']\n",
      "Customer type\n",
      "['Bachelors degree' 'Some college - no degree'\n",
      " 'Graduate degree (Masters or Doctorate)' 'Associates degree'\n",
      " 'High School Graduate' 'Some High School']\n",
      "Qualification\n",
      "[0 1]\n",
      "is foodie\n",
      "['1~3' 'gt8' '4~8' 'less1' 'never']\n",
      "no_Take-aways\n",
      "['Unemployed' 'Arts Design Entertainment Sports & Media' 'Sales & Related'\n",
      " 'Student' 'Business & Financial' 'Computer & Mathematical'\n",
      " 'Office & Administrative Support' 'Management' 'Healthcare Support'\n",
      " 'Life Physical Social Science' 'Installation Maintenance & Repair'\n",
      " 'Legal' 'Community & Social Services' 'Education&Training&Library'\n",
      " 'Construction & Extraction' 'Healthcare Practitioners & Technical'\n",
      " 'Transportation & Material Moving' 'Retired' 'Architecture & Engineering'\n",
      " 'Production Occupations' 'Farming Fishing & Forestry'\n",
      " 'Protective Service' 'Personal Care & Service'\n",
      " 'Food Preparation & Serving Related'\n",
      " 'Building & Grounds Cleaning & Maintenance']\n",
      "Job/Job Industry\n",
      "[0 1]\n",
      "restuarant_opposite_direction_house\n",
      "[0 1]\n",
      "has Children\n",
      "[4 3 0 1 2]\n",
      "visit restaurant with rating (avg)\n",
      "[67 89 40]\n",
      "temperature\n",
      "['less1' '1~3' 'never' 'gt8' '4~8']\n",
      "Restaur_spend_greater_than20\n",
      "[22 18 7 10 14]\n",
      "Travel Time\n",
      "['Spring' 'Summer' 'Winter']\n",
      "Climate\n",
      "['Location B' 'Location A' 'Location C']\n",
      "drop location\n",
      "[0 1]\n",
      "Prefer home food\n",
      "['No' 'Yes']\n",
      "Offer Accepted\n"
     ]
    }
   ],
   "source": [
    "for column in data_imputed.columns:\n",
    "    print(data_imputed[column].unique())\n",
    "    print(column)"
   ]
  },
  {
   "cell_type": "code",
   "execution_count": 26,
   "id": "3b4c7999",
   "metadata": {
    "execution": {
     "iopub.execute_input": "2022-10-02T15:22:23.641139Z",
     "iopub.status.busy": "2022-10-02T15:22:23.640714Z",
     "iopub.status.idle": "2022-10-02T15:22:23.650384Z",
     "shell.execute_reply": "2022-10-02T15:22:23.649116Z"
    },
    "papermill": {
     "duration": 0.026355,
     "end_time": "2022-10-02T15:22:23.652486",
     "exception": false,
     "start_time": "2022-10-02T15:22:23.626131",
     "status": "completed"
    },
    "tags": []
   },
   "outputs": [],
   "source": [
    "# Coding of undecipherable inputs in all columns requiring ordinal encoding\n",
    "dec_num = {\"offer expiration\":{\"2days\":1,'10hours':2},\"income_range\":{'Less than ₹12500':1,'₹12500 - ₹24999':2,'₹25000 - ₹37499':3,'₹37500 - ₹49999':4,'₹50000 - ₹62499':5,'₹62500 - ₹74999':6,'₹75000 - ₹87499':7,'₹87500 - ₹99999':8, '₹100000 or More':9},'no_visited_Cold drinks'\n",
    ":{'never':1,'less1': 2,'1~3': 3, '4~8': 4, 'gt8':5},\"Restaur_spend_less_than20\" :{'less1':1,'1~3':2,'4~8':3,'gt8':4,'never':5},\"restaurant type\":{'Cold drinks':1,'Take-away restaurant':2,'Restaurant with pub':3,'2 star restaurant':4,'4 star restaurant':5},\"age\":{'below21':1,'21':2,'26':3,'31':4,'36':5,'41':6,'46':7,'50plus':8},\"no_Take-aways\":{'never':1,'less1':2,'1~3':3,'4~8':4,'gt8':5},'no_visited_bars'\n",
    ":{'never':1,'less1':2,'1~3':3,'4~8':4,'gt8':5},\"Restaur_spend_greater_than20\" :{'less1':1,'1~3':2,'4~8':3,'gt8':4,'never':5}}"
   ]
  },
  {
   "cell_type": "code",
   "execution_count": 27,
   "id": "46a9ce70",
   "metadata": {
    "execution": {
     "iopub.execute_input": "2022-10-02T15:22:23.680542Z",
     "iopub.status.busy": "2022-10-02T15:22:23.680145Z",
     "iopub.status.idle": "2022-10-02T15:22:23.774883Z",
     "shell.execute_reply": "2022-10-02T15:22:23.773874Z"
    },
    "papermill": {
     "duration": 0.111751,
     "end_time": "2022-10-02T15:22:23.777550",
     "exception": false,
     "start_time": "2022-10-02T15:22:23.665799",
     "status": "completed"
    },
    "tags": []
   },
   "outputs": [],
   "source": [
    "data_imputed = data_imputed.replace(dec_num)"
   ]
  },
  {
   "cell_type": "code",
   "execution_count": 28,
   "id": "a1403eb6",
   "metadata": {
    "execution": {
     "iopub.execute_input": "2022-10-02T15:22:23.805758Z",
     "iopub.status.busy": "2022-10-02T15:22:23.805355Z",
     "iopub.status.idle": "2022-10-02T15:22:23.834884Z",
     "shell.execute_reply": "2022-10-02T15:22:23.833759Z"
    },
    "papermill": {
     "duration": 0.046412,
     "end_time": "2022-10-02T15:22:23.837403",
     "exception": false,
     "start_time": "2022-10-02T15:22:23.790991",
     "status": "completed"
    },
    "tags": []
   },
   "outputs": [
    {
     "data": {
      "text/html": [
       "<div>\n",
       "<style scoped>\n",
       "    .dataframe tbody tr th:only-of-type {\n",
       "        vertical-align: middle;\n",
       "    }\n",
       "\n",
       "    .dataframe tbody tr th {\n",
       "        vertical-align: top;\n",
       "    }\n",
       "\n",
       "    .dataframe thead th {\n",
       "        text-align: right;\n",
       "    }\n",
       "</style>\n",
       "<table border=\"1\" class=\"dataframe\">\n",
       "  <thead>\n",
       "    <tr style=\"text-align: right;\">\n",
       "      <th></th>\n",
       "      <th>offer expiration</th>\n",
       "      <th>income_range</th>\n",
       "      <th>no_visited_Cold drinks</th>\n",
       "      <th>travelled_more_than_15mins_for_offer</th>\n",
       "      <th>Restaur_spend_less_than20</th>\n",
       "      <th>Marital Status</th>\n",
       "      <th>restaurant type</th>\n",
       "      <th>age</th>\n",
       "      <th>Prefer western over chinese</th>\n",
       "      <th>travelled_more_than_25mins_for_offer</th>\n",
       "      <th>...</th>\n",
       "      <th>restuarant_opposite_direction_house</th>\n",
       "      <th>has Children</th>\n",
       "      <th>visit restaurant with rating (avg)</th>\n",
       "      <th>temperature</th>\n",
       "      <th>Restaur_spend_greater_than20</th>\n",
       "      <th>Travel Time</th>\n",
       "      <th>Climate</th>\n",
       "      <th>drop location</th>\n",
       "      <th>Prefer home food</th>\n",
       "      <th>Offer Accepted</th>\n",
       "    </tr>\n",
       "  </thead>\n",
       "  <tbody>\n",
       "    <tr>\n",
       "      <th>0</th>\n",
       "      <td>1</td>\n",
       "      <td>9</td>\n",
       "      <td>4</td>\n",
       "      <td>1</td>\n",
       "      <td>1</td>\n",
       "      <td>Married partner</td>\n",
       "      <td>5</td>\n",
       "      <td>5</td>\n",
       "      <td>0</td>\n",
       "      <td>0</td>\n",
       "      <td>...</td>\n",
       "      <td>0</td>\n",
       "      <td>0</td>\n",
       "      <td>4</td>\n",
       "      <td>67</td>\n",
       "      <td>1</td>\n",
       "      <td>22</td>\n",
       "      <td>Spring</td>\n",
       "      <td>Location B</td>\n",
       "      <td>0</td>\n",
       "      <td>No</td>\n",
       "    </tr>\n",
       "    <tr>\n",
       "      <th>1</th>\n",
       "      <td>1</td>\n",
       "      <td>8</td>\n",
       "      <td>4</td>\n",
       "      <td>0</td>\n",
       "      <td>3</td>\n",
       "      <td>Married partner</td>\n",
       "      <td>2</td>\n",
       "      <td>8</td>\n",
       "      <td>0</td>\n",
       "      <td>0</td>\n",
       "      <td>...</td>\n",
       "      <td>0</td>\n",
       "      <td>1</td>\n",
       "      <td>3</td>\n",
       "      <td>89</td>\n",
       "      <td>2</td>\n",
       "      <td>18</td>\n",
       "      <td>Summer</td>\n",
       "      <td>Location B</td>\n",
       "      <td>0</td>\n",
       "      <td>Yes</td>\n",
       "    </tr>\n",
       "    <tr>\n",
       "      <th>2</th>\n",
       "      <td>1</td>\n",
       "      <td>8</td>\n",
       "      <td>2</td>\n",
       "      <td>1</td>\n",
       "      <td>2</td>\n",
       "      <td>Single</td>\n",
       "      <td>1</td>\n",
       "      <td>3</td>\n",
       "      <td>1</td>\n",
       "      <td>0</td>\n",
       "      <td>...</td>\n",
       "      <td>1</td>\n",
       "      <td>1</td>\n",
       "      <td>4</td>\n",
       "      <td>67</td>\n",
       "      <td>1</td>\n",
       "      <td>7</td>\n",
       "      <td>Winter</td>\n",
       "      <td>Location A</td>\n",
       "      <td>1</td>\n",
       "      <td>Yes</td>\n",
       "    </tr>\n",
       "    <tr>\n",
       "      <th>3</th>\n",
       "      <td>2</td>\n",
       "      <td>4</td>\n",
       "      <td>2</td>\n",
       "      <td>0</td>\n",
       "      <td>2</td>\n",
       "      <td>Single</td>\n",
       "      <td>2</td>\n",
       "      <td>7</td>\n",
       "      <td>1</td>\n",
       "      <td>0</td>\n",
       "      <td>...</td>\n",
       "      <td>0</td>\n",
       "      <td>1</td>\n",
       "      <td>3</td>\n",
       "      <td>89</td>\n",
       "      <td>2</td>\n",
       "      <td>7</td>\n",
       "      <td>Summer</td>\n",
       "      <td>Location C</td>\n",
       "      <td>0</td>\n",
       "      <td>No</td>\n",
       "    </tr>\n",
       "    <tr>\n",
       "      <th>4</th>\n",
       "      <td>1</td>\n",
       "      <td>9</td>\n",
       "      <td>1</td>\n",
       "      <td>1</td>\n",
       "      <td>2</td>\n",
       "      <td>Single</td>\n",
       "      <td>5</td>\n",
       "      <td>2</td>\n",
       "      <td>0</td>\n",
       "      <td>1</td>\n",
       "      <td>...</td>\n",
       "      <td>1</td>\n",
       "      <td>0</td>\n",
       "      <td>3</td>\n",
       "      <td>40</td>\n",
       "      <td>1</td>\n",
       "      <td>7</td>\n",
       "      <td>Summer</td>\n",
       "      <td>Location C</td>\n",
       "      <td>0</td>\n",
       "      <td>No</td>\n",
       "    </tr>\n",
       "  </tbody>\n",
       "</table>\n",
       "<p>5 rows × 30 columns</p>\n",
       "</div>"
      ],
      "text/plain": [
       "   offer expiration  income_range  no_visited_Cold drinks  \\\n",
       "0                 1             9                       4   \n",
       "1                 1             8                       4   \n",
       "2                 1             8                       2   \n",
       "3                 2             4                       2   \n",
       "4                 1             9                       1   \n",
       "\n",
       "  travelled_more_than_15mins_for_offer  Restaur_spend_less_than20  \\\n",
       "0                                    1                          1   \n",
       "1                                    0                          3   \n",
       "2                                    1                          2   \n",
       "3                                    0                          2   \n",
       "4                                    1                          2   \n",
       "\n",
       "    Marital Status  restaurant type  age Prefer western over chinese  \\\n",
       "0  Married partner                5    5                           0   \n",
       "1  Married partner                2    8                           0   \n",
       "2           Single                1    3                           1   \n",
       "3           Single                2    7                           1   \n",
       "4           Single                5    2                           0   \n",
       "\n",
       "  travelled_more_than_25mins_for_offer  ...  \\\n",
       "0                                    0  ...   \n",
       "1                                    0  ...   \n",
       "2                                    0  ...   \n",
       "3                                    0  ...   \n",
       "4                                    1  ...   \n",
       "\n",
       "  restuarant_opposite_direction_house  has Children  \\\n",
       "0                                   0             0   \n",
       "1                                   0             1   \n",
       "2                                   1             1   \n",
       "3                                   0             1   \n",
       "4                                   1             0   \n",
       "\n",
       "  visit restaurant with rating (avg) temperature Restaur_spend_greater_than20  \\\n",
       "0                                  4          67                            1   \n",
       "1                                  3          89                            2   \n",
       "2                                  4          67                            1   \n",
       "3                                  3          89                            2   \n",
       "4                                  3          40                            1   \n",
       "\n",
       "  Travel Time Climate drop location  Prefer home food Offer Accepted  \n",
       "0          22  Spring    Location B                 0             No  \n",
       "1          18  Summer    Location B                 0            Yes  \n",
       "2           7  Winter    Location A                 1            Yes  \n",
       "3           7  Summer    Location C                 0             No  \n",
       "4           7  Summer    Location C                 0             No  \n",
       "\n",
       "[5 rows x 30 columns]"
      ]
     },
     "execution_count": 28,
     "metadata": {},
     "output_type": "execute_result"
    }
   ],
   "source": [
    "data_imputed[:5]"
   ]
  },
  {
   "cell_type": "code",
   "execution_count": 29,
   "id": "9c5bd7f6",
   "metadata": {
    "execution": {
     "iopub.execute_input": "2022-10-02T15:22:23.865837Z",
     "iopub.status.busy": "2022-10-02T15:22:23.865402Z",
     "iopub.status.idle": "2022-10-02T15:22:23.872438Z",
     "shell.execute_reply": "2022-10-02T15:22:23.871661Z"
    },
    "papermill": {
     "duration": 0.023576,
     "end_time": "2022-10-02T15:22:23.874462",
     "exception": false,
     "start_time": "2022-10-02T15:22:23.850886",
     "status": "completed"
    },
    "tags": []
   },
   "outputs": [
    {
     "data": {
      "text/plain": [
       "Index(['offer expiration', 'income_range', 'no_visited_Cold drinks',\n",
       "       'travelled_more_than_15mins_for_offer', 'Restaur_spend_less_than20',\n",
       "       'Marital Status', 'restaurant type', 'age',\n",
       "       'Prefer western over chinese', 'travelled_more_than_25mins_for_offer',\n",
       "       'travelled_more_than_5mins_for_offer', 'no_visited_bars', 'gender',\n",
       "       'restuarant_same_direction_house', 'Cooks regularly', 'Customer type',\n",
       "       'Qualification', 'is foodie', 'no_Take-aways', 'Job/Job Industry',\n",
       "       'restuarant_opposite_direction_house', 'has Children',\n",
       "       'visit restaurant with rating (avg)', 'temperature',\n",
       "       'Restaur_spend_greater_than20', 'Travel Time', 'Climate',\n",
       "       'drop location', 'Prefer home food', 'Offer Accepted'],\n",
       "      dtype='object')"
      ]
     },
     "execution_count": 29,
     "metadata": {},
     "output_type": "execute_result"
    }
   ],
   "source": [
    "data_imputed.columns"
   ]
  },
  {
   "cell_type": "code",
   "execution_count": 30,
   "id": "16a40376",
   "metadata": {
    "execution": {
     "iopub.execute_input": "2022-10-02T15:22:23.903343Z",
     "iopub.status.busy": "2022-10-02T15:22:23.902906Z",
     "iopub.status.idle": "2022-10-02T15:22:23.909445Z",
     "shell.execute_reply": "2022-10-02T15:22:23.908381Z"
    },
    "papermill": {
     "duration": 0.02336,
     "end_time": "2022-10-02T15:22:23.911624",
     "exception": false,
     "start_time": "2022-10-02T15:22:23.888264",
     "status": "completed"
    },
    "tags": []
   },
   "outputs": [],
   "source": [
    "#Encoding\n",
    "\n",
    "num_attrib = [\"temperature\", \"Travel Time\"]\n",
    "nom_attrib = [\"travelled_more_than_15mins_for_offer\",\"Marital Status\",\"Prefer western over chinese\",\"Qualification\",\"travelled_more_than_25mins_for_offer\",\"travelled_more_than_5mins_for_offer\",\"gender\",\"restuarant_same_direction_house\",\"Cooks regularly\",\"Customer type\",\"is foodie\",\"Job/Job Industry\",\"restuarant_opposite_direction_house\",\"has Children\",\"Climate\",\"drop location\",\"Prefer home food\",\"Offer Accepted\"]\n",
    "              \n",
    "ord_attrib = [\"offer expiration\",\"income_range\",\"no_visited_Cold drinks\",\"Restaur_spend_less_than20\",\"restaurant type\",\"no_Take-aways\",\"no_visited_bars\",\"age\",\"Restaur_spend_greater_than20\",\"visit restaurant with rating (avg)\"]"
   ]
  },
  {
   "cell_type": "code",
   "execution_count": 31,
   "id": "8dcdbc2c",
   "metadata": {
    "execution": {
     "iopub.execute_input": "2022-10-02T15:22:23.940559Z",
     "iopub.status.busy": "2022-10-02T15:22:23.940173Z",
     "iopub.status.idle": "2022-10-02T15:22:23.945679Z",
     "shell.execute_reply": "2022-10-02T15:22:23.944524Z"
    },
    "papermill": {
     "duration": 0.022754,
     "end_time": "2022-10-02T15:22:23.947995",
     "exception": false,
     "start_time": "2022-10-02T15:22:23.925241",
     "status": "completed"
    },
    "tags": []
   },
   "outputs": [
    {
     "name": "stdout",
     "output_type": "stream",
     "text": [
      "30\n"
     ]
    }
   ],
   "source": [
    "print(len(num_attrib)+len(nom_attrib)+len(ord_attrib))"
   ]
  },
  {
   "cell_type": "code",
   "execution_count": 32,
   "id": "15367a30",
   "metadata": {
    "execution": {
     "iopub.execute_input": "2022-10-02T15:22:23.977719Z",
     "iopub.status.busy": "2022-10-02T15:22:23.977257Z",
     "iopub.status.idle": "2022-10-02T15:22:23.983429Z",
     "shell.execute_reply": "2022-10-02T15:22:23.982618Z"
    },
    "papermill": {
     "duration": 0.023897,
     "end_time": "2022-10-02T15:22:23.985677",
     "exception": false,
     "start_time": "2022-10-02T15:22:23.961780",
     "status": "completed"
    },
    "tags": []
   },
   "outputs": [],
   "source": [
    "from sklearn.pipeline import Pipeline"
   ]
  },
  {
   "cell_type": "code",
   "execution_count": 33,
   "id": "c07ef5d9",
   "metadata": {
    "execution": {
     "iopub.execute_input": "2022-10-02T15:22:24.015566Z",
     "iopub.status.busy": "2022-10-02T15:22:24.015185Z",
     "iopub.status.idle": "2022-10-02T15:22:24.026786Z",
     "shell.execute_reply": "2022-10-02T15:22:24.025845Z"
    },
    "papermill": {
     "duration": 0.029743,
     "end_time": "2022-10-02T15:22:24.029349",
     "exception": false,
     "start_time": "2022-10-02T15:22:23.999606",
     "status": "completed"
    },
    "tags": []
   },
   "outputs": [],
   "source": [
    "from sklearn.preprocessing import OrdinalEncoder\n",
    "from sklearn.preprocessing import OneHotEncoder\n",
    "from sklearn.preprocessing import StandardScaler\n",
    "from sklearn.preprocessing import MinMaxScaler\n",
    "from sklearn.compose import ColumnTransformer"
   ]
  },
  {
   "cell_type": "code",
   "execution_count": 34,
   "id": "c28e0728",
   "metadata": {
    "execution": {
     "iopub.execute_input": "2022-10-02T15:22:24.059395Z",
     "iopub.status.busy": "2022-10-02T15:22:24.058186Z",
     "iopub.status.idle": "2022-10-02T15:22:24.206862Z",
     "shell.execute_reply": "2022-10-02T15:22:24.205740Z"
    },
    "papermill": {
     "duration": 0.166866,
     "end_time": "2022-10-02T15:22:24.210195",
     "exception": false,
     "start_time": "2022-10-02T15:22:24.043329",
     "status": "completed"
    },
    "tags": []
   },
   "outputs": [
    {
     "data": {
      "text/plain": [
       "array([8., 7., 7., ..., 7., 1., 3.])"
      ]
     },
     "execution_count": 34,
     "metadata": {},
     "output_type": "execute_result"
    }
   ],
   "source": [
    "t= [(\"num\",MinMaxScaler(),num_attrib),(\"ord\",OrdinalEncoder(),ord_attrib),(\"cat\",OneHotEncoder(sparse=False),nom_attrib)]\n",
    "\n",
    "pipeline = ColumnTransformer(transformers=t)\n",
    "\n",
    "data_encoded = pipeline.fit_transform(data_imputed)\n",
    "\n",
    "data_encoded[:,3]\n"
   ]
  },
  {
   "cell_type": "raw",
   "id": "77c34623",
   "metadata": {
    "execution": {
     "iopub.execute_input": "2022-10-02T14:23:08.844515Z",
     "iopub.status.busy": "2022-10-02T14:23:08.844104Z",
     "iopub.status.idle": "2022-10-02T14:23:08.852391Z",
     "shell.execute_reply": "2022-10-02T14:23:08.851135Z",
     "shell.execute_reply.started": "2022-10-02T14:23:08.844483Z"
    },
    "papermill": {
     "duration": 0.013965,
     "end_time": "2022-10-02T15:22:24.242760",
     "exception": false,
     "start_time": "2022-10-02T15:22:24.228795",
     "status": "completed"
    },
    "tags": []
   },
   "source": [
    "cols = num_attrib+ord_attrib+nom_attrib\n",
    "print(cols)"
   ]
  },
  {
   "cell_type": "code",
   "execution_count": 35,
   "id": "f42bd2ed",
   "metadata": {
    "execution": {
     "iopub.execute_input": "2022-10-02T15:22:24.275005Z",
     "iopub.status.busy": "2022-10-02T15:22:24.274353Z",
     "iopub.status.idle": "2022-10-02T15:22:24.281438Z",
     "shell.execute_reply": "2022-10-02T15:22:24.280195Z"
    },
    "papermill": {
     "duration": 0.026708,
     "end_time": "2022-10-02T15:22:24.284581",
     "exception": false,
     "start_time": "2022-10-02T15:22:24.257873",
     "status": "completed"
    },
    "tags": []
   },
   "outputs": [
    {
     "name": "stdout",
     "output_type": "stream",
     "text": [
      "['temperature', 'Travel Time', 'offer expiration', 'income_range', 'no_visited_Cold drinks', 'Restaur_spend_less_than20', 'restaurant type', 'no_Take-aways', 'no_visited_bars', 'age', 'Restaur_spend_greater_than20', 'visit restaurant with rating (avg)', 'travelled_more_than_15mins_for_offer', 'Marital Status', 'Prefer western over chinese', 'Qualification', 'travelled_more_than_25mins_for_offer', 'travelled_more_than_5mins_for_offer', 'gender', 'restuarant_same_direction_house', 'Cooks regularly', 'Customer type', 'is foodie', 'Job/Job Industry', 'restuarant_opposite_direction_house', 'has Children', 'Climate', 'drop location', 'Prefer home food', 'Offer Accepted']\n"
     ]
    }
   ],
   "source": [
    "cols = num_attrib+ord_attrib+nom_attrib\n",
    "print(cols)"
   ]
  }
 ],
 "metadata": {
  "kernelspec": {
   "display_name": "Python 3",
   "language": "python",
   "name": "python3"
  },
  "language_info": {
   "codemirror_mode": {
    "name": "ipython",
    "version": 3
   },
   "file_extension": ".py",
   "mimetype": "text/x-python",
   "name": "python",
   "nbconvert_exporter": "python",
   "pygments_lexer": "ipython3",
   "version": "3.7.12"
  },
  "papermill": {
   "default_parameters": {},
   "duration": 15.176657,
   "end_time": "2022-10-02T15:22:25.121601",
   "environment_variables": {},
   "exception": null,
   "input_path": "__notebook__.ipynb",
   "output_path": "__notebook__.ipynb",
   "parameters": {},
   "start_time": "2022-10-02T15:22:09.944944",
   "version": "2.3.4"
  }
 },
 "nbformat": 4,
 "nbformat_minor": 5
}
